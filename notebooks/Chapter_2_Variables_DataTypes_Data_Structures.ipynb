{
 "cells": [
  {
   "cell_type": "markdown",
   "id": "0a7cde78",
   "metadata": {},
   "source": [
    "<hr style=\"width:100%;height:4px;border-width:0;color:gray;background-color:#003d59; opacity:0.25\"> \n",
    "\n",
    "![Analysis Function and DSC Logo](../images/AF_DSC_banner.png)\n",
    "<hr style=\"width:100%;height:4px;border-width:0;color:gray;background-color:#003d59; opacity:0.25\"> "
   ]
  },
  {
   "cell_type": "markdown",
   "id": "3dcc7711",
   "metadata": {},
   "source": [
    "# Introduction to Python\n",
    "\n",
    "## Chapter 2 - Variables, Data Types and Data Structures\n",
    "\n",
    "*Chapter Overview and Learning Objectives*:\n",
    "\n",
    "\n",
    "* [Identifiers](#identifiers)\n",
    "    - Variables\n",
    "    - Naming objects\n",
    "    - Naming conventions\n",
    "\n",
    "\n",
    "* [Data Types](#data_types)\n",
    "  - Numerics\n",
    "  - Strings\n",
    "  - Booleans\n",
    "  - Type Conversion\n",
    "\n",
    "\n",
    "* [Data Structures](#objects)\n",
    "  - Lists\n",
    "  - Tuples\n",
    "  - Dictionaries\n",
    "  - Indexing\n",
    "  - Accessing functions, methods and attributes\n",
    "\n",
    "\n",
    "* [Pandas Objects](#pandas_objects)\n",
    "  - Packages\n",
    "  - Importing Pandas\n",
    "  - Series\n",
    "  - Data Frame\n",
    "\n",
    "\n",
    "* [Accessing Help](#help)\n",
    "\n",
    "<a id='identifiers'></a>"
   ]
  },
  {
   "cell_type": "markdown",
   "id": "6b83687e",
   "metadata": {},
   "source": [
    "<hr style=\"width:100%;height:4px;border-width:0;color:gray;background-color:#003d59; opacity:1\">"
   ]
  },
  {
   "cell_type": "markdown",
   "id": "2d0eb657",
   "metadata": {},
   "source": [
    "# Identifiers\n",
    "\n",
    "Python is an \"object orientated programming language\", which means that Python everything is an \"object\". Diving deep into what this means is far beyond the scope of this course, but you can think of an object as a collection of **data** (known as variables) and **methods** (known as functions, covered later) that act on those data. Each object is known as an **instance** (like an example of) of a larger group called a **class**, which is the blueprint for what each of those objects are and the methods they hold. \n",
    "\n",
    "For more information, consult the **Object Oriented Programming in Python** course on the Learning hub, but ensure that you are fully comfortable and practiced with the content covered in **both** Core parts 1 and 2 in this course. \n",
    "\n",
    "We’ll look at some of the most common objects in this section, like lists, tuples and dictionaries. We’ll also look at some specialised objects that are specific to certain Python **packages**, such as series and data frames from the Pandas package.\n",
    "\n",
    "\n",
    "## Variables\n",
    "\n",
    "When we create objects in Python we assign it to a variable. Variables are words and numbers that act like labels; a reference to an object that lives in memory. Without this variable we can’t “find” the object again in memory and won’t be able to use it for analysis purposes.\n",
    "\n",
    "In Python we assign variables using the equals sign ( `=` ), where our label (or variable name) goes on the left and the object we want to store goes on the right. Unlike other languages, in Python we do not have to state the data type of the variable we are storing in memory.\n",
    " \n",
    "### Example"
   ]
  },
  {
   "cell_type": "code",
   "execution_count": null,
   "id": "4fb5e17b",
   "metadata": {},
   "outputs": [],
   "source": [
    "x = 4 + 3"
   ]
  },
  {
   "cell_type": "markdown",
   "id": "21e226a3",
   "metadata": {},
   "source": [
    "Here we are storing an object (the sum of 4 + 3) and giving it the label of x. However, you’ll notice that when we run the cell above it does not output the value of x.\n",
    "\n",
    "To see the value of x we can give Python the variable name, run the cell and it will output the value assigned to that variable."
   ]
  },
  {
   "cell_type": "code",
   "execution_count": null,
   "id": "c7916255",
   "metadata": {},
   "outputs": [],
   "source": [
    "x"
   ]
  },
  {
   "cell_type": "markdown",
   "id": "754dd180",
   "metadata": {},
   "source": [
    "Why do we have to ask Jupyter to output things? \n",
    "\n",
    "When we assign a variable Python keeps it stored within memory for later use. While we’re learning or testing our code we may want to check our outputs regularly. However, once we’re confident the code operates as expected, outputting every stage isn’t necessary, in fact it’s not an efficient use of memory and is often discouraged.\n",
    "\n",
    "What if we want to create two variables and output them?\n",
    "\n",
    "### Example"
   ]
  },
  {
   "cell_type": "code",
   "execution_count": null,
   "id": "e6f97a14",
   "metadata": {},
   "outputs": [],
   "source": [
    "x = 4 + 3\n",
    "y = \"Hello\""
   ]
  },
  {
   "cell_type": "code",
   "execution_count": null,
   "id": "79be2b9e",
   "metadata": {},
   "outputs": [],
   "source": [
    "x\n",
    "y"
   ]
  },
  {
   "cell_type": "markdown",
   "id": "321338d9",
   "metadata": {},
   "source": [
    "If the above code is run in Jupyter you will only see the output for the value of y. This is because jupyter prints one output per cell by default. As such, this ends up being y as it was run last in the chain of codes. \n",
    "\n",
    "Note that the software used to create this HTML outputs both values - so the output of the above cell has been supressed.\n",
    "\n",
    "If I want to print more I can use the incredibly handy `print()` function."
   ]
  },
  {
   "cell_type": "code",
   "execution_count": null,
   "id": "71c718ef",
   "metadata": {},
   "outputs": [],
   "source": [
    "print(x, y)"
   ]
  },
  {
   "cell_type": "markdown",
   "id": "4db3eb36",
   "metadata": {},
   "source": [
    "Print statements are very malleable and allow us to output multiple variables in numerous different ways. For example, a popular application is to construct a sentence, specifying where the outputs will be printed in the sequence of words. As before, we wrap text in quotation/speech marks and separate the resulting sentence out with commas. "
   ]
  },
  {
   "cell_type": "code",
   "execution_count": null,
   "id": "35103e35",
   "metadata": {},
   "outputs": [],
   "source": [
    "print(y, \"I am\", x, \"years old\")"
   ]
  },
  {
   "cell_type": "markdown",
   "id": "6f6241bd",
   "metadata": {},
   "source": [
    "Many of the solutions in this course will be written like this, as one of their primary benefits is to avoid using multiple cells for output. \n",
    "\n",
    "Finally, we can overwrite the values of a variable by reassigning it. This comes in handy when we accidentally assign something incorrectly or wish to edit the label that we have given it. Although, we should be careful when we’re assigning variables as Python does not warn us if a variable already exists before performing the operation!\n",
    "\n",
    "In our previous example, `y` had the value of `\"Hello\"` which is a string. Let's reassign it to an integer!\n",
    "\n",
    "### Example"
   ]
  },
  {
   "cell_type": "code",
   "execution_count": null,
   "id": "5be002a4",
   "metadata": {},
   "outputs": [],
   "source": [
    "y = 26\n",
    "y"
   ]
  },
  {
   "cell_type": "markdown",
   "id": "9a7d8a81",
   "metadata": {},
   "source": [
    "## Naming Conventions\n",
    "\n",
    "Naming your variables can be one of the trickier parts of coding. Choosing sensible names saves time and energy later, when you try and remember what you've called something or if you need to refer to an object many times in code (after all, it can become tiring to consistently type out long variable names!). \n",
    "\n",
    "Clever naming allows you to figure out what an object contains without having to inspect it first, a practice heavily adopted in code production and development. \n",
    "\n",
    "Generally, a variable name:\n",
    "\n",
    "* Must start with a letter or an underscore.\n",
    "* Can’t begin with a number.\n",
    "* Only contains alphanumeric characters and underscores.\n",
    "* Is case sensitive (MY_VARIABLE and my_variable and My_vArIaBle are treated independently in Python).\n",
    "* Must not have hyphens as these are treated as negative signs in Python.\n",
    "\n",
    "Note that you may also have your own departmental guidance for naming variables, and if the guidance above contradicts these, always follow your departmental guidelines first.\n",
    "\n",
    "General guidance recommends [Python’s pep8 coding standards](https://realpython.com/python-pep8/#naming-styles) use of lowercase_with_underscores.\n",
    "\n",
    "Consistency is important here, if you pick up your code after 6 months, or pass code on to your colleagues, using consistent names ensures your code is easy to pick up, reliable and higher quality.\n",
    "\n",
    "> \"Always code as if the guy who ends up maintaining your code will be a violent psychopath who knows where you live. Code for readability.\" - John F Woods\n",
    "\n",
    "[The Data Science Campus]( https://datasciencecampus.github.io/coding-standards/python.html#style-guide) have their style guide linked online. It is worth bookmarking these style guides as they are very useful resources to return to. \n",
    "\n",
    "Throughout this course we will use lower case words with an underscore between them, e.g:\n",
    "\n",
    "* **music_df** - We expect contents to be a **DataFrame (df)**\n",
    "\n",
    "* **cars_model** - We expect contents to be a **model**\n",
    "\n",
    "* **names_list** - We expect contents to be a **list** \n",
    "\n",
    "This is known as **snake case** and is one of the most widely used naming conventions in programming. For more information on clean code, consult the **Best practice in programming** course on the Learning Hub.\n",
    "\n",
    "### Exercise\n",
    "\n",
    "(a) Try storing the value of Pi (3.14159) under an appropriate variable name\n",
    "\n",
    "(b) Try mutliplying Pi by 2 and assigning this value to the name 'double_pi'."
   ]
  },
  {
   "cell_type": "code",
   "execution_count": null,
   "id": "5a500db5",
   "metadata": {},
   "outputs": [],
   "source": [
    "# Space for Exercise\n"
   ]
  },
  {
   "cell_type": "markdown",
   "id": "b3f42b7f",
   "metadata": {},
   "source": [
    "You can see what variables you have declared by using the [magic command](https://ipython.readthedocs.io/en/stable/interactive/magics.html) \n",
    "\n",
    "`%whos`.\n",
    "\n",
    "These magic commands work in Jupyter Notebooks and rely on an iPython console; in other programs such as VSCode, these won't work in .py script files. Thankfully, the Jupyter extension in VSCode is compatible with these and even has an autofill function when it recognises a magic command! \n",
    "\n",
    "This particular magic command exists because Juputer Notebook doesn't have a typical variable explorer like other IDEs like VSCode, Spyder and more, so utilising this command will output (in text form) a variable table. In VSCode, this function is available after creating a variable as `JUPYTER:VARIABLES` at the bottom of the screen. "
   ]
  },
  {
   "cell_type": "code",
   "execution_count": null,
   "id": "dc4ad99c",
   "metadata": {},
   "outputs": [],
   "source": [
    "%whos"
   ]
  },
  {
   "cell_type": "markdown",
   "id": "8b0b7477",
   "metadata": {},
   "source": [
    "You can delete variables by using the keyword `del` and then supplying the variable name."
   ]
  },
  {
   "cell_type": "code",
   "execution_count": null,
   "id": "b15023e9",
   "metadata": {},
   "outputs": [],
   "source": [
    "del x"
   ]
  },
  {
   "cell_type": "markdown",
   "id": "7eff64b8",
   "metadata": {},
   "source": [
    "If we run `%whos` again we'll notice `x` no longer exists."
   ]
  },
  {
   "cell_type": "code",
   "execution_count": null,
   "id": "46c21a34",
   "metadata": {},
   "outputs": [],
   "source": [
    "%whos"
   ]
  },
  {
   "cell_type": "markdown",
   "id": "33e44c3a",
   "metadata": {},
   "source": [
    "Now, if we try returning x we will get an error message:  "
   ]
  },
  {
   "cell_type": "code",
   "execution_count": null,
   "id": "ae5ee9b7",
   "metadata": {},
   "outputs": [],
   "source": [
    "x"
   ]
  },
  {
   "cell_type": "markdown",
   "id": "d0b9b2f9",
   "metadata": {},
   "source": [
    "For the most part, error messages are quite informative in Python and we can understand from this one what went wrong. The variable named `x` is not defined as we deleted it.\n",
    "\n",
    "You’ll also see this error if you make a spelling mistake or capitalisation error when referring to a variable since Python is case sensitive.\n",
    "\n",
    "<a id='data_types'></a>"
   ]
  },
  {
   "cell_type": "markdown",
   "id": "993c8deb",
   "metadata": {},
   "source": [
    "<hr style=\"width:100%;height:4px;border-width:0;color:gray;background-color:#003d59; opacity:1\">"
   ]
  },
  {
   "cell_type": "markdown",
   "id": "9f4239bc",
   "metadata": {},
   "source": [
    "# Data Types\n",
    "\n",
    "## Numerical\n",
    "\n",
    "We’ll deal with two main types of numeric data types in Python.\n",
    "\n",
    "***int** (plain integers) are positive or negative (including zero) whole numbers. \n",
    "\n",
    "***float** (floating point numbers) are decimal numbers.\n",
    "\n",
    "The handy type() function in Python allows us to check the type of whatever we put within the brackets.\n",
    "\n",
    "### Examples"
   ]
  },
  {
   "cell_type": "code",
   "execution_count": null,
   "id": "4cae824e",
   "metadata": {},
   "outputs": [],
   "source": [
    "type(4)"
   ]
  },
  {
   "cell_type": "code",
   "execution_count": null,
   "id": "37339ccd",
   "metadata": {},
   "outputs": [],
   "source": [
    "type(4.5674)"
   ]
  },
  {
   "cell_type": "markdown",
   "id": "5636767d",
   "metadata": {},
   "source": [
    "This also works on variables that are assigned to values."
   ]
  },
  {
   "cell_type": "code",
   "execution_count": null,
   "id": "d87e24d0",
   "metadata": {},
   "outputs": [],
   "source": [
    "type(y)"
   ]
  },
  {
   "cell_type": "code",
   "execution_count": null,
   "id": "2a1deb7b",
   "metadata": {},
   "outputs": [],
   "source": [
    "type(pi)"
   ]
  },
  {
   "cell_type": "markdown",
   "id": "5793a406",
   "metadata": {},
   "source": [
    "### Exercise\n",
    "\n",
    "(a) Store your age (as a int) and your height in metres (as a float).\n",
    "\n",
    "(b) Print out a sentence specifying your age and height in **one output**.\n",
    "\n",
    "Note that your height needs to be a number, Python will give an error if you try and store a variable like 1.6m."
   ]
  },
  {
   "cell_type": "code",
   "execution_count": null,
   "id": "4cfc2aa2",
   "metadata": {},
   "outputs": [],
   "source": [
    "# Space for Exercise\n"
   ]
  },
  {
   "cell_type": "markdown",
   "id": "65ea23e1",
   "metadata": {},
   "source": [
    "Notice that there is a space between the height and the unit which we would like to avoid. How do we go about combining these? Stay tuned for the details!\n",
    "\n",
    "## Strings\n",
    "\n",
    "Strings are sequences of character (word/text) data. The type in Python is called **str**. They are contained within either 'single' or \"double\" quotation marks and within your coding you should remain consistent with whichever you use. \n",
    "\n",
    "We recommend that if you’re creating strings that use apostrophes or single quote marks within them, use double quotes to open and close your string. \n",
    "\n",
    "### Examples"
   ]
  },
  {
   "cell_type": "code",
   "execution_count": null,
   "id": "f3dc2b7d",
   "metadata": {},
   "outputs": [],
   "source": [
    "print(type(\"Hello\"), type(\"This is a string\"), type('This string contains 5 words!'))"
   ]
  },
  {
   "cell_type": "markdown",
   "id": "542a26ed",
   "metadata": {},
   "source": [
    "As you can see by running the cell above strings can also contain numbers and punctuation. We’ll look at this again later when we import data.\n",
    "\n",
    "To illustrate the issues with mixing up quotation marks, the example cells below will provide an error message."
   ]
  },
  {
   "cell_type": "code",
   "execution_count": null,
   "id": "bc78e105",
   "metadata": {},
   "outputs": [],
   "source": [
    "'Tom's phone' \n",
    "\n",
    "\"Sadia said \"creating strings is easy\" to the room \""
   ]
  },
  {
   "cell_type": "markdown",
   "id": "ac45f9c4",
   "metadata": {},
   "source": [
    "The following cell is an example of correct syntax, using double quotes to start and end our string that contains an apostrophe, and using single quotes for our string containing some speech works well."
   ]
  },
  {
   "cell_type": "code",
   "execution_count": null,
   "id": "14bfa9bd",
   "metadata": {},
   "outputs": [],
   "source": [
    "\"Tom's phone\" , 'Sadia said \"creating strings is easy\" to the room'"
   ]
  },
  {
   "cell_type": "markdown",
   "id": "de077698",
   "metadata": {},
   "source": [
    "Notice how the whole strings are the same colour in the second example, this is known as **syntax highlighting**, which can be a very useful tell for when things are go awry and make troubleshooting much easier!\n",
    "\n",
    "### Exercise\n",
    "\n",
    "Create a string that uses both types of quotation marks, perhaps recall a quote where someone said your name! "
   ]
  },
  {
   "cell_type": "code",
   "execution_count": null,
   "id": "6fe8d4a4",
   "metadata": {},
   "outputs": [],
   "source": [
    "# Space for Exercise\n",
    "my_quote = 'Never forget the words of The Dude, \"The rug really tied the room together\".'"
   ]
  },
  {
   "cell_type": "markdown",
   "id": "3b40bb38",
   "metadata": {},
   "source": [
    "## Boolean\n",
    "\n",
    "Boolean values are sometimes called logical values in other languages and consist of two unique values, `True` and `False`. \n",
    "\n",
    "In Python they must be spelt out fully and have a capital first letter. They are **not** text values; so do **not** require quote marks. They are a reserved word (special words in Python that cannot be used as variable names), and so are displayed in bold green text. We will see many more examples of these reserved keywords later.\n",
    "\n",
    "As we’ll see later Python often evaluates expressions in a Boolean context; something is either `“true” or “false”.`True` or `False`. They even have parallels in the integers, namely that true has the value of 1 and false has the value of 0."
   ]
  },
  {
   "cell_type": "code",
   "execution_count": null,
   "id": "92aaac1f",
   "metadata": {},
   "outputs": [],
   "source": [
    "print(type(True), type(False))"
   ]
  },
  {
   "cell_type": "markdown",
   "id": "ebcbcf51",
   "metadata": {},
   "source": [
    "### Exercise\n",
    "\n",
    "(a) Test out the mathematics behind the Boolean values by adding together True and False.\n",
    "\n",
    "(b) Will the expression 2 * True + False ** 3 work? (Recall that ** means raise to the power of)."
   ]
  },
  {
   "cell_type": "code",
   "execution_count": null,
   "id": "8b96b51a",
   "metadata": {},
   "outputs": [],
   "source": [
    "# Space for Exercise\n",
    "# (a)\n",
    "# Add together True and False\n",
    "True + False "
   ]
  },
  {
   "cell_type": "code",
   "execution_count": null,
   "id": "c115ad9a",
   "metadata": {},
   "outputs": [],
   "source": [
    "# (b) \n",
    "2 * True + 3 ** False"
   ]
  },
  {
   "cell_type": "markdown",
   "id": "d9cacbab",
   "metadata": {},
   "source": [
    "## Type Conversion\n",
    "\n",
    "You can also use inbuilt functions to convert types within Python. For example, we have:\n",
    "\n",
    "* `int()` converts things to an integer,\n",
    "* `float()` converts things to a float,\n",
    "* `str()` converts things to a string.\n",
    "\n",
    "We’ll look at some other ways to convert types later in the course.\n",
    "\n",
    "### Examples\n"
   ]
  },
  {
   "cell_type": "code",
   "execution_count": null,
   "id": "efb7f080",
   "metadata": {},
   "outputs": [],
   "source": [
    "print(float(3), int(5.7), str(3))"
   ]
  },
  {
   "cell_type": "markdown",
   "id": "458d78fa",
   "metadata": {},
   "source": [
    "### Further Example\n",
    "\n",
    "Remember earlier when we had a space between your height and the unit metres? We can use the str() conversion function to rectify this problem and provide a more sensible answer to that exercise."
   ]
  },
  {
   "cell_type": "code",
   "execution_count": null,
   "id": "3fef27fc",
   "metadata": {},
   "outputs": [],
   "source": [
    "# Better answer to Exercise\n",
    "\n",
    "print(\"My age is\", age, \"and my height is\", str(height), \"m.\")"
   ]
  },
  {
   "cell_type": "markdown",
   "id": "4a0c9310",
   "metadata": {},
   "source": [
    "But, wasn't this supposed to rectify the problem? Not quite, there is one more little thing we need to add to merge the string of height and \"m\" together, this is called **concatenation** of strings and we use the `+` symbol to utilise it."
   ]
  },
  {
   "cell_type": "code",
   "execution_count": null,
   "id": "e6b26a7a",
   "metadata": {},
   "outputs": [],
   "source": [
    "# Finally!\n",
    "\n",
    "print(\"My age is\", age, \"and my height is\", str(height) + \"m.\")"
   ]
  },
  {
   "cell_type": "markdown",
   "id": "99ef70b4",
   "metadata": {},
   "source": [
    "<hr style=\"width:100%;height:4px;border-width:0;color:gray;background-color:#003d59; opacity:1\">"
   ]
  },
  {
   "cell_type": "markdown",
   "id": "dc3aaef2",
   "metadata": {},
   "source": [
    "<a id='objects'></a>\n",
    "\n",
    "# Data Structures\n",
    "\n",
    "In this section we are going to explore some of the common data structures in Python. So far we have only stored one piece of information in memory; whereas we will usually want to store many. These data structures provide us with a particular way of organising data so it can be accessed efficiently. How you store it will often depend on how you want to use it later, so the choice is often an important one.\n",
    "\n",
    "Due to Python's Object Oriented nature, we create objects to do things to. We’ve already created objects (everything is an object in Python, even just a simple string or integer) but as we move into later sections of the course you may hear these data structures referred to as objects (this is often the case when researching too).\n",
    "\n",
    "Expanding a little on the notion of a **class** (or template for objects we create) mentioned earlier, Objects (known as an instance of a class) of the same class may look different but have key elements that are the same. A class of “bird” may have the instances “Norwegian Blue Parrot”, “Budgie” and “Emu”, which all look very different but are all fundamentally birds.\n",
    "\n",
    "![A very large Norwegian Blue, Budgie and Emu](../images/birds.png)\n",
    "\n",
    "Note that this is a slight oversimplification and understanding the ins and outs is not necessary to proceed in this course, but can be very useful, especially as you progress on to more complicated programming.\n",
    "\n",
    "Objects have methods (actions) and attributes (descriptive information about the object) which are often specalised to that kind of object. For example an object that contains text strings can be made lowercase; where as this wouldn't apply to an object containing numbers. These are different to functions (e.g `print()`) that we've seen so far. We'll look at these in more detail later in this chapter."
   ]
  },
  {
   "cell_type": "markdown",
   "id": "a61a0880",
   "metadata": {},
   "source": [
    "## Lists\n",
    "\n",
    "A list is a type of container; it holds a collection of items. The items in a list have an order (known as an index). They:\n",
    "\n",
    "* Are the most versatile of the built-in data structures\n",
    "* Can hold any sequence of objects\n",
    "* Can hold mixed objects (like strings, integers and Booleans together)\n",
    "* Are **mutable** (can be changed, we can add objects, delete them etc)\n",
    "\n",
    "They can also do many more advanced techniques which are beyond the scope of **Core Part 1**. Some excellent use cases for lists are provided in **Core Part 2** (See the list comprehensions section). \n",
    "\n",
    "We create lists in Python using square brackets `[ ]` and separate each item with a comma.\n",
    "\n",
    "### Examples"
   ]
  },
  {
   "cell_type": "code",
   "execution_count": null,
   "id": "d971b4c3",
   "metadata": {},
   "outputs": [],
   "source": [
    "# Create my list\n",
    "\n",
    "the_pythons = [\"Chapman\", \"Idle\", \"Gillam\", \"Jones\", \"Cleese\", \"Palin\"]\n",
    "\n",
    "# Display my list\n",
    "\n",
    "the_pythons"
   ]
  },
  {
   "cell_type": "markdown",
   "id": "182a57e1",
   "metadata": {},
   "source": [
    "As you see, since we are still creating an object, assignment remains the same, with the variable name/label on the left and the object itself on the right. This list `the_pythons` is a list containing only strings, where each string has indeed been separated by a comma. Displaying the output is also the same, providing Python the name of the object.\n",
    "\n",
    "Let's see a numeric example!"
   ]
  },
  {
   "cell_type": "code",
   "execution_count": null,
   "id": "189d5547",
   "metadata": {},
   "outputs": [],
   "source": [
    "# Create numeric list\n",
    "\n",
    "num_list = [3, 0, -3, -4, 7, 9]\n",
    "\n",
    "num_list"
   ]
  },
  {
   "cell_type": "markdown",
   "id": "2a7e412b",
   "metadata": {},
   "source": [
    "### Exercise\n",
    "\n",
    "(a) Store at least three hobbies within a list. Choose an appropriate variable name.\n",
    "\n",
    "(b) Create a list with a string, a float, an integer and a boolean value, give it a fun name!"
   ]
  },
  {
   "cell_type": "code",
   "execution_count": null,
   "id": "a94901bd",
   "metadata": {},
   "outputs": [],
   "source": [
    "#Space for exercises\n",
    "# (a)\n"
   ]
  },
  {
   "cell_type": "code",
   "execution_count": null,
   "id": "f51e55dd",
   "metadata": {},
   "outputs": [],
   "source": [
    "# (b)\n"
   ]
  },
  {
   "cell_type": "markdown",
   "id": "f7c9075b",
   "metadata": {},
   "source": [
    "We can also create lists using the `list()` function, but this is more useful for converting from one data structure to another, for example changing a tuple to a list (stay tuned for a fun exercise!).\n",
    "\n",
    "\n",
    "## Tuples\n",
    "\n",
    "Tuples are similar to lists but have two major differences that separate them into their own object category with its own niche uses. These are:\n",
    "\n",
    "* Tuples are immutable (unchangeable)\n",
    "* Tuples are created with round brackets `( )`\n",
    "\n",
    "We’ll often see lists and tuples as inputs or outputs for the programming we do. If you see values in round brackets as the outputs from a process, this is indeed a tuple. \n",
    "\n",
    "### Example"
   ]
  },
  {
   "cell_type": "code",
   "execution_count": null,
   "id": "4a3dedaf",
   "metadata": {},
   "outputs": [],
   "source": [
    "# Create my tuple\n",
    "\n",
    "days_of_the_week = (\"Monday\", \"Tuesday\", \"Wednesday\", \"Thursday\", \"Friday\", \"Saturday\", \"Sunday\")\n",
    "\n",
    "#print out my tuple\n",
    "\n",
    "days_of_the_week"
   ]
  },
  {
   "cell_type": "markdown",
   "id": "4a87e545",
   "metadata": {},
   "source": [
    "As with lists, we separate each value with a comma and despite this example being string focused, we can also mix datatypes inside the tuple. \n",
    "\n",
    "### Exercise\n",
    "\n",
    "(a) Store the names of the following in a tuple, name it funny_pet.\n",
    "* A pun name for a pet\n",
    "* A suitable age for a pet\n",
    "* Colour of their fur/skin\n",
    "\n",
    "(b) Convert funny_pet to a list using the `list()` function, reassign it and return it. \n"
   ]
  },
  {
   "cell_type": "code",
   "execution_count": null,
   "id": "8ac84316",
   "metadata": {},
   "outputs": [],
   "source": [
    "# Space for exercises\n",
    "# (a)\n"
   ]
  },
  {
   "cell_type": "code",
   "execution_count": null,
   "id": "67f8878c",
   "metadata": {},
   "outputs": [],
   "source": [
    "# (b) \n"
   ]
  },
  {
   "cell_type": "markdown",
   "id": "fcceb98d",
   "metadata": {},
   "source": [
    "We can also create tuples using the `tuple()` function (see a recurring theme here?). \n",
    "\n",
    "When we say something is mutable or immutable we mean changing the contents programmatically. There are methods we’ll see later where we can add or remove a value from a list; like `.append()`, `.extend()` or `.pop()`. You can look forward to some fun examples when they arise!\n",
    "\n",
    "We can’t do that to tuples; the only thing we can do is write over them in memory by assigning a new tuple to the same variable, which isn't changing the values, just overwriting it entirely, a technical but important difference!\n",
    "\n",
    "## Nesting & Combinations \n",
    "\n",
    "Now that we have introduced lists and tuples, let's have a look at how these can be combined as well as the very important concept of nesting. We know that lists and tuples contain objects themselves, but (see where we are going?) they themselves are objects! This means that we can have:\n",
    "\n",
    "* Lists that contain tuples (and vice versa)\n",
    "* Lists that contain lists\n",
    "* Tuples that contain tuples\n",
    "* Lists that contain tuples and lists (and vice versa)\n",
    "\n",
    "This is alot to comprehend but further illustrates Python's object-oriented nature, in that objects can be combinations of objects and so on and so forth.\n",
    "\n",
    "Let's see an example!\n",
    "\n",
    "### Examples"
   ]
  },
  {
   "cell_type": "code",
   "execution_count": null,
   "id": "4b36aa1a",
   "metadata": {},
   "outputs": [],
   "source": [
    "# List of tuples\n",
    "days_and_weather = [('Monday', 'Rain'), ('Tuesday', 'Sun'), ('Wednesday', 'Snow'), ('Thursday', 'Sun'), ('Friday', 'Fog'), ('Saturday', 'Snow'), ('Sunday', 'Cloudy')]\n",
    "\n",
    "days_and_weather"
   ]
  },
  {
   "cell_type": "code",
   "execution_count": null,
   "id": "7af6f715",
   "metadata": {},
   "outputs": [],
   "source": [
    "# Tuple of tuples\n",
    "weather_by_day = ('Monday', 'Rain'), ('Tuesday', 'Sun'), ('Wednesday', 'Snow'), ('Thursday', 'Sun'), ('Friday', 'Fog'), ('Saturday', 'Snow'), ('Sunday', 'Cloudy')\n",
    "\n",
    "weather_by_day"
   ]
  },
  {
   "cell_type": "markdown",
   "id": "e6973208",
   "metadata": {},
   "source": [
    "Notice that we don't need to wrap the tuple into a pair of brackets `()` if we don't want to (you can, but Python will recognise this by using the commas to separate the tuples)."
   ]
  },
  {
   "cell_type": "code",
   "execution_count": null,
   "id": "71100ec5",
   "metadata": {},
   "outputs": [],
   "source": [
    "# List of lists\n",
    "\n",
    "weather_forecast = [['Monday', 'Rain'], ['Tuesday', 'Sun'], ['Wednesday', 'Snow'], ['Thursday', 'Sun'], ['Friday', 'Fog'], ['Saturday', 'Snow'], ['Sunday', 'Cloudy']]\n",
    "\n",
    "weather_forecast"
   ]
  },
  {
   "cell_type": "markdown",
   "id": "77d31d05",
   "metadata": {},
   "source": [
    "So as you can see, the objects we create can be quite complicated indeed! Now it's your turn!\n",
    "\n",
    "### Exercise\n",
    "\n",
    "(a) Create a list (named appropriately), that contains:\n",
    "* A list of subject names\n",
    "* Tuples that contain an exam score and a subsequent grade, such as (94, 'A*')\n",
    "\n",
    "(b) Use the tuple() function to change the list in (a) to a tuple. "
   ]
  },
  {
   "cell_type": "code",
   "execution_count": null,
   "id": "180684f1",
   "metadata": {},
   "outputs": [],
   "source": [
    "# Space for Exericse\n",
    "\n",
    "# (a)\n"
   ]
  },
  {
   "cell_type": "code",
   "execution_count": null,
   "id": "99cec84e",
   "metadata": {},
   "outputs": [],
   "source": [
    "# (b)\n"
   ]
  },
  {
   "cell_type": "markdown",
   "id": "2525643b",
   "metadata": {},
   "source": [
    "The applications of this are limited hence why this section was kept short, but it can not be overstated how customisable these data structures are in terms of their contents. \n",
    "\n",
    "## Dictionaries\n",
    "\n",
    "The third object type we’ll look at is Dictionaries, which also store a collection of objects similarly to lists and tuples. They are:\n",
    "\n",
    "* Unordered (no index, unlike with tuples and lists)\n",
    "* Mutable (unlike tuples)\n",
    "* Can contain lists and other (nested) dictionaries\n",
    "\n",
    "To create a dictionary in Python, we use the only type of brackets we have yet to utilise, the curly braces that often feature in mathematics `{}`. Dictionaries contain key value pairs (these are different from tuples!), where **Keys** are usually integers or strings (an immutable data type) and **Values** can be any type of object. Syntax wise, these pairs are separated by a colon, written as `Key:Value`. \n",
    "\n",
    "This is a more complex data structure, so let's motivate this with an example!\n",
    "\n",
    "### Example"
   ]
  },
  {
   "cell_type": "code",
   "execution_count": null,
   "id": "49b41516",
   "metadata": {},
   "outputs": [],
   "source": [
    "# Create a small dictionary\n",
    "\n",
    "my_info = {\"name\": \"Jake Marshall\",\n",
    "           \"occupation\": \"Trainee Data Science Lecturer\",\n",
    "           \"favourite subject\": \"Mathematics\"}\n",
    "\n",
    "my_info"
   ]
  },
  {
   "cell_type": "markdown",
   "id": "1b05eefd",
   "metadata": {},
   "source": [
    "So as you can see, we are doing a sort of assignment process here, where `name` is being set to `Jake Marshall`, `occupation` is being set to `Trainee Data Science Lecturer` and so on. However it is important to note that this is **limited to just this object!** If you attempt to type `name` outside of the dictionary, Python will throw an error.\n",
    "\n",
    "We can also have more complex dictionaries, with values being set to other data structures, like lists. "
   ]
  },
  {
   "cell_type": "code",
   "execution_count": null,
   "id": "e27a7879",
   "metadata": {},
   "outputs": [],
   "source": [
    "# Create my dictionary\n",
    "\n",
    "brian_information = {\"name\": \"Brian Cohen\",\n",
    "                     \"occupation\": [\"messiah \", \"very naughty boy\"],  \n",
    "                     \"enemy\": \"Pontius Pilate\",\n",
    "                     \"outlook\": \"Look on the bright side of life\"}\n",
    "\n",
    "# Print the dictionary\n",
    "\n",
    "brian_information"
   ]
  },
  {
   "cell_type": "markdown",
   "id": "7f028b6b",
   "metadata": {},
   "source": [
    "Depending on your version of Python the dictionary may print out in alphabetical order or the order you supplied the values in. We'll see later on that we index (look up values) in a dictionary by the \"key\"; so it doesn't matter how it displays.\n",
    "\n",
    "Now, over to you!\n",
    "\n",
    "### Exercise\n",
    "\n",
    "Make a dictionary containing the following;\n",
    "\n",
    "* Use cities as keys\n",
    "* Use sports team names as values.\n",
    "* Make one value a list.\n",
    "* Choose an appropriate variable name.\n",
    "\n",
    "For example,\n",
    "\n",
    "* Newport has Newport County\n",
    "* Manchester has Manchester City and Manchester United\n",
    "* Fareham has Fareham Town"
   ]
  },
  {
   "cell_type": "code",
   "execution_count": null,
   "id": "e7c5e3fc",
   "metadata": {},
   "outputs": [],
   "source": [
    "# Space for Exercise\n"
   ]
  },
  {
   "cell_type": "markdown",
   "id": "b12de4db",
   "metadata": {},
   "source": [
    "We can also create dictionaries using the dict() function which requires us to assign **within** a function, which is a different concept in programming than assigning outside of one. These refer to **parameters** (which are the names/labels) and **arguments** (which are the values) within functions.\n",
    "\n",
    "These will be explained in more detail later in the course, but as an example, let's have an informal introduction to utilising them with the `dict()` function.\n",
    "\n",
    "### Example"
   ]
  },
  {
   "cell_type": "code",
   "execution_count": null,
   "id": "35775b91",
   "metadata": {},
   "outputs": [],
   "source": [
    "# Using the dict() function \n",
    "jake_info = dict(name = \"Jake Marshall\", occupation = \"Trainee Data Science Lecturer\", favourite_subject = \"Mathematics\")\n",
    "\n",
    "jake_info"
   ]
  },
  {
   "cell_type": "markdown",
   "id": "30aa63d3",
   "metadata": {},
   "source": [
    "Notice the very subtile difference when it comes to the favourite subject entry? Since we are assigning a label, just as it was outside of the function, we cannot have spaces! As such we will need to fill the gap with something like an underscore, which unfortunately does affect the final name. \n",
    "As such, if you want to create a dictionary with longer strings as the keys, manually building one with `{}` is a better option since you have more control."
   ]
  },
  {
   "cell_type": "markdown",
   "id": "cf339db8",
   "metadata": {},
   "source": [
    "<hr style=\"width:100%;height:4px;border-width:0;color:gray;background-color:#003d59; opacity:1\">"
   ]
  },
  {
   "cell_type": "markdown",
   "id": "e16671eb",
   "metadata": {},
   "source": [
    "# Indexing\n",
    "\n",
    "Prior to this chapter we have created a variety of data structures containing numerous objects. Working with data means that we will often want to select specific objects (or even a range of them) from our data structures. To do so is called indexing and we use square brackets [] to accomplish this.\n",
    "\n",
    "Let’s look at the list `the_pythons` we defined earlier\n",
    "\n",
    "![\\Indexing_example](../images/indexing_1.jpg)\n",
    "\n",
    "Each item within our list (or tuple) has an index, due to their ordered nature (remember that this is not true for dictionaries!). This relates to it’s position in the object.\n",
    "\n",
    "Contrarily to other programming languages, Python starts indexing at 0, which is something we must get used to when learning the language. (Think of it as starting on the ground floor of a building, then going up to the first floor).\n",
    "\n",
    "In order to return the element in the list we can simply give the object name, then the index of the item we want to return within square brackets.\n",
    "\n",
    "### Example\n",
    "The code below will return the value `Jones`"
   ]
  },
  {
   "cell_type": "code",
   "execution_count": null,
   "id": "52da7bdf",
   "metadata": {},
   "outputs": [],
   "source": [
    "# Note that there are no spaces, we follow the object name with []\n",
    "the_pythons[3]"
   ]
  },
  {
   "cell_type": "markdown",
   "id": "ee80b615",
   "metadata": {},
   "source": [
    "We can also use what’s known as negative indexing, where the order of the list is reversed and the first element is denoted with -1 as opposed to 0. \n",
    "Think of this as the negative sign reversing the order of the list (taking the place of the 0) and then we count from 1. As an informal example, consider the list [1, 2, 3]. In terms of positioning, we have:\n",
    "\n",
    "* --> [position 0, position 1, position 2]\n",
    "* <-- [position -3, position -2, position -1]\n",
    "\n",
    "Where [0] = [-3] here and beyond. This technique can be really useful when we wan't to access a specific value without actually knowing how many elements there are in the object.\n",
    "\n",
    "In the case of `the_pythons`, we have:\n",
    "\n",
    "![\\Indexing_example](../images/negative_indexing.jpg)\n",
    "\n",
    "### Example\n",
    "The code in the next cell will return the same values. "
   ]
  },
  {
   "cell_type": "code",
   "execution_count": null,
   "id": "075ae1c8",
   "metadata": {},
   "outputs": [],
   "source": [
    "print(the_pythons[0], the_pythons[-6])"
   ]
  },
  {
   "cell_type": "markdown",
   "id": "d18751b6",
   "metadata": {},
   "source": [
    "For a list, we can use also use this indexing method to overwrite values in a list. As tuples are immutable, and cannot be changed once created, this would not work on the `days_of_the_week` tuple. This is why it is also worth keeping in mind the differences between these data structures when selecting them for applicable tasks.\n",
    "\n",
    "Overwriting can be really useful when working with smaller data structures, let's see an example!\n",
    "\n",
    "### Example"
   ]
  },
  {
   "cell_type": "code",
   "execution_count": null,
   "id": "fc72b035",
   "metadata": {},
   "outputs": [],
   "source": [
    "the_pythons[4] = \"Cheese\" # Select the item at index 4 and overwrite it with \"Cheese\"\n",
    "\n",
    "# Return our modified list\n",
    "the_pythons"
   ]
  },
  {
   "cell_type": "markdown",
   "id": "9f532849",
   "metadata": {},
   "source": [
    "### Exercise\n",
    "\n",
    "The code below provides you a new list, of different types of parrot. They’re just resting; and pining for the Fjords.\n",
    "\n",
    "(a) Use indexing to return the element ` Norwegian Blue` from the list.\n",
    "\n",
    "(b) Use **negative** indexing to return the same element as in (a)."
   ]
  },
  {
   "cell_type": "code",
   "execution_count": null,
   "id": "a87320a1",
   "metadata": {},
   "outputs": [],
   "source": [
    "parrots = [\"Cockatoo\" , \"Macaw\", \"Parakeet\", \"Lorikeet\", \"Norwegian Blue\", \"Conure\"]\n",
    "\n",
    "# Space for Exercise\n"
   ]
  },
  {
   "cell_type": "code",
   "execution_count": null,
   "id": "934c41cf",
   "metadata": {},
   "outputs": [],
   "source": []
  },
  {
   "cell_type": "markdown",
   "id": "312cb921",
   "metadata": {},
   "source": [
    "## Sequential items\n",
    "\n",
    "If we want to select more than one sequential item we can use a colon ( `:` ) between the first index position (inclusive) and the last index position (exclusive).\n",
    "\n",
    "It is important to remember that the last index is **exclusive** in this case, it will not be included and, as expected, **inclusive** refers to its inclusion!\n",
    "\n",
    "### Example\n",
    "\n",
    "As a reminder our `the_pythons` list looks like this\n",
    "\n",
    "![\\Indexing_example](../images/indexing_1.jpg)\n",
    "\n",
    "If I wanted to select the values `Idle, Gillam, Jones` the following code:"
   ]
  },
  {
   "cell_type": "code",
   "execution_count": null,
   "id": "f4e86452",
   "metadata": {},
   "outputs": [],
   "source": [
    "the_pythons[1:3]"
   ]
  },
  {
   "cell_type": "markdown",
   "id": "56accde3",
   "metadata": {},
   "source": [
    "would not give the output we want. The fourth element (which we want!) was excluded, as such we must add 1 to that second index. To obtain what we need we use:"
   ]
  },
  {
   "cell_type": "code",
   "execution_count": null,
   "id": "5886ca71",
   "metadata": {},
   "outputs": [],
   "source": [
    "the_pythons[1:4]"
   ]
  },
  {
   "cell_type": "markdown",
   "id": "e3ab8bcf",
   "metadata": {},
   "source": [
    "This will require some practice to get used to since we are not only counting from 0 (as opposed to 1) but we are also specifying the index one higher than we expect. \n",
    "\n",
    "If we want to select from the beginning or to the end of the list without specifying a start or end point respectively, we can leave the position before or after the colon blank respectively.\n",
    "\n",
    "### Example\n",
    "This first code example here selects from the start of the list to Gillam (remember the last number is exclusive) and the second selects from Idle at index 1 to the end of the list."
   ]
  },
  {
   "cell_type": "code",
   "execution_count": null,
   "id": "e79eed14",
   "metadata": {},
   "outputs": [],
   "source": [
    "print(the_pythons[:3], the_pythons[1:])"
   ]
  },
  {
   "cell_type": "markdown",
   "id": "b7e2c187",
   "metadata": {},
   "source": [
    "### Exercise\n",
    "\n",
    "From the `parrots` list use indexing to return the following sets of elements\n",
    "\n",
    "(a) `Macaw, Parakeet, Lorikeet, Norwegian Blue`\n",
    "\n",
    "(b) `Lorikeet, Norwegian Blue, Conure`\n",
    "\n",
    "(c) `Macaw, Parakeet, Lorikeet, Norwegian Blue, Conure`\n",
    "\n",
    "As a reminder `parrots` looks like this:"
   ]
  },
  {
   "cell_type": "code",
   "execution_count": null,
   "id": "c17824f1",
   "metadata": {},
   "outputs": [],
   "source": [
    "parrots"
   ]
  },
  {
   "cell_type": "code",
   "execution_count": null,
   "id": "14b70997",
   "metadata": {},
   "outputs": [],
   "source": [
    "# Space for Exercise\n",
    "\n",
    "# (a)\n",
    "\n",
    "# (b)\n",
    "\n",
    "# (c)\n"
   ]
  },
  {
   "cell_type": "markdown",
   "id": "6aa2c757",
   "metadata": {},
   "source": [
    "These methods also work for tuples.\n",
    "\n",
    "### Example\n",
    "Using the `days_of_the_week` tuple we declared earlier, below I return, Wednesday, the week days and the weekend days."
   ]
  },
  {
   "cell_type": "code",
   "execution_count": null,
   "id": "15e69339",
   "metadata": {},
   "outputs": [],
   "source": [
    "print(\"The element at index 2 is\", days_of_the_week[2])\n",
    "print(\"The weekdays are:\", days_of_the_week[:5])\n",
    "print(\"The weekend days are:\", days_of_the_week[-2:])"
   ]
  },
  {
   "cell_type": "markdown",
   "id": "baa0271c",
   "metadata": {},
   "source": [
    "## Non sequential items\n",
    "\n",
    "There's no direct inbuilt way of accessing non sequential items (for example, returning the 1st element, 3rd element and 5th element, but not those in between). In other languages like R this is simple to do; but not so much in python. \n",
    "\n",
    "### Example\n",
    "\n",
    "We can use a function called `itemgetter` from the `operator` package to do this if we wish. This takes as an input, the indexes we want to return, say 2 and 5 and then the list.\n",
    "\n",
    "We also have to import the function from the package, which again will be explained later.\n",
    "\n",
    "You may not understand this code currently and don't worry about the details for now, it is shown for completeness as it's a common question from learners that we have had throughout the years."
   ]
  },
  {
   "cell_type": "code",
   "execution_count": null,
   "id": "2edfdf9c",
   "metadata": {},
   "outputs": [],
   "source": [
    "from operator import itemgetter\n",
    "itemgetter(2, 5)(the_pythons)"
   ]
  },
  {
   "cell_type": "markdown",
   "id": "96a35a0e",
   "metadata": {},
   "source": [
    "## Indexing a Dictionary\n",
    "\n",
    "Indexing a dictionary is slightly different from indexing a list.\n",
    "\n",
    "As dictionaries are unordered data, they do not have a numerical index, like our lists and tuples do. This is where **keys** come in and why they are so important. We use our square brackets as before and instead specify the specific key to the **values** we wish to return.\n",
    "\n",
    "### Examples\n",
    "\n",
    "Let's return Brian's name from the dictionary we created earlier about him (he would be thrilled!) and my favourite subject from the dictionary I created about myself. "
   ]
  },
  {
   "cell_type": "code",
   "execution_count": null,
   "id": "5c7ae785",
   "metadata": {},
   "outputs": [],
   "source": [
    "print(brian_information[\"name\"], my_info[\"favourite subject\"])"
   ]
  },
  {
   "cell_type": "markdown",
   "id": "73f8f740",
   "metadata": {},
   "source": [
    "## Multi-variable Assignment with Tuples\n",
    "\n",
    "So far we have assigned tuples as a singular object with a single label, but one of their most useful functions is for assigning multiple variables at once. We can do this by using the comma that creates a tuple on **both** sides of the equals sign, ensuring that the number of labels on the left hand side is equivalent to the number of values on the right hand side.\n",
    "\n",
    "### Example"
   ]
  },
  {
   "cell_type": "code",
   "execution_count": null,
   "id": "2c650a9e",
   "metadata": {},
   "outputs": [],
   "source": [
    "# Multi-variable assignment\n",
    "my_name, my_age = (\"Jake\", 26)\n",
    "\n",
    "print(\"My name is\", my_name, \"and my age is\", my_age)"
   ]
  },
  {
   "cell_type": "markdown",
   "id": "cd6aa9dd",
   "metadata": {},
   "source": [
    "You see here that each variable has been assigned and can be utilised separately, or together as they were originally assigned. \n",
    "\n",
    "We can also swap variable names using this method of assignment, just to evidence this, let's make the truly nonsensical statement that my name is 26 and my age is \"Jake\"."
   ]
  },
  {
   "cell_type": "code",
   "execution_count": null,
   "id": "e1ef201c",
   "metadata": {},
   "outputs": [],
   "source": [
    "my_name, my_age = my_age, my_name\n",
    "\n",
    "print(\"My name is\", my_name, \"and my age is\", str(my_age)+\",\", \"wait what?\")"
   ]
  },
  {
   "cell_type": "markdown",
   "id": "c5ceedd7",
   "metadata": {},
   "source": [
    "## Utilising Functions, Methods and Attributes\n",
    "\n",
    "Unlike other programming languages we can perform actions, or get information from Python in a variety of ways\n",
    "\n",
    "* Functions\n",
    "* Methods\n",
    "* Attributes\n",
    "\n",
    "**Functions** are pieces of code that are called by name. They are a set of statements that take inputs, do something to it, and produce an output. The concept is that we can perform a commonly done or repeated task by just calling the function, without needing to repeat code. It can be awfully dull to type (or copy and paste) the same line of code multiple times when a simple function call applied on the data structure solves this problem for us. \n",
    "\n",
    "We can even create our own user defined functions. Information on how to do this will be covered in the **Core Part 2** section of this course, where there is a large chapter dedicated to this practice. Prior to this edition of the course, this content was contained (albeit with a few less chapters and sub-chapters) in the standalone `Control Flow, Loops and Functions in Python` course on the Learning Hub. \n",
    "\n",
    "For now let’s have a look at some of the inbuilt functions in Python. [Python 3.3]( https://docs.python.org/3.3/library/functions.html), [Python 3.8](https://docs.python.org/3.8/library/functions.html) \n",
    "\n",
    "We’ve already seen \n",
    "* `type()`  - tells us the kind of object we put within the brackets. \n",
    "* `int()`, `float()`, `str()` - for type conversion.\n",
    "* `dict()`, `tup()`, `list()` - for creating in-built data structures.\n",
    "\n",
    "\n",
    "### Exercise\n",
    "\n",
    "(a) Try running the function `len()` on the list `the_pythons`. Can you work out what the output is (Put this in a comment!).\n",
    "\n",
    "(b) Try running it on another list to confirm your suspicions\n"
   ]
  },
  {
   "cell_type": "code",
   "execution_count": null,
   "id": "72c165fe",
   "metadata": {},
   "outputs": [],
   "source": [
    "# Space for Exercise\n",
    "\n",
    "# (a)\n",
    "\n",
    "# (b)\n"
   ]
  },
  {
   "cell_type": "markdown",
   "id": "ab343cfa",
   "metadata": {},
   "source": [
    "### Methods\n",
    "\n",
    "Each object has it’s own methods and attributes that relate to that object. These are incredibly useful in that they allow us to perform numerous operations to our objects via **methods** and display information about them via **attributes**. \n",
    "\n",
    "For example, we can use the **method** `.sort()` on our `parrots` list we created earlier.\n",
    "\n",
    "So what is with this notation? When performing operations on objects, we use **dot notation** where we follow the name of the object with the full stop and then the method or attribute we wish to use. Note that throughout, methods are **functions** and as such, have two round brackets `()` at the end, whereas attributes are not functions and as such, feature no brackets at all. \n",
    "\n",
    "### Example\n",
    "\n",
    "Let's apply the `.sort()` method to a list to....sort it in order of course!\n",
    "\n",
    "* **Firstly** we tell python the object we want to work on by specifying the name.\n",
    "* **Secondly** we use the dot notation to reference the object. \n",
    "* **Thirdly** we call our method, here this is ` sort` and finish it with round brackets.\n"
   ]
  },
  {
   "cell_type": "code",
   "execution_count": null,
   "id": "0610c354",
   "metadata": {},
   "outputs": [],
   "source": [
    "# A reminder of how we created the original list\n",
    "\n",
    "parrots = [\"Cockatoo\" , \"Macaw\", \"Parakeet\", \"Lorikeet\", \"Norwegian Blue\", \"Conure\"]\n",
    "\n",
    "# Use the sort method to sort the list\n",
    "\n",
    "parrots.sort()\n",
    "\n",
    "# Print out the parrots list to see what's happened.\n",
    "parrots"
   ]
  },
  {
   "cell_type": "markdown",
   "id": "538f14df",
   "metadata": {},
   "source": [
    "We see that this sorted the list in alphabetical order, which is a really nice feature that Python has by default! If the list had been numeric, then this would've been sorted from lowest to highest as expected. \n",
    "\n",
    "Here we’re using a method that does not have any mandatory parameters (hence why it remained as `()`), but that doesn't mean that there aren't ways to tweak the output of the method (what if we wanted things sorted in descending order?). We’ll look at how you can find out what parameters a method or function has in the next chapter.\n",
    "\n",
    "There are a large number of methods available for many of the data structures we use in Python, many of which we won't have chance to cover in this course. Here is an excellent resource from the [official Python documentation](https://docs.python.org/3/tutorial/datastructures.html) on list methods for you to experiment with should you wish. \n",
    "\n",
    "It is recommended you build up a folder of bookmarks that lead to official documentation (as well as other excellent resources), that way it is easy to access a variety of different pages that can assist you with the task you are aiming to complete.\n",
    "\n",
    "### Example\n",
    "Let’s try using `.extend()` on the `parrots` list we created earlier.\n",
    "`.extend()` adds items to our list. Since this method adds new items, it does indeed have a mandatory parameter (or input), namely what we wish to add to the existing list we have specified. \n",
    "\n",
    "* **1st** We create a new list, with the objects we want to add.\n",
    "* **2nd ** We tell python the object we want to work on – here by giving the variable/identifier parrots.\n",
    "* **3rd** We use the full stop or “dot notation”\n",
    "* **4th** We call our method, here this is ` extend` and open our round brackets.\n",
    "* **5th** We need to tell the method what to add, in this case the list we created earlier. We put this in the round brackets.\n"
   ]
  },
  {
   "cell_type": "code",
   "execution_count": null,
   "id": "d8db8e77",
   "metadata": {},
   "outputs": [],
   "source": [
    "# Create a new list with more birds\n",
    "\n",
    "more_parrots = [\"Lovebird\", \"Kea\", \"Rosella\"]\n",
    "\n",
    "# Use the extend method to add the new list more_parrots to our parrots list\n",
    "\n",
    "parrots.extend(more_parrots)\n",
    "\n",
    "# Print out the parrots list to see what's happened.\n",
    "parrots"
   ]
  },
  {
   "cell_type": "markdown",
   "id": "e0879441",
   "metadata": {},
   "source": [
    "Of course, it can sometimes be time consuming to set the items we wish to add as a separate variable in memory (and in some cases is a less efficient use of it!). In these cases, we specify the list of items to add **as** the input/argument to the `extend()` function."
   ]
  },
  {
   "cell_type": "code",
   "execution_count": null,
   "id": "202e1fad",
   "metadata": {},
   "outputs": [],
   "source": [
    "# Overwrite parrots with the original\n",
    "parrots = ['Cockatoo', 'Conure', 'Lorikeet', 'Macaw', 'Norwegian Blue', 'Parakeet']\n",
    "\n",
    "parrots.extend(['Lovebird', 'Kea', 'Rosella'])\n",
    "\n",
    "parrots"
   ]
  },
  {
   "cell_type": "markdown",
   "id": "b89ce605",
   "metadata": {},
   "source": [
    "### Exercise\n",
    "\n",
    "Let's introduce a new method for you to have a go with! The method `.pop()` for lists removes the item from the specified position, the argument you need is the index position (an **integer**!) from the list. \n",
    "\n",
    "(a) Check that your `parrots` list is sorted, if not, sort it!\n",
    "\n",
    "(b) Use the `.pop()` method on the `parrots` list to remove the value `Norwegian Blue` from the list. \n",
    "\n",
    "A reminder of `parrots` is below as of the previous example. "
   ]
  },
  {
   "cell_type": "code",
   "execution_count": null,
   "id": "a689ba70",
   "metadata": {},
   "outputs": [],
   "source": [
    "parrots"
   ]
  },
  {
   "cell_type": "code",
   "execution_count": null,
   "id": "bbddf7d5",
   "metadata": {},
   "outputs": [],
   "source": [
    "# Space for Exercise\n",
    "\n",
    "# (a)\n",
    "\n",
    "# (b)\n"
   ]
  },
  {
   "cell_type": "markdown",
   "id": "3cce3f70",
   "metadata": {},
   "source": [
    "### Attributes \n",
    "\n",
    "Sometimes we’ll want to find something out about an object, these descriptive elements are known as the **attributes** of the object and, whilst they are called in a similar way to methods with dot notation, they do not have round brackets! \n",
    "\n",
    "An example is the following:\n",
    "\n",
    "`my_dataframe.shape`\n",
    "\n",
    "More complex data structures are more likely to have attributes we would like to see and as such we will utilise these alot more in chapter four. Do not worry about what Dataframes are just yet, you will see them at the end of the chapter.\n",
    "\n",
    "### Example\n",
    "To find the methods and attributes for an object you can use"
   ]
  },
  {
   "cell_type": "code",
   "execution_count": null,
   "id": "96b66530",
   "metadata": {},
   "outputs": [],
   "source": [
    "dir(the_pythons)"
   ]
  },
  {
   "cell_type": "markdown",
   "id": "56882a2f",
   "metadata": {},
   "source": [
    "This function returns the attributes and methods of a specified object, here a list.\n",
    "\n",
    "It doesn’t tell you if something is an attribute or a property, and it doesn’t give you any values to pass to the methods; but can be useful to see if something you want to do has a function or method that looks about right. When combined with the help documentation in Python as well as the linked pages we provide here, they can be explored in more detail.\n",
    "\n",
    "Like with lists, there is some great Python information from W3Schools around [tuples](https://www.w3schools.com/python/python_ref_tuple.asp) and [dictionaries](https://www.w3schools.com/python/python_ref_dictionary.asp).\n",
    "\n",
    "\n",
    "<a id='pandas_objects'></a>"
   ]
  },
  {
   "cell_type": "markdown",
   "id": "382102f8",
   "metadata": {},
   "source": [
    "<hr style=\"width:100%;height:4px;border-width:0;color:gray;background-color:#003d59; opacity:1\">"
   ]
  },
  {
   "cell_type": "markdown",
   "id": "a048c5cb",
   "metadata": {},
   "source": [
    "# Pandas Objects\n",
    "\n",
    "Now we have reached the most exciting part of the chapter, where we introduce one of the most popular Python libraries there is! It is known as `pandas` and was originally written by Wes McKinney, and is the most preferred, most used tool when data wrangling tabular data (data in the form of a table, think an Excel spreadsheet with rows and columns) within Python. \n",
    "\n",
    "Libraries such as this are most commonly referred to as **packages** and it will be the bread and butter of the rest of the course.\n",
    "\n",
    "## Packages\n",
    "\n",
    "Packages are a collection of functions, objects and compiled code which are stored in a “library” of code within Python. There are an unprecedented number of these in existence and more continue to be created each year, so much so that there is an official Python Package Index known as [PyPi](https://pypi.org) which is a repository (collection of, library) of all possible packages as well as links to their install. \n",
    "\n",
    "Packages can also be obtained from being shared by colleagues or even downloaded from the internet. Caution should be taken when using the latter, as there could be malicious software in the bundle.\n",
    "\n",
    "Our Anaconda installation gives us access to quite a few packages \"out of the box\":\n",
    "\n",
    "* ONS users may have Anaconda 4.4.0 - see a full list of [default anaconda 4.4.0 packages]( https://docs.anaconda.com/anaconda/packages/old-pkg-lists/4.4.0/py35/)\n",
    "\n",
    "* Or may have Anaconda 2020.07 - see a full list of [default anaconda 2020.07 packages](https://docs.anaconda.com/anaconda/packages/old-pkg-lists/2020.07/py3.6_win-32/)\n",
    "\n",
    "* You can find the default packages for other versions [at this link](https://docs.anaconda.com/anaconda/packages/oldpkglists/). You can also do this in jupyter by running the code `! conda list`\n",
    "\n",
    "All the packages we use for this course are already downloaded as part of the Anaconda distribution and as such there shouldn't be in any issues regarding package install. You can check your version of Python and your version of Anaconda by using the following commands within Jupyter code cells. The `!` allows us to access command line commands in Jupyter."
   ]
  },
  {
   "cell_type": "code",
   "execution_count": null,
   "id": "ce2d2082",
   "metadata": {},
   "outputs": [],
   "source": [
    "from platform import python_version\n",
    "print(\"Python Version\", python_version())\n",
    "print(\"Anaconda Version\")\n",
    "# !conda list anaconda$"
   ]
  },
  {
   "cell_type": "markdown",
   "id": "d77fb541",
   "metadata": {},
   "source": [
    "For installing packages that are not included within the Anaconda distribution there are a few options. The most popular being `pip` and `conda`. \n",
    "\n",
    "Within ONS our packages are hosted on a mirrored version of PyPi called “Artifactory”. This may be familiar to you if you use R. Please see the instructions on the [Coding Getting Started Wiki (ONS only)](http://np2rvlapxx507/BPI/coding-getting-started-guide/-/wikis/home) for installing additional packages.\n",
    "\n",
    "Other government departments have their own rules regarding installation of packages, please contact your IT department or Data Science department for guidance.\n",
    "\n",
    "\n",
    "## Importing Pandas\n",
    "\n",
    "In order to use the functionality of the Pandas package within our Python code; we first need to import it, which should be the first step for every script we write in Python. Compiling the imports into a single code cell at the very top of your work is a very efficient way to inform anyone picking up your code what they will need. \n",
    "\n",
    "To use the functions within a package we need to import it by using an import statement, this features some **keywords** that are reserved in Python. "
   ]
  },
  {
   "cell_type": "code",
   "execution_count": null,
   "id": "ec043a86",
   "metadata": {},
   "outputs": [],
   "source": [
    "import pandas as pd"
   ]
  },
  {
   "cell_type": "markdown",
   "id": "b9b98fa7",
   "metadata": {},
   "source": [
    "When we import a package we don't get any feedback it's worked. In Jupyter the cell will change from a green to blue, and the line number will increase.\n",
    "\n",
    "* We start by using the keyword `import`, which will be green due to syntax highlighting. \n",
    "\n",
    "* We then give the package name *in full**\n",
    "\n",
    "* The keyword `as` allows us to give a nickname to the package, this is called an **alias**, here we use `pd` which is a widely recognised nickname for pandas (of course you can choose your own if you wish).\n",
    "\n",
    "We don’t have to give nicknames to packages; however, it’s a very common standard; that saves us some typing. We’ll often need to reference the package containing the function; e.g `pd.Series()` - which is much faster than `pandas.Series`(). \n",
    "\n",
    "## Checking Package Versions\n",
    "\n",
    "All packages have versions; this allows code to be updated, extended or modified as time goes on. For reproducibility purposes, as well as searching for help it can be important to know which version of a package you’re using.\n",
    "\n",
    "Most packages follow the PEP8 guidelines we talked about previously and allow you to find the version of a package using the following command."
   ]
  },
  {
   "cell_type": "code",
   "execution_count": null,
   "id": "b1db7658",
   "metadata": {},
   "outputs": [],
   "source": [
    "pd.__version__ \n",
    "\n",
    "# Note here there's TWO underscores before *and* after version."
   ]
  },
  {
   "cell_type": "markdown",
   "id": "2c7d0d62",
   "metadata": {},
   "source": [
    "Within ONS our current version of Pandas is `0.20.1`, which all course material is designed around. If you have an older version you may find some parts may not work as expected. \n",
    "\n",
    "If you have a more modern version you may find some small changes; like different parameter names or possibly more streamlined ways to write certain parts of code.\n",
    "\n",
    "Most versions are backwards compatible so should function as expected.\n",
    "\n",
    "## Series\n",
    "\n",
    "Pandas gives us two new object types, one of which is universally popular.\n",
    "\n",
    "`Series` are:\n",
    "\n",
    "* One dimensional arrays\n",
    "* Act like columns in a spreadsheet\n",
    "* Must have items of the same type (int, float or str)\n",
    "* Has a series index, which defaults to start at 0\n",
    "\n",
    "\n",
    "Series have a large number of special methods and procedures associated with them; which we’ll explore in this course. In the following example we will create a series from scratch, but this is not something we often do in practice, hence why the other data structure will be the focus of this course.\n",
    "\n",
    "### Example \n",
    "\n",
    "To create an object from pandas (or any package) in this case a series, we:\n",
    "\n",
    "* Assign a name to the object you will create\n",
    "* Reference the package (be it the full name or the alias you created) by typing it out.\n",
    "* Use dot notation, as we are taking the `Series` **function** from pandas (this is NOT a **method** as pandas is a package not an object!)\n",
    "* Provide the Series function a list of objects that will be converted to an ordered series.\n"
   ]
  },
  {
   "cell_type": "code",
   "execution_count": null,
   "id": "9d60735a",
   "metadata": {},
   "outputs": [],
   "source": [
    "python_movies = pd.Series([\"And Now For Something Completely Different\",\n",
    "                           \"Monty Python and the Holy Grail\",\n",
    "                           \"Monty Python's Life of Brian\",\n",
    "                           \"Monty Python Live at the Hollywood Bowl\",\n",
    "                           \"Monty Python's Meaning of Life\",\n",
    "                           \"Monty Python Live (Mostly)\"])\n",
    "\n",
    "\n",
    "# Display the series below the cell.\n",
    "\n",
    "python_movies"
   ]
  },
  {
   "cell_type": "markdown",
   "id": "bd526c8e",
   "metadata": {},
   "source": [
    "We see that Pandas created a column of the objects we specified to the `Series()` function, ordered from 0 to 5 and it even tells us the datatype of each value in the series, remember that **objects** refer to **strings**.\n",
    "\n",
    "## DataFrames\n",
    "\n",
    "`DataFrames` are\n",
    "\n",
    "* A two dimensional version of the series object\n",
    "* Like a whole spreadsheet with both **rows** and **columns**.\n",
    "* Essentially a collection of series objects (one series per column)\n",
    "\n",
    "where\n",
    "\n",
    "* A column can only have one data type\n",
    "* Each subsequent column can have a different data type\n",
    "* The dimensions are labelled similarly to a series object\n",
    "* **index** refers to the row labels, defaults to starting at 0\n",
    "* **columns** refers to the column labels, or headers.\n",
    "\n",
    "The `DataFrames` will have some of the same methods as `Series` and some different, with the major methods they both share being heavily utilized in Data Analysis, with no series specific method worth mentioning over dataframes themselves. \n",
    "\n",
    "To create a dataframe from scratch (which again, is something we don't often do in practice, more on this in Chapter 3) we must do the following:\n",
    "\n",
    "* Create a number of `Series()` objects that will represent the columns in the dataframe (the positions should line up if you wish the columns to be linked, for example name and age).\n",
    "* Assign a name to your dataframe using the equals sign\n",
    "* Call pandas (or its alias pd) and use dot notation to call the function `DataFrame()`.\n",
    "* Within the dataframe function, we must specify a dictionary, where the keys will be the **column headers**, specified by strings, and the values should be set to the series objects you created. Remember that the syntax goes `{key:value}`.\n",
    "\n",
    "### Example"
   ]
  },
  {
   "cell_type": "code",
   "execution_count": null,
   "id": "f05a35ba",
   "metadata": {},
   "outputs": [],
   "source": [
    "# Note that python_movies already exists from my previous cell so I can recycle it\n",
    "\n",
    "python_live = pd.Series([False, False, False, False, False, True])\n",
    "python_year = pd.Series([1971, 1975, 1979, 1982, 1983, 2014])\n",
    "\n",
    "# Now I'll create my Dataframe\n",
    "\n",
    "python_movies_df = pd.DataFrame({\"film_name\": python_movies,\n",
    "                                 \"live\": python_live, \n",
    "                                 \"year\": python_year})\n",
    "\n",
    "# then print out the Data Frame\n",
    "\n",
    "python_movies_df"
   ]
  },
  {
   "cell_type": "markdown",
   "id": "f115aef3",
   "metadata": {},
   "source": [
    "**Why are we not creating series and data frames?**\n",
    "\n",
    "So, why do we not make use of these functions above to creating these objects from scratch? When we work in Python and with datasets in general, we’re often reading in data from files (such as Excel spreadsheets! It all comes full circle). However, it can be a useful skill to know, and if you wish to extend your knowledge [here]( https://pandas.pydata.org/pandas-docs/stable/getting_started/dsintro.html) is a short tutorial.\n",
    "\n",
    "<a id='help'></a>"
   ]
  },
  {
   "cell_type": "markdown",
   "id": "7bd4a688",
   "metadata": {},
   "source": [
    "<hr style=\"width:100%;height:4px;border-width:0;color:gray;background-color:#003d59; opacity:1\">"
   ]
  },
  {
   "cell_type": "markdown",
   "id": "ca1fc746",
   "metadata": {},
   "source": [
    "# Accessing Help\n",
    "\n",
    "In the last chapter we talked about generic places you can find help for your work in Python. Whereas in this section we’re going to talk about the in-built help within Python, called **doc (document) strings**.\n",
    "\n",
    "Here we’re going to look at the help documentation for the `.sample()` function. This can be used on a DataFrame to **randomly** sample one row from it. \n",
    "\n",
    "### Example"
   ]
  },
  {
   "cell_type": "code",
   "execution_count": null,
   "id": "b4f7a97c",
   "metadata": {},
   "outputs": [],
   "source": [
    "python_movies_df.sample()"
   ]
  },
  {
   "cell_type": "markdown",
   "id": "562f15b0",
   "metadata": {},
   "source": [
    "What if I want to change the behaviour to return multiple rows? To find out how to do this I could search the function on Google. However, it’s easier to look in the documentation contained within Python as it is within arms reach.\n",
    "\n",
    "We can do this in a few different ways, such as using the function `help()` on our code:\n",
    "\n",
    "## Help"
   ]
  },
  {
   "cell_type": "code",
   "execution_count": null,
   "id": "1985b0f7",
   "metadata": {},
   "outputs": [],
   "source": [
    "# Run this Cell to show the help\n",
    "help(python_movies_df.sample)"
   ]
  },
  {
   "cell_type": "markdown",
   "id": "6a4e0732",
   "metadata": {},
   "source": [
    "The help documentation has a few different sections. As the contents of these are defined by the creator of the function some may have more information in them than others. We can utilise google and other documentation to supplement these if necessary, there are many excellent resources online that not only display the parameters of a function and its structure, but also give examples of its use, such as the [W3Schools](https://www.w3schools.com/python/default.asp) mentioned earlier. \n",
    "\n",
    "This docstring has:\n",
    "\n",
    "* `Signature` - the text we use to call the function and the parameters (think options) and arguments (default values) inside of the brackets. Here we have several; the parameter `n = ` controls the number of rows returned and parameter called `replace = ` and the default argument for this is `False`.\n",
    "\n",
    "* Underneath this tells us the `Docstring` – which is information about the function written by its creator.\n",
    "\n",
    "* Thirdly `parameters` gives us more information about the parameters (options) we can set within this function. Going back to our `replace = ` parameter, we can see that this takes a `Boolean` argument (`True` or `False`) and that it controls if we sample with or without replacement.\n",
    "\n",
    "* At the bottom we have `Returns` which tells us what the function returns; and underneath this we have `Examples` - not all functions will have this level of detail in the docstring!\n",
    "\n",
    "### Example\n",
    "Now we know other parameters we can set for `python_movies_df.sample()` let’s try returning a sample of 4 rows, and turn `replace = ` to `True`"
   ]
  },
  {
   "cell_type": "code",
   "execution_count": null,
   "id": "6ab04e30",
   "metadata": {},
   "outputs": [],
   "source": [
    "python_movies_df.sample(n=4 , replace=True)"
   ]
  },
  {
   "cell_type": "markdown",
   "id": "1a5102aa",
   "metadata": {},
   "source": [
    "Due to the random sampling you may need to run the above cell a few times until you see duplicate rows.\n",
    "\n",
    "We’ve now used our Docstring to find some additional arguments we can specify to modify the behaviour of `.sample()`. Our parameters and their arguments (`n=4 ` and `replace=True`) go inside of the round brackets of the function, and are separated by commas. Remember that these will not be recognised as variables outside of the function as that is **not** what they are! \n",
    "\n",
    "We can access the Docstrings in a few other ways, for example we can use a `?` before the name of our function. This may not always work with certain versions of Python and in this case, `help()` should be used instead as it is universal."
   ]
  },
  {
   "cell_type": "code",
   "execution_count": null,
   "id": "43fd4ebf",
   "metadata": {},
   "outputs": [],
   "source": [
    "?python_movies_df.sample"
   ]
  },
  {
   "cell_type": "markdown",
   "id": "32a76abd",
   "metadata": {},
   "source": [
    "Jupyter Notebooks also has a rather nice way of accessing the docstring. To show this off, Place your cursor somewhere in the object below (in Jupyter, not this HTML document).\n",
    "\n",
    "* Pressing Shift + Tab once shows the parameters available for the object you are looking at.\n",
    "\n",
    "* Pressing Shift + Tab twice shows the whole docstring\n",
    "\n",
    "* Pressing Shift + Tab a third time makes the tool-tip linger for 10 seconds.\n",
    "\n",
    "* Pressing Shift + Tab a fourth time put the tool-tip into a larger pane in the browser.\n",
    "\n",
    "Another thing to keep in mind is that `.sample()` is a fairly simple method which doesn't have many parameters and arguments. Many other functions with larger capabilities in their methods have much more involved results with the help function.\n",
    "\n",
    "### Example\n",
    "Have a look at the Docstring below for `pd.read_csv()` which we use for reading in CSV files into Python (more on this next chapter!).\n"
   ]
  },
  {
   "cell_type": "code",
   "execution_count": null,
   "id": "437dd4cd",
   "metadata": {},
   "outputs": [],
   "source": [
    "help(pd.read_csv)"
   ]
  },
  {
   "cell_type": "markdown",
   "id": "6ab00098",
   "metadata": {},
   "source": [
    "<a id='help'></a>\n",
    "\n",
    "<hr style=\"width:100%;height:4px;border-width:0;color:gray;background-color:#003d59; opacity:1\">\n",
    "\n",
    "# Chapter Summary \n",
    "\n",
    "Wow, that was **alot!**, congratulations on completing Chapter 2 of the Introduction to Python course, you star!\n",
    "\n",
    "In Chapter 3, we start opening the curtains behind Data Analysis (just a peep!) by exploring:\n",
    "\n",
    "* Reading in datasets\n",
    "* Exporting datasets"
   ]
  }
 ],
 "metadata": {
  "kernelspec": {
   "display_name": "Python 3 (ipykernel)",
   "language": "python",
   "name": "python3"
  },
  "language_info": {
   "codemirror_mode": {
    "name": "ipython",
    "version": 3
   },
   "file_extension": ".py",
   "mimetype": "text/x-python",
   "name": "python",
   "nbconvert_exporter": "python",
   "pygments_lexer": "ipython3",
   "version": "3.9.7"
  }
 },
 "nbformat": 4,
 "nbformat_minor": 5
}
