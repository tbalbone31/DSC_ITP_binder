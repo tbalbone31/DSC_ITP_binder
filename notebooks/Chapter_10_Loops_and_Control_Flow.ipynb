{
 "cells": [
  {
   "cell_type": "markdown",
   "metadata": {},
   "source": [
    "<hr style=\"width:100%;height:4px;border-width:0;color:gray;background-color:#003d59; opacity:0.25\"> \n",
    "\n",
    "![Analysis Function and DSC Logo](../images/AF_DSC_banner.png)\n",
    "<hr style=\"width:100%;height:4px;border-width:0;color:gray;background-color:#003d59; opacity:0.25\"> "
   ]
  },
  {
   "cell_type": "markdown",
   "metadata": {},
   "source": [
    "# Introduction to Python\n",
    "\n",
    "## Chapter 10 - Loops and Control Flow\n",
    "\n",
    "*Chapter Overview and Learning Objectives*:\n",
    "\n",
    "* [Loops](#loops)\n",
    "  - For Loops\n",
    "  - While Loops\n",
    "\n",
    "* [Control Flow](#flow)\n",
    "  - If, Elif and Else Chains\n",
    "\n",
    "<a id='loops'></a>"
   ]
  },
  {
   "cell_type": "markdown",
   "metadata": {},
   "source": [
    "<a id='packages'></a>\n",
    "<hr style=\"width:100%;height:4px;border-width:0;color:gray;background-color:#003d59; opacity:1\">"
   ]
  },
  {
   "cell_type": "markdown",
   "metadata": {},
   "source": [
    "# Loops\n",
    "\n",
    "You may be wondering why we revised comparison and logical operators in the lead up to this chapter of Core Part 2. This is because we use these conditional statements and comparison operators when we create loops (seen in this section) and control flow (seen in a later section). \n",
    "\n",
    "Loops are useful for when we need to repeat a section of code, such as for each piece of data in a list. Often we have large Data Structures which we must apply various methods across, and whilst there are functions that allow us to do this easily, sometimes we must resort to the method of looping.   \n",
    "\n",
    "Python gives us two forms of loops, a `for` loop and a `while` loop.\n",
    "\n",
    "## For Loops\n",
    "\n",
    "When we use a `for` loop, we take each item in an **iterable** and repeat an action over it. True to its name, an iterable is something we can **iterate** over (a.k.a perform repeatedly) and we have seen many of these already in Core Part 1. For example we have:\n",
    "\n",
    "* Lists\n",
    "* Tuples\n",
    "* Ranges (recall `range()` and `np.arange()`)\n",
    "* Strings (Yes, you can iterate over these, character by character!)\n",
    "\n",
    "In general, the syntax for coding these goes as follows:\n",
    "\n",
    "`for each_thing in my_iterable:\n",
    "     do_this_action()`\n",
    "     \n",
    "Let's break this down as there are some interesting concepts here:\n",
    "\n",
    "* For loops start with the keyword `for` (syntax highlighting is in play!).\n",
    "\n",
    "* This is followed by a variable that refers to each item within the iterable in turn. This is chosen **by you** so using a name that makes sense allows your code to be more readable (for example if you have a list of numbers, this could be **num**).\n",
    "\n",
    "* The keyword `in` is followed by the iterable we want to loop over. \n",
    "\n",
    "* The line is finished with a colon `:`. This tells python that whatever follows belongs to this loop.\n",
    "\n",
    "The next lines contain the actions that will happen for each item in the iterable. This is indented by 4 spaces or a tab. Most code writing tools will automatically indent for you. To tell Python that something is **outside** the loop, you need to un-indent the code, so that it is effectively a separate statement. \n",
    "\n",
    "Let's see an example where we print out each number of a list.\n",
    "\n",
    "### Example 1"
   ]
  },
  {
   "cell_type": "code",
   "execution_count": null,
   "metadata": {},
   "outputs": [],
   "source": [
    "# Create my iterable\n",
    "number_list = [0, 1, 2, 3, 4, 5]\n",
    "\n",
    "# Create my for loop\n",
    "for each_number in number_list:\n",
    "    print(each_number)\n",
    "\n",
    "# Something outside the loop\n",
    "print(\"This is outside of the loop!\")"
   ]
  },
  {
   "cell_type": "markdown",
   "metadata": {},
   "source": [
    "* Here I’ve created a list called `number_list` with the numbers 0 to 5.\n",
    "\n",
    "* Again the keyword `for` is followed by a variable that refers to each item in my iterable at a given point in the loop. I’ve called this variable `each_number` . You’ll often see letters like `i` used here, which is particularly common when using `range()` objects.\n",
    "\n",
    "* The keyword `in` is followed by the iterable I want to loop over and the line is finished with a colon `:` .\n",
    "\n",
    "* My action is indented (by 4 spaces or a tab, remember, Jupyter did this automatically and so do many other IDEs), and tells the computer to use the `print()` function to print `each_number`.\n",
    "\n",
    "### Example 2\n",
    "\n",
    "Let's see a more complex example where we double each number and print it, using a different iterable, the `range()` object."
   ]
  },
  {
   "cell_type": "code",
   "execution_count": null,
   "metadata": {},
   "outputs": [],
   "source": [
    "for each_item in range(6): # Remember that 6 is exclusive!\n",
    "    print(each_item*2)"
   ]
  },
  {
   "cell_type": "markdown",
   "metadata": {},
   "source": [
    "We can apply these tools to much more complex objects and even contain more complex processes as well. For example, we can use functions, it doesn't have to be printing numbers. \n",
    "\n",
    "### Example 3\n",
    "\n",
    "Here we’re using the `len()` function to return the length of the string of each day of the week."
   ]
  },
  {
   "cell_type": "code",
   "execution_count": null,
   "metadata": {},
   "outputs": [],
   "source": [
    "days_list = [\"Monday\", \"Tuesday\", \"Wednesday\", \"Thursday\",\n",
    "             \"Friday\", \"Saturday\", \"Sunday\"]\n",
    "\n",
    "for day in days_list:\n",
    "    print(day, \"has a length of\", len(day))"
   ]
  },
  {
   "cell_type": "markdown",
   "metadata": {},
   "source": [
    "### Extended Example 4\n",
    "\n",
    "I want to add each day and it’s length as a list into a new list called days_and_length.\n",
    "\n",
    "I create a new blank list using [] and in my `for` loop I use `.extend()` to add a list of the day and the number of letters in the day to my list.\n",
    "\n",
    "The reason we use `.extend()` and not `.append()` is because we are adding another **iterable**, in this case a list, to the end of an empty list. It is worth remembering that using `.append()` is fine for single values, whereas `.extend()` is recommended for adding an iterable into another.\n",
    "\n",
    "Note that the creation of the new list is done outside of the loop. Why is this? It's because everytime the loop returns to the first step, it will create a new list and overwrite each time, meaning we will end up with just the final pair of values at the end! Whereas if we create the container first, it will continually fill via the loop. "
   ]
  },
  {
   "cell_type": "code",
   "execution_count": null,
   "metadata": {},
   "outputs": [],
   "source": [
    "days_list = [\"Monday\", \"Tuesday\", \"Wednesday\", \"Thursday\",\n",
    "             \"Friday\", \"Saturday\", \"Sunday\"]\n",
    "\n",
    "days_and_length = [] # Create a new blank list\n",
    "\n",
    "for day in days_list:\n",
    "    days_and_length.extend([ day, len(day)])\n",
    "    \n",
    "# Return my new list\n",
    "\n",
    "days_and_length"
   ]
  },
  {
   "cell_type": "markdown",
   "metadata": {},
   "source": [
    "### Exercise 1\n",
    "\n",
    "You are given a list of measurements that are grams (g). \n"
   ]
  },
  {
   "cell_type": "code",
   "execution_count": null,
   "metadata": {},
   "outputs": [],
   "source": [
    "grams = [100000, 7899900, 967312, 49185, 6100]"
   ]
  },
  {
   "cell_type": "markdown",
   "metadata": {},
   "source": [
    "Write a for loop to convert all of these measurements to kilograms (kg) and store these values in a new list `kg_conversion`. Since we are just adding a single value, we can use `.append()` this time. \n",
    "\n",
    "For reference, 1kg is the same as 1000 grams."
   ]
  },
  {
   "cell_type": "code",
   "execution_count": null,
   "metadata": {},
   "outputs": [],
   "source": [
    "# Space for Exercise\n"
   ]
  },
  {
   "cell_type": "markdown",
   "metadata": {},
   "source": [
    "### Exercise 2 \n",
    "\n",
    "You are given a list of temperatures in Fahrenheit.\n",
    "\n",
    "Use the following formula and a `for loop` to convert these into Degrees Celsius. Store the values in fahrenheit **then** celsius as pairs in a new list, named `celsius conversion`. It is also worth thinking about rounding here, as the numbers can get a big gnarly!\n",
    "\n",
    "$C= \\frac{5}{9}(F - 32)$"
   ]
  },
  {
   "cell_type": "code",
   "execution_count": null,
   "metadata": {},
   "outputs": [],
   "source": [
    "fahrenheit = [60, 72, 85, 93, 100]"
   ]
  },
  {
   "cell_type": "code",
   "execution_count": null,
   "metadata": {},
   "outputs": [],
   "source": [
    "# Space for Exercise\n"
   ]
  },
  {
   "cell_type": "markdown",
   "metadata": {},
   "source": [
    "<a id='packages'></a>\n",
    "<hr style=\"width:100%;height:4px;border-width:0;color:gray;background-color:#003d59; opacity:1\">"
   ]
  },
  {
   "cell_type": "markdown",
   "metadata": {},
   "source": [
    "## Weaknesses of Loops\n",
    "\n",
    "I mentioned earlier that sometimes we must use loops when particular functions are not available, however, when it comes to large data structures, they normally wouldn't be our first choice of investigation. It’s worth remembering that although loops can be useful, they can also be less efficient than inbuilt Python methods. \n",
    "\n",
    "For example, I could use a `for` loop to go through each row of the `titanic` dataframe and find each persons fare as a % of the whole. While this wouldn’t be an incorrect use of code; it would be more inefficient then creating a new column using the `pandas` methods we’ve seen in previous chapters. \n",
    "\n",
    "It’s always a good idea to think when faced with a scenario where you must repeat a task, if there a more “pythonic” way of doing this action, considering the different packages available to us (pandas, numpy and so on).\n",
    "\n",
    "[return to menu](#menu)\n",
    "\n",
    "<a id='while_loops'></a>\n"
   ]
  },
  {
   "cell_type": "markdown",
   "metadata": {},
   "source": [
    "<a id='packages'></a>\n",
    "<hr style=\"width:100%;height:4px;border-width:0;color:gray;background-color:#003d59; opacity:1\">"
   ]
  },
  {
   "cell_type": "markdown",
   "metadata": {},
   "source": [
    "# While Loops\n",
    "\n",
    "Our other type of loops are `while` loops. Whilst `For` loops iterate a set amount of times, or over a set number of things, a while loop iterates constantly until it no longer meets a certain condition set by the user.\n",
    "\n",
    "Syntax wise, it goes as follows:\n",
    "\n",
    "\n",
    "`condition = value`\n",
    "\n",
    "`while condition is True:\n",
    "    do_this_action()`\n",
    "    \n",
    "\n",
    "### Example\n",
    "\n",
    "* First we have to set our condition, which is `stop_value = 0` here.\n",
    "\n",
    "* We start the loop with the keyword `while` followed by our conditional statement, and we finish, as with the for loop, with a colon `:`.\n",
    "\n",
    "* Underneath, as before we have the instructions that will be carried out until the condition equates to `False`. Here we’re printing out the value and then adding 1 to it; `+= 1` is a convenient way of adding `1` to a number. (This also applies to other mathematical operations, -=1 means subtract 1 each time).\n",
    "\n",
    "It is important that our condition at some point will change so that the `while` loop will stop, or else it will continue running \"forever\" (you can always stop your code running with the stop button).\n"
   ]
  },
  {
   "cell_type": "code",
   "execution_count": null,
   "metadata": {},
   "outputs": [],
   "source": [
    "stop_value = 0\n",
    "\n",
    "while stop_value < 5: # Condition\n",
    "    print(stop_value)\n",
    "    stop_value += 1  "
   ]
  },
  {
   "cell_type": "markdown",
   "metadata": {},
   "source": [
    "What happens if you put the `print()` statement after the `stop_value += 1`?"
   ]
  },
  {
   "cell_type": "code",
   "execution_count": null,
   "metadata": {},
   "outputs": [],
   "source": [
    "stop_value = 0\n",
    "\n",
    "while stop_value < 5 :\n",
    "    stop_value += 1\n",
    "    print(stop_value)"
   ]
  },
  {
   "cell_type": "markdown",
   "metadata": {},
   "source": [
    "Can you guess what would happen if we remove the `stop_value += 1` condition? (Hint: it could go on forever!) To escape your infinite loop press the solid square \"stop\" button on the menu bar."
   ]
  },
  {
   "cell_type": "markdown",
   "metadata": {},
   "source": [
    "### Exercise\n",
    "\n",
    "Code a `while` loop with the following characteristics:\n",
    "\n",
    "* Assign the value of a variable `temperature` to be 40.\n",
    "\n",
    "* The condition of the `while` loop, should check if the `temperature` is higher than or equal to 20.\n",
    "\n",
    "* The first command in the body should print out `\"Its way too hot, it's\"` followed by the current value of `temperature`.\n",
    "\n",
    "* The next command should decrease the `temperature` by 2 and assign this new value to `temperature` again.\n"
   ]
  },
  {
   "cell_type": "code",
   "execution_count": null,
   "metadata": {},
   "outputs": [],
   "source": [
    "# Space for Exercise \n"
   ]
  },
  {
   "cell_type": "markdown",
   "metadata": {},
   "source": [
    "[return to menu](#menu)\n",
    "\n",
    "<a id='flow'></a>\n"
   ]
  },
  {
   "cell_type": "markdown",
   "metadata": {},
   "source": [
    "<a id='packages'></a>\n",
    "<hr style=\"width:100%;height:4px;border-width:0;color:gray;background-color:#003d59; opacity:1\">"
   ]
  },
  {
   "cell_type": "markdown",
   "metadata": {},
   "source": [
    "# Control Flow\n",
    "\n",
    "Now we introduce Control Flow, which concerns the order of which the computer evaluates expressions. We can **control** this **flow** (sorry!) using special keywords in Python. It is worth noting that the concepts introduced here can hold functions, loops and other such processes within their sequence of statements. \n",
    "\n",
    "## If, Elif and Else Statements\n",
    "\n",
    "The major keywords we introduce in this sub-chapter are `if, elif and else`. These are not loops, but are similar in terms of the syntax we make use of to utilise them. \n",
    "\n",
    "* They take a conditional argument, and `if` that is met (evaluates to `True`) then the associated action is completed. We usually only have one of these in a singular control flow.\n",
    "\n",
    "* If the condition is not met it will move to an `elif` (stands for `else if`) condition, and if that condition is met the associated action will be completed. There are often a few of these to cover some alternative if conditions. \n",
    "\n",
    "* Finally, if none of the conditions are met the actions in the `else` block are executed. This is usually known as a **default** condition, i.e. if all `else` fails, then execute this. \n",
    "\n",
    "As you can see, this gives us a lot of flexibility in how our code will be written and run. The syntax goes as follows:\n",
    "\n",
    "`condition = value`\n",
    "\n",
    "`if condition_1:\n",
    "    do_action_1()\n",
    "elif condition_2:\n",
    "    do_action_2()\n",
    "else:\n",
    "    do_action_3()`\n",
    "    \n",
    "You can see that each keyword starts a new indent when followed with a `:`, so ensure that the `elif`, `else` keywords are not within an indent themselves, as this will mess up the flow!\n",
    "\n",
    "A really important note to make here is that there should be **no blank lines** between each statement. If this is done, Python will think that the `if` statement was the only one in the chain and thus will throw a syntax error upon seeing the `elif` or `else`. \n",
    "\n",
    "Let's look at an example!\n",
    "\n",
    "### Example 1: if-else\n",
    "\n",
    "Here we will use an equivalence condition (==) in an if-else chain without the use of an elif. "
   ]
  },
  {
   "cell_type": "code",
   "execution_count": null,
   "metadata": {},
   "outputs": [],
   "source": [
    "my_height = 6\n",
    "\n",
    "if my_height == 5:\n",
    "    print(\"We're the same height\")\n",
    "else:\n",
    "    print(\"Your height is different\")"
   ]
  },
  {
   "cell_type": "markdown",
   "metadata": {},
   "source": [
    "A few very important things to note here:\n",
    "\n",
    "* We can just have an `if`, or we can just have an `if` and an `else`. \n",
    "\n",
    "* If the first criteria isn’t met it will move to an `elif` if one exists and evaluate that statement. If `True` that code will be actioned.\n",
    "\n",
    "* If the `elif` equates to `False` it will skip that code block and move to the next `elif` if one exists. If not it will skip to the `else`.\n",
    "\n",
    "### Example 2: if-elif-else\n",
    "\n",
    "We can add in more choices using an `elif` statement."
   ]
  },
  {
   "cell_type": "code",
   "execution_count": null,
   "metadata": {},
   "outputs": [],
   "source": [
    "my_height = 7\n",
    "\n",
    "if my_height == 5:\n",
    "    print(\"We're the same height\")\n",
    "elif my_height > 7:\n",
    "    print(\"You're tall!\")\n",
    "else:\n",
    "    print(\"Your height is different\")"
   ]
  },
  {
   "cell_type": "markdown",
   "metadata": {},
   "source": [
    "### Multiple Conditions in a Chain\n",
    "\n",
    "We can use multiple conditions too, using our logical operators & (and) , | (or). Like our filters in Core Part 1, each condition gets it's own set of round brackets to ensure Python evaluates them correctly.\n"
   ]
  },
  {
   "cell_type": "code",
   "execution_count": null,
   "metadata": {},
   "outputs": [],
   "source": [
    "my_height = 9\n",
    "\n",
    "if (my_height == 5):\n",
    "    print(\"We're the same height\")\n",
    "elif (my_height > 7) & (my_height < 10):\n",
    "    print(\"You're tall!\")\n",
    "else:\n",
    "    print(\"Your height is different\")"
   ]
  },
  {
   "cell_type": "markdown",
   "metadata": {},
   "source": [
    "Here we want the action to happen if the value is greater than 7 and less than 10. The brackets are important as they tell Python to evaluate the elif as a whole.\n",
    "\n",
    "If we didn't have the brackets inputting 11 still evaluates as \"You're tall\" because it meets the condition `my_height > 7` and performs the action. Let's see this in action:"
   ]
  },
  {
   "cell_type": "code",
   "execution_count": null,
   "metadata": {},
   "outputs": [],
   "source": [
    "my_height = 11\n",
    "\n",
    "if my_height == 5:\n",
    "    print(\"We're the same height\")\n",
    "elif my_height > 7 & my_height < 10:\n",
    "    print(\"You're tall!\")\n",
    "elif my_height == 11:\n",
    "    print(\"It's 11\")\n",
    "else:\n",
    "    print(\"Your height is different\")"
   ]
  },
  {
   "cell_type": "markdown",
   "metadata": {},
   "source": [
    "### The Workings of Control Flow\n",
    "\n",
    "It’s important to know how the `if, elif, else` works. When the condition is met it performs the action associated with it and then stops evaluating the rest of the conditional code.\n",
    "\n",
    "### Example\n",
    "\n",
    "Here we have two options for when the value is 5. However it will only print out` “We’re the same height!” ` as the `if` evaluated to true and it stopped there without reading the rest."
   ]
  },
  {
   "cell_type": "code",
   "execution_count": null,
   "metadata": {},
   "outputs": [],
   "source": [
    "my_height = 5\n",
    "\n",
    "if (my_height == 5):\n",
    "    print(\"We're the same height\")\n",
    "elif (my_height > 7) & (my_height < 10):\n",
    "    print(\"You're tall!\")\n",
    "elif (my_height == 5):\n",
    "    print(\"Wow, it's still 5!\")\n",
    "else:\n",
    "    print(\"Your height is different\")"
   ]
  },
  {
   "cell_type": "markdown",
   "metadata": {},
   "source": [
    "If you use other languages you may be used to using switch cases; or `case_when()` in R, which are faster and more efficient methods. Python is starting to introduce switch cases, but only from [Python version 3.10](https://towardsdatascience.com/switch-case-statements-are-coming-to-python-d0caf7b2bfd3).\n",
    "\n",
    "There are ways to implement something similar using either functions or classes. [This tutorial]( https://data-flair.training/blogs/python-switch-case/ ) from Data Flair explains how.\n",
    "\n",
    "If you're looking to apply something similar to a DataFrame `np.select()` might be a useful tool and is covered in the **Core Part 1 Reference Materials**."
   ]
  },
  {
   "cell_type": "markdown",
   "metadata": {},
   "source": [
    "<a id='packages'></a>\n",
    "<hr style=\"width:100%;height:4px;border-width:0;color:gray;background-color:#003d59; opacity:1\">"
   ]
  },
  {
   "cell_type": "markdown",
   "metadata": {},
   "source": [
    "# End of Chapter Exercise\n",
    "\n",
    "Write a loop containing control flow with an `if`, `elif` and `else` statement, that loops through the numbers from 1 to 30. It should have the following properties:\n",
    "\n",
    "* If the number is a multiple of both 3 and 5, print FizzBuzz. \n",
    "\n",
    "* If the number is a mutiple of 3, print the word Fizz. \n",
    "\n",
    "* If the number is a mutiple of 5, print the word Buzz.\n",
    "\n",
    "* For all other values print the number.\n",
    "\n",
    "You can use the modulus operator for this, which is the `%` in python, and shows us our remainder when dividing integers. \n",
    "\n",
    "For example checking if something is completely divisible by 7 we could do\n",
    "\n",
    "`item % 7 == 0`\n",
    "\n",
    "If this returns `True` we know it's divisible by 7, if it returns `False` then it's not!"
   ]
  },
  {
   "cell_type": "code",
   "execution_count": null,
   "metadata": {},
   "outputs": [],
   "source": [
    "# Example of Modulo\n",
    "\n",
    "10 % 3 == 0\n",
    "\n",
    "# Returns False (10 / 3 has a remainder of 1, so does not have a remainder of 0. However if we just used 10 % 3 it would give 1)"
   ]
  },
  {
   "cell_type": "code",
   "execution_count": null,
   "metadata": {},
   "outputs": [],
   "source": [
    "# Second example of Modulo\n",
    "\n",
    "9 % 3 == 0\n",
    "\n",
    "# Returns True (9 / 3 has a remainder of 0))"
   ]
  },
  {
   "cell_type": "code",
   "execution_count": null,
   "metadata": {},
   "outputs": [],
   "source": [
    "# Space for Exercise\n"
   ]
  },
  {
   "cell_type": "markdown",
   "metadata": {},
   "source": [
    "# Chapter Summary\n",
    "\n",
    "Congratulations! You have conquered the world of control flow and laborious looping! You can now move on to Chapter 11, which covers a very useful alternative to looping in Python when working with certain data structures, as follows:\n",
    "\n",
    "* Comprehension\n",
    "* List Comprehension\n",
    "* Dictionary Comprehension (Overview)"
   ]
  }
 ],
 "metadata": {
  "kernelspec": {
   "display_name": "Python 3",
   "language": "python",
   "name": "python3"
  },
  "language_info": {
   "codemirror_mode": {
    "name": "ipython",
    "version": 3
   },
   "file_extension": ".py",
   "mimetype": "text/x-python",
   "name": "python",
   "nbconvert_exporter": "python",
   "pygments_lexer": "ipython3",
   "version": "3.8.3"
  }
 },
 "nbformat": 4,
 "nbformat_minor": 5
}
