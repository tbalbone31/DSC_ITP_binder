{
 "cells": [
  {
   "cell_type": "markdown",
   "id": "038949c0",
   "metadata": {},
   "source": [
    "<hr style=\"width:100%;height:4px;border-width:0;color:gray;background-color:#003d59; opacity:0.25\"> \n",
    "\n",
    "![Analysis Function and DSC Logo](../images/AF_DSC_banner.png)\n",
    "<hr style=\"width:100%;height:4px;border-width:0;color:gray;background-color:#003d59; opacity:0.25\"> "
   ]
  },
  {
   "cell_type": "markdown",
   "id": "1a2a9e74",
   "metadata": {},
   "source": [
    "# Introduction to Python\n",
    "\n",
    "## Chapter 11 - Comprehension\n",
    "\n",
    "*Chapter Overview and Learning Objectives*:\n",
    "\n",
    "* [List Comprehension](#list)\n",
    "  - The building blocks\n",
    "  - Conditions in Comprehensions\n",
    "  - Comprehension with Control Flow\n",
    "\n",
    "* [Aside - Dictionary Comprehension](#dict)\n",
    "\n",
    "<a id='list'></a>"
   ]
  },
  {
   "cell_type": "markdown",
   "id": "2ae38700",
   "metadata": {},
   "source": [
    "<a id='packages'></a>\n",
    "<hr style=\"width:100%;height:4px;border-width:0;color:gray;background-color:#003d59; opacity:1\">"
   ]
  },
  {
   "cell_type": "markdown",
   "id": "83e76161",
   "metadata": {},
   "source": [
    "# List Comprehension\n",
    "\n",
    "We saw in Chapter 10 that a new list can be created by looping through an existing one and applying a specific process, then appending (or extending) the values in. This is a very robust method, allowing us to break down complex conditions and will always have its uses, but can be quite laborious and makes you wonder how slow it would be with enormous lists. \n",
    "\n",
    "To combat this, we have an extremely useful tool that is known as **list comprehension**, which allows us to accomplish these processes in a single line of code. Much of this section will be adapted from the [W3Schools](https://www.w3schools.com/python/python_lists_comprehension.asp) tutorials, which are incredibly useful. \n",
    "\n",
    "## The Building Blocks of Comprehensions\n",
    "\n",
    "We will start by looking at how the syntax borrows elements from Chapter 10 and how we can potentially streamline those solutions in many cases.\n",
    "\n",
    "### Example - For Loop \n",
    "\n",
    "Say that we have a list of numbers, and we want to double them like we did before. Let's review the way we did this with a `for` loop."
   ]
  },
  {
   "cell_type": "code",
   "execution_count": null,
   "id": "ee2130a0",
   "metadata": {},
   "outputs": [],
   "source": [
    "numbers = [1, 2, 3, 4, 5, 6, 7, 8, 9, 10]\n",
    "\n",
    "double_list = [] # We can create a blank list to store our doubled numbers\n",
    "\n",
    "for each_number in numbers:\n",
    "    double_list.append(each_number * 2) \n",
    "    \n",
    "print(double_list)"
   ]
  },
  {
   "cell_type": "markdown",
   "id": "39719f0e",
   "metadata": {},
   "source": [
    "Now for the list comprehension, let's first view the syntax:\n",
    "\n",
    "**DONT** run the following cell, it won't work!"
   ]
  },
  {
   "cell_type": "code",
   "execution_count": null,
   "id": "4125b817",
   "metadata": {},
   "outputs": [],
   "source": [
    "original_list = []\n",
    "\n",
    "new_list = [expression for our_item in iterable if condition is True]"
   ]
  },
  {
   "cell_type": "markdown",
   "id": "274b106e",
   "metadata": {},
   "source": [
    "This seems a bit obtuse at first glance, but let's break it down!\n",
    "\n",
    "* The `expression` denotes what we wish to do to each `our_item` in the iterable.\n",
    "\n",
    "* Each `our_item` is the name we give to each element as with loops.\n",
    "\n",
    "* The condition is actually optional, we don't necessarily need a condition say, if we just want to apply a mathematical operation to the values of the iterable. We will see examples of both.\n",
    "\n",
    "Our goal now is to recreate the for loop example using comprehensions! Let's start small though, not to overcomplicate things too fast!\n",
    "\n",
    "### Example - List for List\n",
    "\n",
    "To illustrate the functionality of this method, let's get it to essentially 'do nothing' and replace one list for the same list."
   ]
  },
  {
   "cell_type": "code",
   "execution_count": null,
   "id": "604fd316",
   "metadata": {},
   "outputs": [],
   "source": [
    "names = [\"Jake\", \"Hannah\", \"Katherine\", \"Josh\"]\n",
    "\n",
    "my_names = [name for name in names] # Inputting it item for item (word for word)\n",
    "\n",
    "my_names"
   ]
  },
  {
   "cell_type": "markdown",
   "id": "fa575cd1",
   "metadata": {},
   "source": [
    "You see that this is not only powerful but fast at what it does even with the smallest example we can come up with as seen here.\n",
    "\n",
    "### Example - Using a range() Object\n",
    "\n",
    "Let's create a new list from another kind of iterable this time, namely the `range()` object, which is exclusive! This can be done in one line as follows:"
   ]
  },
  {
   "cell_type": "code",
   "execution_count": null,
   "id": "0fa15de8",
   "metadata": {},
   "outputs": [],
   "source": [
    "# Use the range() function within a list comprehension\n",
    "\n",
    "zero_to_ten = [num for num in range(0, 11)]\n",
    "\n",
    "zero_to_ten"
   ]
  },
  {
   "cell_type": "markdown",
   "id": "9f52680d",
   "metadata": {},
   "source": [
    "So you can see that this method is incredibly useful when it comes to creating data structures quickly, without the need for enormous amounts of code. \n",
    "\n",
    "### Example - Recreating the for loop example\n",
    "\n",
    "Now we are ready to recreate that earlier example! The only thing we are missing is the change to the `expression` part of the comprehension, which is where we tell Python what to do to each element of the original list, here this will be multiplying by 2!"
   ]
  },
  {
   "cell_type": "code",
   "execution_count": null,
   "id": "4b414cbd",
   "metadata": {},
   "outputs": [],
   "source": [
    "# take each number in the numbers list and double it\n",
    "\n",
    "numbers = [1, 2, 3, 4, 5, 6, 7, 8, 9, 10]\n",
    "\n",
    "double_list_comprehension = [(each_number * 2) for each_number in numbers]\n",
    "\n",
    "double_list_comprehension"
   ]
  },
  {
   "cell_type": "markdown",
   "id": "69a62261",
   "metadata": {},
   "source": [
    "## Conditions in List Comprehensions\n",
    "\n",
    "We have now seen a few examples of comprehensions without the optional condition statement. Lets' spice things up a bit by making our comprehension more powerful, calling on similar statements like we used in the previous chapter.\n",
    "\n",
    "### Example - List Comprehension with Condition\n",
    "\n",
    "Here we will make it so that the new list will contain  all even numbers doubled! To evaluate an even number, it must return 0 when we use `% 2` as all even numbers are divisible by 2."
   ]
  },
  {
   "cell_type": "code",
   "execution_count": null,
   "id": "f832ff2b",
   "metadata": {},
   "outputs": [],
   "source": [
    "numbers = [1, 2, 3, 4, 5, 6, 7, 8, 9, 10]\n",
    "\n",
    "double_even_numbers = [(each_number * 2) for each_number in numbers if (each_number % 2 == 0)]\n",
    "\n",
    "double_even_numbers"
   ]
  },
  {
   "cell_type": "markdown",
   "id": "e845c1a9",
   "metadata": {},
   "source": [
    "You see that I wrapped up the condition in brackets, which will be helpful for Python when evaluating this comprehension from left to right. \n",
    "\n",
    "Note that we can also use our **logical operators** and (&), or (|) to construct more complex condition chains as well. These become unreadable fast so proceed with caution when writing such comprehensions. \n",
    "\n",
    "### Exercise \n",
    "\n",
    "Create a new list from a range object of odd numbers from 1 to 30, raising them all to the power of 2 in the new list. Call it `odd_numbers_squared`. The condition here is that the numbers themselves are odd!\n",
    "\n",
    "Hint: For a number to be odd its remainder when dividing by 2 should either:\n",
    "* **not** be 0  \n",
    "* be equivalent to 1."
   ]
  },
  {
   "cell_type": "code",
   "execution_count": null,
   "id": "39722819",
   "metadata": {},
   "outputs": [],
   "source": [
    "# Space for Exercise\n"
   ]
  },
  {
   "cell_type": "markdown",
   "id": "1a36bb7b",
   "metadata": {},
   "source": [
    "## Comprehension with Control Flow \n",
    "\n",
    "We can also construct some more complex comprehensions using control flow, where we can bring `else` statements into the mix. This allows us to really tailor the outcome of the final list we create, using some more complex logic.\n",
    "\n",
    "### Example - Including an else keyword \n",
    "\n",
    "Here we will utilise similar logic to before, doubling the numbers if they are even, however, if they are odd, the default condition will leave them unaltered and input them as they are."
   ]
  },
  {
   "cell_type": "code",
   "execution_count": null,
   "id": "ba2b39a7",
   "metadata": {},
   "outputs": [],
   "source": [
    "odd_same_evens_doubled = [(number * 2) if (number % 2 == 0) else number for number in range(1, 31)]\n",
    "\n",
    "odd_same_evens_doubled"
   ]
  },
  {
   "cell_type": "markdown",
   "id": "536c094e",
   "metadata": {},
   "source": [
    "Note the difference in syntax here, we must specify the if and else conditions first and **then** the object we are taking the values from (the original iterable).\n",
    "\n",
    "### Exercise\n",
    "\n",
    "Create a new list from a range() object from 1 to 30, where they are raised to the power of 3 (cubed) if they are multiples of 10 **or** 14, else add 1 to them. "
   ]
  },
  {
   "cell_type": "code",
   "execution_count": null,
   "id": "c12e09a5",
   "metadata": {},
   "outputs": [],
   "source": [
    "# Space for Exercise\n"
   ]
  },
  {
   "cell_type": "markdown",
   "id": "dcf2c2a9",
   "metadata": {},
   "source": [
    "<hr style=\"width:100%;height:4px;border-width:0;color:gray;background-color:#003d59; opacity:1\">"
   ]
  },
  {
   "cell_type": "markdown",
   "id": "a99434bf",
   "metadata": {},
   "source": [
    "# Aside - Dictionary Comprehension\n",
    "\n",
    "We can also perform comprehension on Dictionaries as well, utilising the curly braces {} and associated methods for this data structure. However, the methods used to create these are outside the scope of the course and as such, methods for which will be included in the list of resources below. \n",
    "\n",
    "* [DataCamp](https://www.datacamp.com/tutorial/python-dictionary-comprehension) provides an excellent all in one tutorial for working with dictionaries and creating them using the method of comprehension. This is worthy reference material if you have extra time!\n",
    "\n",
    "* [Geeks for Geeks tutorial on comprehensions](https://www.geeksforgeeks.org/comprehensions-in-python/) is useful for understanding more about this concept and more advanced things you can do with list and dictionary comprehensions.\n",
    "\n",
    "* [Corey Schafer's Youtube Video](https://www.youtube.com/watch?v=3dt4OGnU5sM) on comprehensions and when you should use them is also a great introduction.\n",
    "\n",
    "A big point to remember though is that comprehensions can be harder for humans to read, and require a bit more understanding about how they work. As mentioned above if you have complicated logic or multiple commands, using a for loop may be better, and more readable.\n",
    "\n",
    "[return to menu](#menu)\n"
   ]
  },
  {
   "cell_type": "markdown",
   "id": "1f593da0",
   "metadata": {},
   "source": [
    "<hr style=\"width:100%;height:4px;border-width:0;color:gray;background-color:#003d59; opacity:1\">"
   ]
  },
  {
   "cell_type": "markdown",
   "id": "65564c81",
   "metadata": {},
   "source": [
    "# Chapter Summary\n",
    "\n",
    "Congratulations on **comprehending** the comprehensions (these puns are killing me too, honest!) and completing Chapter 11! Your toolset has expanded tenfold so far in Core Part 2, and we will complete this well rounded Introduction to all things Python by looking at Functions in depth. We will cover:\n",
    "\n",
    "* Function Structure\n",
    "* Named and Default parameters\n",
    "* Function Scope\n",
    "* Docstrings\n",
    "* Indentation\n",
    "* Lambda Functions\n",
    "* Functions for DataFrames"
   ]
  }
 ],
 "metadata": {
  "kernelspec": {
   "display_name": "Python 3 (ipykernel)",
   "language": "python",
   "name": "python3"
  },
  "language_info": {
   "codemirror_mode": {
    "name": "ipython",
    "version": 3
   },
   "file_extension": ".py",
   "mimetype": "text/x-python",
   "name": "python",
   "nbconvert_exporter": "python",
   "pygments_lexer": "ipython3",
   "version": "3.9.7"
  }
 },
 "nbformat": 4,
 "nbformat_minor": 5
}
