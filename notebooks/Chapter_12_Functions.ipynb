{
 "cells": [
  {
   "cell_type": "markdown",
   "metadata": {},
   "source": [
    "<hr style=\"width:100%;height:4px;border-width:0;color:gray;background-color:#003d59; opacity:0.25\"> \n",
    "\n",
    "![Analysis Function and DSC Logo](../images/AF_DSC_banner.png)\n",
    "<hr style=\"width:100%;height:4px;border-width:0;color:gray;background-color:#003d59; opacity:0.25\"> "
   ]
  },
  {
   "cell_type": "markdown",
   "metadata": {},
   "source": [
    "# Introduction to Python\n",
    "\n",
    "## Chapter 12 - Functions\n",
    "\n",
    "*Chapter Overview and Learning Objectives*:\n",
    "\n",
    "* [Packages](#packages)\n",
    "\n",
    "* [Functions](#functions)\n",
    "  - Basic structure\n",
    "  - Named parameters\n",
    "  - Default Values\n",
    "  - Scope\n",
    "  - Docstrings\n",
    "  - Indentation\n",
    "\n",
    "* [Lambda Functions](#lambda)\n",
    "  - Anonymous Functions\n",
    "  - Syntax\n",
    "  - Functions within Functions\n",
    "\n",
    "* [Functions for DataFrames](#functions_dataframes)\n",
    "  - Example\n",
    "  - Better Practice with Functions\n",
    "\n",
    "<a id='packages'></a>\n"
   ]
  },
  {
   "cell_type": "markdown",
   "metadata": {},
   "source": [
    "<a id='packages'></a>\n",
    "<hr style=\"width:100%;height:4px;border-width:0;color:gray;background-color:#003d59; opacity:1\">"
   ]
  },
  {
   "cell_type": "markdown",
   "metadata": {},
   "source": [
    "# Packages and Datasets\n",
    "\n",
    "## Packages\n",
    "\n",
    "In this chapter we will use `pandas`, and give it the nickname `pd`. It was written using Pandas version `1.0.5`, Python Version 3.8.3 and Anaconda 2020.07. Note that Python is generally versatile with backwards and forwards compatability.\n",
    "\n",
    "### Exercise\n",
    "\n",
    "Import the package `pandas` and give it the well known nickname `pd`."
   ]
  },
  {
   "cell_type": "code",
   "execution_count": null,
   "metadata": {},
   "outputs": [],
   "source": [
    "# Space for Exercise\n"
   ]
  },
  {
   "cell_type": "markdown",
   "metadata": {},
   "source": [
    "## Datasets\n",
    "\n",
    "In this course we’ll be using the following datasets:\n",
    "\n",
    "| variable name | file name  |\n",
    "| --- |  --- |\n",
    "| animals | animals.csv |\n",
    "| titanic | titanic.xlsx |\n",
    "\n",
    "### Exercise\n",
    "\n",
    "Load in the datasets mentioned above using the `pd.read_` family of functions."
   ]
  },
  {
   "cell_type": "code",
   "execution_count": null,
   "metadata": {},
   "outputs": [],
   "source": [
    "# Space for Exercise\n"
   ]
  },
  {
   "cell_type": "markdown",
   "metadata": {},
   "source": [
    "<hr style=\"width:100%;height:4px;border-width:0;color:gray;background-color:#003d59; opacity:1\">"
   ]
  },
  {
   "cell_type": "markdown",
   "metadata": {},
   "source": [
    "<a id='functions'></a>\n",
    "\n",
    "# Functions\n",
    "\n",
    "Throughout the past 11 chapters, we have used an enormous number of **built-in** functions that come as a part of base Python, or its many libraries such as `pandas` (pd), `numpy` (np) and more. However, you must have thought up to now what it would be like to write functions from scratch (as all of these once were!) to be able to perform bespoke tasks for your specific workflow. \n",
    "\n",
    "It is important to note that we should always check the available functions first before proceeding to write your own, as you may end up wasting valuable project time. In many cases though, there is no alternative and we need specific functions to perform extremely specific tasks, which is very common in industry and is one of the most in demand skills for Data Science in the modern day. \n",
    "\n",
    "To break down the topic, functions within Python generally fall into three categories (we will focus on User Defined and Lambda Functions in this chapter):\n",
    "\n",
    "Type | Description\n",
    "--------|---------------\n",
    "[Built in Functions](https://docs.python.org/3.6/library/functions.html) | These are built into Python and always available for use <br> Examples – `pow()`, `print()`, `help()`\n",
    "User Defined Functions | Created by users to carry out specific tasks. <br> Declared using the `def` keyword.\n",
    " Anonymous Functions – “lambda functions” |  User defined - generally one line functions <br> used within a larger piece of code.\n",
    "\n",
    "We will begin by discussing User Defined Functions (UDFs). The code inside of these is not run (executed) until we call or run the function. If your code has correct syntax but produces errors this will not be clear until the code is called and executed. \n",
    "\n",
    "These functions allow us to organise chunks of reusable code. This can help optimise our code and create blocks of code dedicated to performing a specific procedure or task (such as a cleaning routine that is applied each time!). Functions can help us to write code that is consistent, readable, maintainable and reproducible.\n",
    "\n"
   ]
  },
  {
   "cell_type": "markdown",
   "metadata": {},
   "source": [
    "## Structure of a Function\n",
    "\n",
    "**DONT** run this next cell"
   ]
  },
  {
   "cell_type": "code",
   "execution_count": null,
   "metadata": {},
   "outputs": [],
   "source": [
    "def my_function_name(parameter_1, parameter_2,..):\n",
    "    function_actions\n",
    "    ...\n",
    "    return function_output"
   ]
  },
  {
   "cell_type": "markdown",
   "metadata": {},
   "source": [
    "Let's break down the syntax a little bit!\n",
    "\n",
    "* Our functions start with the keyword `def` (define) with syntax highlighting, which is followed by our function name. This:\n",
    "  * Must start with a letter or an underscore,\n",
    "  * Should be lowercase (by python convention),\n",
    "  * Should be short and descriptive,\n",
    "  * Can’t have the same name as a python keyword,\n",
    "  * Shouldn’t have the name of an existing function (it will overwrite it locally).\n",
    "\n",
    "* Following the function name is brackets. These can contain any necessary parameters that the function will take. It is finished with a colon, the same as our loops and control flow from Chapter 10.\n",
    "\n",
    "* The code below is indented (by 4 spaces, 1 tab or automatically) and is what is executed when the function is called.\n",
    "\n",
    "* The keyword `return` will return whatever value is after it. When the return statement is executed the function will stop at that line and return the given value. **No code after the return statement will be executed**. \n",
    "\n",
    "Note that the keyword return is not necessary; but any function without a return statement will return a value of `None`, it will produce no output for future code to work with. This is important because we often assign the output of functions to variables for use within more functions and so on (this is usually how a Data Pipeline is formed!).\n",
    "\n",
    "### Example\n",
    "\n",
    "Here is a function that adds together two values and returns their sum, this is a good showcase of the structure of a function and how they use the parameters you give them. Note that we must run the cell to declare the function into our environment, it can then be used repeatedly."
   ]
  },
  {
   "cell_type": "code",
   "execution_count": null,
   "metadata": {},
   "outputs": [],
   "source": [
    "# Function to add two values\n",
    "def add_two_values(value_1, value_2):\n",
    "    total = value_1 + value_2\n",
    "    return total"
   ]
  },
  {
   "cell_type": "code",
   "execution_count": null,
   "metadata": {},
   "outputs": [],
   "source": [
    "# I can now run my function\n",
    "add_two_values(1, 2)"
   ]
  },
  {
   "cell_type": "markdown",
   "metadata": {},
   "source": [
    "Writing functions really allows you to appreciate and understand the processes we use in Data Science, as you are essentially \"generalising\" the process into a repeatable routine that will save you alot of time coding.\n",
    "\n",
    "### Exercise\n",
    "\n",
    "(a) Remember the exercise in Chapter 10 where you converted from Celsius to Fahrenheit? Let's create a function that does this for us, which we can reuse! Using the equation below, create a function that performs this task.\n",
    "\n",
    "$C= \\frac{5}{9}(F - 32)$\n",
    "\n",
    "Expected outputs (these are rounded, you don't need to worry about that for now):\n",
    "\n",
    "* fahrenheit_to_degrees_celsius(32) returns: 0\n",
    "\n",
    "* fahrenheit_to_degrees_celsius(11) returns: -11.7\n",
    "\n",
    "* fahrenheit_to_degrees_celsius(81.3) returns: 27.4\n",
    "\n",
    "(b) Update your function so it rounds to 1 decimal place."
   ]
  },
  {
   "cell_type": "code",
   "execution_count": null,
   "metadata": {},
   "outputs": [],
   "source": [
    "# Space for Exercise\n",
    "\n",
    "# (a)\n",
    "\n",
    "# (b)\n"
   ]
  },
  {
   "cell_type": "markdown",
   "metadata": {},
   "source": [
    "## Named parameters\n",
    "\n",
    "We called the parameters `value_1 ` and `value_2` in the previous examples, where we could expect to pass two values to be added together, as the function states. You may see similar functions written like this"
   ]
  },
  {
   "cell_type": "code",
   "execution_count": null,
   "metadata": {},
   "outputs": [],
   "source": [
    "def add_two_values(x, y) :\n",
    "    total = x + y\n",
    "    return total"
   ]
  },
  {
   "cell_type": "markdown",
   "metadata": {},
   "source": [
    "However, `x` and `y` as argument names are not very descriptive, especially if we were writing a more complicated function. As we have seen through the course we can also use the parameter names here when calling the function and pass the arguments using an = sign.\n",
    "\n",
    "### Examples"
   ]
  },
  {
   "cell_type": "code",
   "execution_count": null,
   "metadata": {},
   "outputs": [],
   "source": [
    "add_two_values(value_1=3, value_2=10)"
   ]
  },
  {
   "cell_type": "markdown",
   "metadata": {},
   "source": [
    "As we’ve talked about previously using named parameters means we can pass them in any order we please.\n"
   ]
  },
  {
   "cell_type": "code",
   "execution_count": null,
   "metadata": {},
   "outputs": [],
   "source": [
    "add_two_values(value_2=10, value_1=3)"
   ]
  },
  {
   "cell_type": "markdown",
   "metadata": {},
   "source": [
    "## Default Values\n",
    "\n",
    "We can also set default values when we declare a function so that when we run a function without any parameters it uses these preset values as its inputs. This is incredibly useful for more complex functions that go beyond mathematical operations (of course, if you wanted to always add 1 to something, maybe having a default value of 1 would be useful!).\n",
    "\n",
    "### Examples\n",
    "\n",
    "Here I’ve set `value_1=10` and `value_2=5`, so unless we change them by assigning them ourselves, they will be these by **default**."
   ]
  },
  {
   "cell_type": "code",
   "execution_count": null,
   "metadata": {},
   "outputs": [],
   "source": [
    "def add_two_values(value_1=10 , value_2=5):\n",
    "    total = value_1 + value_2\n",
    "    return total\n",
    "\n",
    "add_two_values()"
   ]
  },
  {
   "cell_type": "markdown",
   "metadata": {},
   "source": [
    "Now if I just pass `value_2` it will use the default for `value_1` and add it to my specified `value_2`."
   ]
  },
  {
   "cell_type": "code",
   "execution_count": null,
   "metadata": {},
   "outputs": [],
   "source": [
    "add_two_values(value_2=15)"
   ]
  },
  {
   "cell_type": "markdown",
   "metadata": {},
   "source": [
    "### Exercise\n",
    "\n",
    "Create a function that has three arguments where we:\n",
    "\n",
    "* Compute the square of the first number and add that to the second number\n",
    "* Divide the result by the third number\n",
    "\n",
    "Ensure to use named parameters and set the defaults as 1 for each parameter. Make sure rounding to 2dp is involved to deal with recurring decimals.\n",
    "\n",
    "Expected output:\n",
    "\n",
    "* function(2, 3, 4) = (4 + 3)/4 = 7/4 = 1.75\n",
    "* function(2, 5, 3) = (4 + 5)/3 = 3\n",
    "* function() = (1 + 1)/1 = 2\n",
    "* function(val_2 = 5, val_3 = 2) = (1 + 5)/2 = 3"
   ]
  },
  {
   "cell_type": "code",
   "execution_count": null,
   "metadata": {},
   "outputs": [],
   "source": [
    "# Space for Exercise\n"
   ]
  },
  {
   "cell_type": "markdown",
   "metadata": {},
   "source": [
    "### Aside - Datatypes\n",
    "\n",
    "One last aside that I wish to make is that the datatypes of what we pass into the function don't matter, provided that the routine inside of the function is applicable for that datatype. For example, if we use lists as an input, we must be utilising functions, methods, attributes etc applicable to lists inside it.\n",
    "\n",
    "### Example 1 - For Loop\n",
    "\n",
    "Let's see an example where we pass a list into a function as it's input and use a for loop to print the elements!"
   ]
  },
  {
   "cell_type": "code",
   "execution_count": null,
   "metadata": {},
   "outputs": [],
   "source": [
    "# Let's use a list inside the function\n",
    "def print_list(ls):\n",
    "    for element in ls:\n",
    "        print(element)\n",
    "\n",
    "# Notice the multiple indents when we use control flow inside the function! We also don't need the return keyword as we are just printing here!\n",
    "print_list([1, 2, 3, 4])"
   ]
  },
  {
   "cell_type": "markdown",
   "metadata": {},
   "source": [
    "I wonder if we can use list comprehensions? Of course we can!\n",
    "\n",
    "### Example 2 - List Comprehension\n",
    "\n",
    "Let's use a list comprehension to double each value in a list to create a new one, output by the function!\n"
   ]
  },
  {
   "cell_type": "code",
   "execution_count": null,
   "metadata": {},
   "outputs": [],
   "source": [
    "# Use list comprehension within a function\n",
    "def create_double_my_list(ls):\n",
    "    double_list = [(ls * 2) for ls in ls]\n",
    "    return double_list\n",
    "\n",
    "# Try it out\n",
    "create_double_my_list([1, 3, 5, 7])"
   ]
  },
  {
   "cell_type": "markdown",
   "metadata": {},
   "source": [
    "## Scope\n",
    "\n",
    "It’s important to notice here that the variables I create within my functions, like `total` are not available outside of my function. This has to do with **scope**, which is one of the most important concepts to understand when creating your own functions. There are two types, namely **global** scope and **local** scope.\n",
    "\n",
    "Variables with **global** scope are visible and can be accessed anywhere (they are in the general environment), however ones with **local** scope are only visible and can only be used within the local area. When we create a new function we effectively create a new local scope, so the variables we declare within our functions are only available within that local scope.\n",
    "\n",
    "Trying to return the value stored under `total` will return a `NameError`. Effectively `total` is created when the function is run, and then cleaned up and removed by Python after completion. This makes `return`ing variables very important, as we are effectively returning them from the local scope, to the global one.\n",
    "\n",
    "This also relates to why we often assign the outputs of functions to variables, storing them in the global environment under the name/label we choose.\n"
   ]
  },
  {
   "cell_type": "code",
   "execution_count": null,
   "metadata": {},
   "outputs": [],
   "source": [
    "total"
   ]
  },
  {
   "cell_type": "markdown",
   "metadata": {},
   "source": [
    "## Docstrings\n",
    "\n",
    "We heavily promote looking at **docstrings** (which means document strings), the inbuilt \"help\" documents in our courses. They’re very useful for finding out what a function or method does, what our parameters are called, and what we should expect to be passed as arguments. \n",
    "\n",
    "Including our own docstrings in a function makes our code the most accessible and readable it can be, and as we often write multi-use functions who's use encompasses more than just us, this is an important practice.\n",
    "\n",
    "### Example\n",
    "\n",
    "We start a docstring by using three sets of speech marks to surround the information we want to include.\n",
    "\n",
    "For this function it is total overkill, but an excellent way to see this in practice! \n"
   ]
  },
  {
   "cell_type": "code",
   "execution_count": null,
   "metadata": {},
   "outputs": [],
   "source": [
    "def add_two_values(value_1, value_2) :\n",
    "    \"\"\" \n",
    "    This function will add together two values\n",
    "    \n",
    "    Parameters\n",
    "    ----------\n",
    "    value_1 : The first value to add\n",
    "    value_2 : The second value to add\n",
    "    \n",
    "    Returns\n",
    "    -------\n",
    "    total: The sum / concatenation of the two values specified.\n",
    "    \n",
    "    Examples\n",
    "    --------\n",
    "    add_two_values(1, 2) \n",
    "    returns 3\n",
    "    \n",
    "    add_two_values(4.7,  3.2) \n",
    "    returns 7.9 \n",
    "    \n",
    "    add_two_values(\"Hello\", \"World\") \n",
    "    returns \"HelloWorld\" (The + symbol concatenates strings)\n",
    "    \n",
    "    Errors will occur if adding together strings and numerics, unless you use str() around the numeric.\n",
    "    \n",
    "    \"\"\"\n",
    "    total = value_1 + value_2\n",
    "    return total"
   ]
  },
  {
   "cell_type": "markdown",
   "metadata": {},
   "source": [
    "We can now access our docstring in the same ways we do for inbuilt functions:"
   ]
  },
  {
   "cell_type": "code",
   "execution_count": null,
   "metadata": {},
   "outputs": [],
   "source": [
    "help(add_two_values)"
   ]
  },
  {
   "cell_type": "markdown",
   "metadata": {},
   "source": [
    "This may seem laborious, but you will be all the better coder for it as it allows you to check that you know what your function is doing, what it's parameters are and their datatypes and so on! Remember that we would never be able to understand the ins and outs of pandas functions like `groupby()` and its many parameters without these docstrings. \n",
    "\n",
    "It is worth noting that many organisations have their own guidelines on how to write docstrings and readable, reproducible code in general. This section should be seen as a showcase of the technique, rather than the best way to structure one.\n",
    "\n",
    "### Exercise\n",
    "\n",
    "In the previous exercise you created the `sum_square_divide` function. Recreate it here but with a docstring including the following:\n",
    "\n",
    "* Definition\n",
    "* Parameters (and their default values)\n",
    "* What it returns \n",
    "* One example of the default\n",
    "* One example with no named parameters\n",
    "* One example with two of the three parameters (with names)"
   ]
  },
  {
   "cell_type": "code",
   "execution_count": null,
   "metadata": {},
   "outputs": [],
   "source": [
    "# Space for Exercise\n"
   ]
  },
  {
   "cell_type": "markdown",
   "metadata": {},
   "source": [
    "## Helpful Indentation hint!\n",
    "\n",
    "The indentation of code in functions and loops is incredibly important! If we’re copying code from other places (like Stack Overflow for example!) it can often be not indented correctly to run in our new function.\n",
    "\n",
    "If you highlight the code you wish to “move” and press:\n",
    "\n",
    "* tab to increase the indent one “level”\n",
    "* shift + tab will decrease the indent one level.\n",
    "\n",
    "These can really help you solve the problem quickly!\n",
    "\n",
    "### Example"
   ]
  },
  {
   "cell_type": "code",
   "execution_count": 1,
   "metadata": {},
   "outputs": [
    {
     "ename": "IndentationError",
     "evalue": "expected an indented block (689704035.py, line 3)",
     "output_type": "error",
     "traceback": [
      "\u001b[0;36m  File \u001b[0;32m\"/var/folders/qq/hllrmw6s6ql_jz33mfw023zw0000gp/T/ipykernel_74561/689704035.py\"\u001b[0;36m, line \u001b[0;32m3\u001b[0m\n\u001b[0;31m    for each_num in range(print_x_times):\u001b[0m\n\u001b[0m    ^\u001b[0m\n\u001b[0;31mIndentationError\u001b[0m\u001b[0;31m:\u001b[0m expected an indented block\n"
     ]
    }
   ],
   "source": [
    "# This cell will give an error - our indentation is off!\n",
    "def whos_the_best(print_x_times):\n",
    "for each_num in range(print_x_times):\n",
    "    print(\"Jake is a queen!\")\n",
    "    \n",
    "# Use the function\n",
    "whos_the_best(10)"
   ]
  },
  {
   "cell_type": "markdown",
   "metadata": {},
   "source": [
    "This will give us an error! However, if we highlight everything from the `for` line down and hit tab we get a working function which prints out a very important statement!"
   ]
  },
  {
   "cell_type": "code",
   "execution_count": 2,
   "metadata": {},
   "outputs": [
    {
     "name": "stdout",
     "output_type": "stream",
     "text": [
      "Jake is a queen!\n",
      "Jake is a queen!\n",
      "Jake is a queen!\n",
      "Jake is a queen!\n",
      "Jake is a queen!\n",
      "Jake is a queen!\n",
      "Jake is a queen!\n",
      "Jake is a queen!\n",
      "Jake is a queen!\n",
      "Jake is a queen!\n"
     ]
    }
   ],
   "source": [
    "def whos_the_best(print_x_times):\n",
    "    \n",
    "    for each_num in range(print_x_times):\n",
    "        print(\"Jake is a queen!\")\n",
    "        \n",
    "# Use the function\n",
    "whos_the_best(10)"
   ]
  },
  {
   "cell_type": "markdown",
   "metadata": {},
   "source": [
    "##  Larger Exercise\n",
    "\n",
    "Let's return to the FizzBuzz exercise from Chapter 10 and generalise it, as it previously worked over a hard coded number of values (1-30). Here I'd like you to\n",
    "\n",
    "**Create a function so the user can find fizzbuzz values for any range of numbers**\n",
    "\n",
    "* If you've used a for loop an example could be 1 to 100,\n",
    "\n",
    "* If you've used a while loop your top number could be 100.\n",
    "\n",
    "* Make sure you include a docstring (Don't worry about a full example, just give individual numbers).\n",
    "\n",
    "**Note that the HTML has a reminder of the previous exercise for you to view**"
   ]
  },
  {
   "cell_type": "code",
   "execution_count": null,
   "metadata": {},
   "outputs": [],
   "source": [
    "# Space for Larger Exercise\n"
   ]
  },
  {
   "cell_type": "markdown",
   "metadata": {},
   "source": [
    "<hr style=\"width:100%;height:4px;border-width:0;color:gray;background-color:#003d59; opacity:1\">"
   ]
  },
  {
   "cell_type": "markdown",
   "metadata": {},
   "source": [
    "[return to menu](#menu)\n",
    "\n",
    "<a id='lambda'></a>\n",
    "\n",
    "# Lambda Functions\n",
    "\n",
    "Sometimes we have need of functions that are very small and perform one express purpose to a given argument. As such it is laborious and inefficient to create a large, well written function with a docstring for something as small as:\n",
    "\n",
    "* Printing out a value\n",
    "* Squaring a value \n",
    "\n",
    "Which can also take place inside of another function that we will show here. It may not seem apparent yet why these are useful, but I will show some examples that will illustrate the use of this method soon. For comparison purposes, their utility is similar to comprehension from Chapter 11, where they allow you to encompass a large process in one line of code, but quickly become unmanageable for larger tasks (where a UDF would be preferred).\n",
    "\n",
    "## Structure of a Lambda Function\n",
    "\n",
    "Syntax wise, the lambda function is built as follows:\n",
    "\n",
    "**Don't** run the next cell!"
   ]
  },
  {
   "cell_type": "code",
   "execution_count": null,
   "metadata": {},
   "outputs": [],
   "source": [
    "lambda arguments : expression"
   ]
  },
  {
   "cell_type": "markdown",
   "metadata": {},
   "source": [
    "* We use the `lambda` keyword (with syntax highlighting) to begin the definition of the anonymous function.\n",
    "\n",
    "* We follow this keyword with the argument(s), which can be as simple as x or y here. A colon follows this `:`.\n",
    "\n",
    "* Lastly is the expression itself, where we specify what we will do to the argument(s).\n",
    "\n",
    "* This is often assigned to a throwaway variable like `x` (especially when they are used inside of another function).\n",
    "\n",
    "### Examples\n",
    "\n",
    "Here let's create a lambda function that prints the value given to it."
   ]
  },
  {
   "cell_type": "code",
   "execution_count": null,
   "metadata": {},
   "outputs": [],
   "source": [
    "# Smallest lambda function - print the value\n",
    "x = lambda a : print(a) \n",
    "\n",
    "# Examples\n",
    "x(4)\n",
    "x(\"Jake\")\n",
    "x(9.7)"
   ]
  },
  {
   "cell_type": "markdown",
   "metadata": {},
   "source": [
    "Saying this in words, just like comprehension from the previous chapter demystifies the syntax. \n",
    "\"We are creating an object x, which is an anonymous function acting on a, where it prints a.\"\n",
    "\n",
    "What about using mathematical operations?"
   ]
  },
  {
   "cell_type": "code",
   "execution_count": null,
   "metadata": {},
   "outputs": [],
   "source": [
    "# Adding values in a lambda function\n",
    "y = lambda a : a + 12\n",
    "\n",
    "# Examples\n",
    "y(10)\n",
    "y(109)"
   ]
  },
  {
   "cell_type": "markdown",
   "metadata": {},
   "source": [
    "We can also define multiple arguments and combine them together!"
   ]
  },
  {
   "cell_type": "code",
   "execution_count": null,
   "metadata": {},
   "outputs": [],
   "source": [
    "# Multiple values in a lambda function\n",
    "z = lambda a, b : (a + b)/2\n",
    "\n",
    "# Examples\n",
    "z(10, 12)\n",
    "z(20, 22)"
   ]
  },
  {
   "cell_type": "markdown",
   "metadata": {},
   "source": [
    "## Exercise\n",
    "\n",
    "Remember our lovely problem from before? Squaring the first number, adding it to the second and then dividing the sum by the third? Let's create a lambda function that does just that! Make sure it rounds to 2 decimal places as well. \n",
    "\n",
    "Use the examples (1, 2, 3) and (23, 24, 25) to check it.\n",
    "\n",
    "Don't worry I haven't run out of ideas, I just see the **function** in consistency throughout these courses."
   ]
  },
  {
   "cell_type": "code",
   "execution_count": null,
   "metadata": {},
   "outputs": [],
   "source": [
    "# Space for Exercise\n",
    "\n"
   ]
  },
  {
   "cell_type": "markdown",
   "metadata": {},
   "source": [
    "## Why we use Lambda Functions\n",
    "\n",
    "I promised to show you why these are so useful, and I intend to make right on that here in this section. Much of this section is adapted from the excellent [W3Schools](https://www.w3schools.com/python/python_lambda.asp) tutorial on Lambda Functions. We often see the use of them when considering anonymous functions inside another UDF, as they can alter the **function** of UDFs (oh my this is horrible to write, thankfully we have UDF shorthand!) based on what input we give. This then gives us a template to create functions that perform a certain task, which we can then tweak ourselves!\n",
    "\n",
    "In essence, we can set up a UDF using `def` whose input is then passed to a lambda function which is in the return statement and hence alters the output that that lambda function gives by using the input. A great example of this is that we can take a function that say, multiplies a number by some arbitrary n (the input to the overall UDF), to create a function that doubles all inputs by giving 2 as the value of n, a function that triples all inputs by giving 3 as the value of n and so on. \n",
    "\n",
    "This sounds very confusing, but becomes more clear with an example.\n",
    "\n",
    "### Example\n",
    "\n",
    "Here we will construct a UDF that carries within it a lambda function that multiplies its value supplied by an arbitrary n, which is the input to our UDF. \n",
    "\n",
    "Therefore, whenever we change the value of n and assign it to something, we are creating a new function that we can then use! This is very powerful and popular amongst those building pipelines."
   ]
  },
  {
   "cell_type": "code",
   "execution_count": null,
   "metadata": {},
   "outputs": [],
   "source": [
    "# Create a UDF that contains a lambda function to allow control over its function\n",
    "def my_func(n):\n",
    "    return lambda a : a * n \n",
    "# Notice that the lambda is part of the return, which is key here!\n",
    "\n",
    "# Example 1\n",
    "my_doubler = my_func(2) # This is now a function that doubles the input!\n",
    "# See that it is a function!\n",
    "print(type(my_doubler))\n",
    "\n",
    "# Example 2\n",
    "print(my_doubler(11))\n",
    "my_tripler = my_func(3) # This is now a function that triples the input!\n",
    "print(type(my_tripler))\n",
    "print(my_tripler(22))"
   ]
  },
  {
   "cell_type": "markdown",
   "metadata": {},
   "source": [
    "This is incredibly powerful as you can see, essentially allowing us to create templates with which to create functions from that perform particular tasks dependent on the input to the UDF."
   ]
  },
  {
   "cell_type": "markdown",
   "metadata": {},
   "source": [
    "<hr style=\"width:100%;height:4px;border-width:0;color:gray;background-color:#003d59; opacity:1\">"
   ]
  },
  {
   "cell_type": "markdown",
   "metadata": {},
   "source": [
    "# Resources for Further Learning\n",
    "\n",
    "This chapter is an introduction to UDFs and Lambda Functions and how they work, however there’s a whole lot more to be explored; including returning multiple values, optional arguments (a big one that is worth exploring!) and more. \n",
    "\n",
    "Some additional information about functions can be found:\n",
    "\n",
    "* [W3Schools Functions](https://www.w3schools.com/python/python_functions.asp) page is fantastic. In fact their entire repertoire of tutorials comes highly recommended for the way it breaks down concepts with examples. They even provide consoles for you to practice that open in separate webpages!\n",
    "\n",
    "* [Datacamp Python Functions Tutorial](https://www.datacamp.com/community/tutorials/functions-python-tutorial)\n",
    "\n",
    "* [Geeks for Geeks Python Functions Tutorial](https://www.geeksforgeeks.org/functions-in-python/)\n",
    "\n",
    "* [Python Lambda – Anonymous Functions](https://www.geeksforgeeks.org/python-lambda-anonymous-functions-filter-map-reduce/)\n",
    "\n",
    "[return to menu](#menu)\n",
    "\n",
    "<a id='functions_dataframes'></a>"
   ]
  },
  {
   "cell_type": "markdown",
   "metadata": {},
   "source": [
    "<hr style=\"width:100%;height:4px;border-width:0;color:gray;background-color:#003d59; opacity:1\">"
   ]
  },
  {
   "cell_type": "markdown",
   "metadata": {},
   "source": [
    "# Functions for DataFrames\n",
    "\n",
    "So far we’ve seen how functions work and how to create them, but how can we apply them to our DataFrames?\n",
    "\n",
    "Say this is my cleaning routine for multiple dataframes:\n",
    "* Remove spaces from my column names and change to underscores\n",
    "* Change column names to lower case\n",
    "* Select just the columns of the “object” data Type.\n",
    "\n",
    "If I have a few of them to run this on the process can mean a lot of lines of code used which becomes less readable as more is added. We can use functions to wrap up these processes into a cleaning routine function.\n",
    "\n",
    "## Example\n",
    "\n",
    "Let's make a copy of our animals data frame and see what the routine looks like applied to it. This is great revision of the content in Chapter 4 - Working with DataFrames, which you should revisit if you find the concepts harder to pick back up."
   ]
  },
  {
   "cell_type": "code",
   "execution_count": null,
   "metadata": {},
   "outputs": [],
   "source": [
    "# Make a copy\n",
    "animals_new = animals.copy()"
   ]
  },
  {
   "cell_type": "markdown",
   "metadata": {},
   "source": [
    "Now the cleaning routine:"
   ]
  },
  {
   "cell_type": "code",
   "execution_count": null,
   "metadata": {},
   "outputs": [],
   "source": [
    "# replace column spaces with \"_\"\n",
    "animals_new.columns = animals_new.columns.str.replace(\" \", \"_\")\n",
    "\n",
    "# lower case the columns names\n",
    "animals_new.columns = animals_new.columns.str.lower()\n",
    "animals_new_objects = animals_new.select_dtypes([\"O\"])\n",
    "animals_new_objects"
   ]
  },
  {
   "cell_type": "markdown",
   "metadata": {},
   "source": [
    "Without a function for each DataFrame I wanted to do this on I’d have to go in and change the object names. Let's make a function to generalise this process, allowing us to utilise it on any DataFrame of our choosing."
   ]
  },
  {
   "cell_type": "code",
   "execution_count": null,
   "metadata": {},
   "outputs": [],
   "source": [
    "def clean_frame_give_objects(dataframe):\n",
    "    \"\"\"\n",
    "    Function that cleans the column names of the input frame, selecting only those columns with object data at the same time.\n",
    "    \n",
    "    Parameters\n",
    "    ----------\n",
    "        dataframe: A pandas dataframe\n",
    "        \n",
    "    Returns\n",
    "    -------\n",
    "        dataframe_objects: The cleaned columns from dataframe with only object datatypes selected.\n",
    "        \n",
    "    \"\"\"\n",
    "    dataframe.columns = dataframe.columns.str.replace(\" \" , \"_\")\n",
    "    dataframe.columns = dataframe.columns.str.lower()\n",
    "    dataframe_objects = dataframe.select_dtypes(include = [\"O\"] )\n",
    "    \n",
    "    return dataframe_objects"
   ]
  },
  {
   "cell_type": "markdown",
   "metadata": {},
   "source": [
    "Our function does the same as our script did."
   ]
  },
  {
   "cell_type": "code",
   "execution_count": null,
   "metadata": {},
   "outputs": [],
   "source": [
    "clean_frame_give_objects(animals)"
   ]
  },
  {
   "cell_type": "markdown",
   "metadata": {},
   "source": [
    "We could also expand this loop to allow us to perform the function on multiple DataFrames. This would allow us to clean multiple DataFrames at once and store them in a `list` object for example.\n",
    "\n",
    "### Example - Looping through a list of DataFrames"
   ]
  },
  {
   "cell_type": "code",
   "execution_count": null,
   "metadata": {},
   "outputs": [],
   "source": [
    "# We can then loop through the list of frames and process them one after another\n",
    "# Collect our list of frames\n",
    "list_of_frames = [animals, titanic]\n",
    "\n",
    "# Create a new blank list to store our frames in\n",
    "new_frames = []\n",
    "\n",
    "# Use a for loop to apply our function\n",
    "for each_frame in list_of_frames:\n",
    "    clean_frame = clean_frame_give_objects(each_frame)\n",
    "    new_frames.append(clean_frame)"
   ]
  },
  {
   "cell_type": "markdown",
   "metadata": {},
   "source": [
    "We can then sub-select each DataFrame from our list like so:"
   ]
  },
  {
   "cell_type": "code",
   "execution_count": null,
   "metadata": {},
   "outputs": [],
   "source": [
    "# selects the datafame at position 0 in our list\n",
    "new_frames[0].head()"
   ]
  },
  {
   "cell_type": "code",
   "execution_count": null,
   "metadata": {},
   "outputs": [],
   "source": [
    "# selects the datafame at position 1 in our list\n",
    "new_frames[1].head()"
   ]
  },
  {
   "cell_type": "markdown",
   "metadata": {},
   "source": [
    "## Better Practice with regards to Functions\n",
    "\n",
    "There are a few points to make about the concepts discussed here, namely that looping through a list of dataframes may not always be the most efficient way to accomplish something when the dfs themselves are particularly large and there is a large number of them. In fact, this would be considered bad practice in general.\n",
    "\n",
    "Thankfully, there is a solution to this in the form of the **map** function (for those of you who use R, you will be reminded of the apply family of functions when thinking about map). The `map()` function allows us to apply a specified function of our choice to an iterable (so a list or tuple for example) to circumvent the need for looping (and as such is much faster), creating what is called a `map` object. \n",
    "\n",
    "This may sound like it could be a problem, but thankfully, we have the `list()` function to covert this back to a list, so we must remember to convert the datatype as a final step. I personally think this is well worth the extra step when it is a much more efficient solution and has wider uses than loops in general. It is often said that a loop should be used as a last resort for this kind of application if such a function as `map()` is not applicable.\n",
    "\n",
    "The syntax for map is as follows:\n"
   ]
  },
  {
   "cell_type": "code",
   "execution_count": null,
   "metadata": {},
   "outputs": [],
   "source": [
    "# DONT run this cell \n",
    "\n",
    "map(function, iterable)"
   ]
  },
  {
   "cell_type": "markdown",
   "metadata": {},
   "source": [
    "Where the function is a UDF or a built in function and the iterable is the list, tuple etc of our choice!\n",
    "\n",
    "### Example"
   ]
  },
  {
   "cell_type": "code",
   "execution_count": null,
   "metadata": {},
   "outputs": [],
   "source": [
    "# Use the map function to circumvent the need for a loop!\n",
    "frame_list = [animals.copy(), titanic.copy()]\n",
    "\n",
    "# Use the map function \n",
    "new_frames = list(map(clean_frame_give_objects, frame_list))"
   ]
  },
  {
   "cell_type": "markdown",
   "metadata": {},
   "source": [
    "This opens you up to the world of **functional programming**, which is its own discipline within programming and could be a series of courses in itself! This is something that the programming language R was built for but is now possible in Python as well. For more information on the map function, consult this excellent [article](https://realpython.com/python-map-function/)\n",
    "\n",
    "One last point I wish to make is with regards to the cleaning function we wrote before, namely that it performs two tasks in one, namely:\n",
    "\n",
    "* Cleaning column names\n",
    "* Selecting object datatypes\n",
    "\n",
    "This was done for convenience here and to show a good example of using functions for dataframes **but** is not good practice. The Best Practice in Programming and Modular Programming in Python courses on the Learning Hub would cry if they saw this, as we should always strive to make functions as simple as possible, performing only one task each unless impossible to separate them.\n",
    "\n",
    "As such, we should create a smaller function to clean the column names, outputting a dataframe that can then be passed to an object selector function and so on in a pipeline. This is food for thought for now but I would advise taking these courses and learning more about the good practice of function writing should you need to do this in your role.\n",
    "\n",
    "[return to menu](#menu)\n",
    "\n",
    "<a id='end'></a>"
   ]
  },
  {
   "cell_type": "markdown",
   "metadata": {},
   "source": [
    "<hr style=\"width:100%;height:4px;border-width:0;color:gray;background-color:#003d59; opacity:1\">"
   ]
  },
  {
   "cell_type": "markdown",
   "metadata": {},
   "source": [
    "# Chapter Summary\n",
    "\n",
    "Fantastic function writing! This is not only the end of the chapter but the end of Core Part 2 and hence the Introduction to Python course as a whole! You should be so proud of what you have achieved throughout this course as there has been so much to learn from this wonderful programming language we all now know and (hopefully!) love.\n",
    "\n",
    "As a reminder, the best follow up to this course is the Best Practice in Programming course, you can then follow that up with a multitude of courses. This can lead you into Visualization for example, Statistics in Python and for those that want the next step in your programmatic toolset, Modular Programming in Python!\n",
    "\n",
    "See you in the next course!"
   ]
  }
 ],
 "metadata": {
  "kernelspec": {
   "display_name": "Python 3",
   "language": "python",
   "name": "python3"
  },
  "language_info": {
   "codemirror_mode": {
    "name": "ipython",
    "version": 3
   },
   "file_extension": ".py",
   "mimetype": "text/x-python",
   "name": "python",
   "nbconvert_exporter": "python",
   "pygments_lexer": "ipython3",
   "version": "3.8.3"
  }
 },
 "nbformat": 4,
 "nbformat_minor": 5
}
