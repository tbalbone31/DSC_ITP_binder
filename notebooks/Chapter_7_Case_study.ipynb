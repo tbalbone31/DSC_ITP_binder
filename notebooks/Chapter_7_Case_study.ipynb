{
 "cells": [
  {
   "cell_type": "markdown",
   "id": "d0c8ad53",
   "metadata": {},
   "source": [
    "<hr style=\"width:100%;height:4px;border-width:0;color:gray;background-color:#003d59; opacity:0.25\"> \n",
    "\n",
    "![Government Analysis Function and Data Science Campus Logos.](../images/AF_DSC_banner.png)\n",
    "\n",
    "<hr style=\"width:100%;height:4px;border-width:0;color:gray;background-color:#003d59; opacity:0.25\"> "
   ]
  },
  {
   "cell_type": "markdown",
   "id": "2a8fcb94",
   "metadata": {},
   "source": [
    "# Introduction to Python\n",
    "\n",
    "## Chapter 7 - Case Study\n",
    "\n",
    "## Learning Outcomes\n",
    "\n",
    "By the end of this chapter you should have more confidence with manipulating data and using techniques covered in the first six chapters of the course. This is an excellent opportunity for you to have more data to play with and reinforce learning from the previous chapters. \n",
    "\n",
    "These data sets and question are designed to be an initial springboard for you to continue your learning. Answers are provided; but these may only show one or two ways of solving the issue. While you should always aim to follow clean code standards and best practice, answers may be different to those provided here and as long as the same outputs are achieved, this is fine. \n",
    "\n",
    "It is worth noting that you attempt to understand the differences in the solutions though, this can help you learn something new or reinforce another concept by appreciating an alternate way of answering a question.\n",
    "\n",
    "## Duration\n",
    "\n",
    "This case study should take approximately 3 hours to complete."
   ]
  },
  {
   "cell_type": "markdown",
   "id": "d1531f7d",
   "metadata": {},
   "source": [
    "<a id='background'></a>\n",
    "<hr style=\"width:100%;height:4px;border-width:0;color:gray;background-color:#003d59; opacity:1\"> "
   ]
  },
  {
   "cell_type": "markdown",
   "id": "9488ca61",
   "metadata": {},
   "source": [
    "## Question 1\n",
    "\n",
    "(a) Load the following packages into your session.\n",
    "\n",
    "* pandas\n",
    "* numpy\n",
    "\n",
    "(b) Read in the following two files and assign to the given variables.\n",
    "\n",
    "netflix - nextflix_data.csv\n",
    "imdb_scores - imdb_scores.csv\n",
    "\n",
    "Note - The data is sourced from [Tidy Tuesday](https://github.com/rfordatascience/tidytuesday) and directly from IMDB. Some data has been altered to suit the difficulty level of this course. This data should be treated as a training set, and so shouldn't be relied upon for 100% accuracy."
   ]
  },
  {
   "cell_type": "code",
   "execution_count": null,
   "id": "124e46ff",
   "metadata": {},
   "outputs": [],
   "source": [
    "# Space for Question 1\n",
    "\n",
    "# (a)\n",
    "\n",
    "# (b)"
   ]
  },
  {
   "cell_type": "markdown",
   "id": "1cadf600",
   "metadata": {},
   "source": [
    "<a id='background'></a>\n",
    "<hr style=\"width:100%;height:4px;border-width:0;color:gray;background-color:#003d59; opacity:1\"> "
   ]
  },
  {
   "cell_type": "markdown",
   "id": "b442dcc0",
   "metadata": {},
   "source": [
    "## Question 2\n",
    "\n",
    "Clean up the column names of imdb_scores. \n"
   ]
  },
  {
   "cell_type": "code",
   "execution_count": 3,
   "id": "7d2a5bd9",
   "metadata": {},
   "outputs": [],
   "source": [
    "# Space for Question 2\n"
   ]
  },
  {
   "cell_type": "markdown",
   "id": "4a512d25",
   "metadata": {},
   "source": [
    "<a id='background'></a>\n",
    "<hr style=\"width:100%;height:4px;border-width:0;color:gray;background-color:#003d59; opacity:1\"> "
   ]
  },
  {
   "cell_type": "markdown",
   "id": "b583ba36",
   "metadata": {},
   "source": [
    "## Question 3\n",
    "\n",
    "What are the dimensions of the Netflix data? Display the result in a sentence. \n"
   ]
  },
  {
   "cell_type": "code",
   "execution_count": null,
   "id": "d0971c9d",
   "metadata": {},
   "outputs": [],
   "source": [
    "# Space for Question 3\n"
   ]
  },
  {
   "cell_type": "markdown",
   "id": "aa9d0f01",
   "metadata": {},
   "source": [
    "<a id='background'></a>\n",
    "<hr style=\"width:100%;height:4px;border-width:0;color:gray;background-color:#003d59; opacity:1\"> "
   ]
  },
  {
   "cell_type": "markdown",
   "id": "4dafb7ca",
   "metadata": {},
   "source": [
    "## Question 4\n",
    "\n",
    "What data types does Netflix have?"
   ]
  },
  {
   "cell_type": "code",
   "execution_count": null,
   "id": "ccfb2350",
   "metadata": {},
   "outputs": [],
   "source": [
    "# Space for Question 4\n"
   ]
  },
  {
   "cell_type": "markdown",
   "id": "053a0b97",
   "metadata": {},
   "source": [
    "<a id='background'></a>\n",
    "<hr style=\"width:100%;height:4px;border-width:0;color:gray;background-color:#003d59; opacity:1\"> "
   ]
  },
  {
   "cell_type": "markdown",
   "id": "c255e870",
   "metadata": {},
   "source": [
    "## Question 5\n",
    "\n",
    "(a) How many missing values do we have in the columns of Netflix?\n",
    "\n",
    "(b) How many missing values do we have in the columns of imdb_scores?"
   ]
  },
  {
   "cell_type": "code",
   "execution_count": null,
   "id": "0621484b",
   "metadata": {},
   "outputs": [],
   "source": [
    "# Space for Question 5\n",
    "\n",
    "# (a)\n",
    "\n",
    "# (b)\n"
   ]
  },
  {
   "cell_type": "markdown",
   "id": "aac676c0",
   "metadata": {},
   "source": [
    "<a id='background'></a>\n",
    "<hr style=\"width:100%;height:4px;border-width:0;color:gray;background-color:#003d59; opacity:1\"> "
   ]
  },
  {
   "cell_type": "markdown",
   "id": "16a94d3f",
   "metadata": {},
   "source": [
    "## Question 6\n",
    "\n",
    "(a) Output a new DataFrame from imdb_scores, where the average rating is greater than 5, name it 'above_avg_movies'.\n",
    "\n",
    "(b) Output a new DataFrame from Netflix, where the films were directed by 'Marcus Raboy' **and** the rating was one of `TV-MA, R, PG-13`. Name it 'raboy_mature_films'.\n"
   ]
  },
  {
   "cell_type": "code",
   "execution_count": null,
   "id": "191df387",
   "metadata": {},
   "outputs": [],
   "source": [
    "# Space for Question 6\n",
    "\n",
    "# (a)\n",
    "\n",
    "# (b)"
   ]
  },
  {
   "cell_type": "markdown",
   "id": "2681a62c",
   "metadata": {},
   "source": [
    "<a id='background'></a>\n",
    "<hr style=\"width:100%;height:4px;border-width:0;color:gray;background-color:#003d59; opacity:1\"> "
   ]
  },
  {
   "cell_type": "markdown",
   "id": "1f3266be",
   "metadata": {},
   "source": [
    "## Question 7\n",
    "\n",
    "How many unique countries are in the column primary_country?"
   ]
  },
  {
   "cell_type": "code",
   "execution_count": null,
   "id": "f13261b4",
   "metadata": {},
   "outputs": [],
   "source": [
    "# Space for Question 7\n"
   ]
  },
  {
   "cell_type": "markdown",
   "id": "f368e571",
   "metadata": {},
   "source": [
    "<a id='background'></a>\n",
    "<hr style=\"width:100%;height:4px;border-width:0;color:gray;background-color:#003d59; opacity:1\"> "
   ]
  },
  {
   "cell_type": "markdown",
   "id": "f61950fb",
   "metadata": {},
   "source": [
    "## Question 8\n",
    "\n",
    "(a) Create a new Dataframe that just contains \"Movie\" data. Ensure that this is a copy so we avoid the `SettingWithCopy` warning. \n",
    "Look at the column called type; this contains if something is a movie or a tv series.\n",
    "\n",
    "(b) Within the movies DataFrame created in part (a), create a new column called runtime, where duration has \"min\" removed, make sure it's numeric!\n",
    "\n",
    "(c) Use the new runtime column to create a binned column containing labels for different lengths of runtime, grouping the films into `0-60`, `61-120`, `121-180`, `181-240`, and `241 or more`. Name this 'runtime_group'. It is recommended that you use `pd.cut()` for this. "
   ]
  },
  {
   "cell_type": "code",
   "execution_count": null,
   "id": "34f37de4",
   "metadata": {},
   "outputs": [],
   "source": [
    "# Space for Question 8\n",
    "\n",
    "# (a)\n",
    "\n",
    "# (b)\n",
    "\n",
    "# (c)\n"
   ]
  },
  {
   "cell_type": "markdown",
   "id": "05f2bc42",
   "metadata": {},
   "source": [
    "<a id='background'></a>\n",
    "<hr style=\"width:100%;height:4px;border-width:0;color:gray;background-color:#003d59; opacity:1\"> "
   ]
  },
  {
   "cell_type": "markdown",
   "id": "472f9311",
   "metadata": {},
   "source": [
    "## Question 9\n",
    "\n",
    "(a) How many missing values are there in the 'num_cast' column of the movies DataFrame?\n",
    "\n",
    "(b) Fill in the missing values of the column with the mean number of cast numbers from the column overall. Ensure that this is rounded to the correct number of decimal places. "
   ]
  },
  {
   "cell_type": "code",
   "execution_count": null,
   "id": "c7e7c0bf",
   "metadata": {},
   "outputs": [],
   "source": [
    "# Space for Question 9\n",
    "\n",
    "# (a) \n",
    "\n",
    "# (b)"
   ]
  },
  {
   "cell_type": "markdown",
   "id": "65940ca7",
   "metadata": {},
   "source": [
    "<a id='background'></a>\n",
    "<hr style=\"width:100%;height:4px;border-width:0;color:gray;background-color:#003d59; opacity:1\"> "
   ]
  },
  {
   "cell_type": "markdown",
   "id": "baf14d3f",
   "metadata": {},
   "source": [
    "## Question 10\n",
    "\n",
    "(a) What's the median runtime of the movie data?\n",
    "\n",
    "(b) What's the mean runtime of the movie data?\n",
    "\n",
    "(c) What's the variance of the runtime of the movie data? Use it to find the standard deviation (without the `.std()` function!)."
   ]
  },
  {
   "cell_type": "code",
   "execution_count": null,
   "id": "badefa11",
   "metadata": {},
   "outputs": [],
   "source": [
    "# Space for Question 10\n",
    "\n",
    "# (a) \n",
    "\n",
    "# (b) \n",
    "\n",
    "# (c)\n"
   ]
  },
  {
   "cell_type": "markdown",
   "id": "5ead60ea",
   "metadata": {},
   "source": [
    "<a id='background'></a>\n",
    "<hr style=\"width:100%;height:4px;border-width:0;color:gray;background-color:#003d59; opacity:1\"> "
   ]
  },
  {
   "cell_type": "markdown",
   "id": "7ff51b9d",
   "metadata": {},
   "source": [
    "## Question 11\n",
    "\n",
    "(a) Sort the movies DataFrame to find the longest movie and return just the columns title and runtime for this data. \n",
    "\n",
    "(b) Sort the movies DataFrame by release_year **and** runtime to find the oldest movie with the longest runtime, returning its director, title, runtime, release year and rating. Reset the index so that we have a new one starting at 0."
   ]
  },
  {
   "cell_type": "code",
   "execution_count": null,
   "id": "8f7095c7",
   "metadata": {},
   "outputs": [],
   "source": [
    "# Space for Question 11\n",
    "\n",
    "# (a) \n",
    "\n",
    "# (b)\n"
   ]
  },
  {
   "cell_type": "markdown",
   "id": "ce8506a5",
   "metadata": {},
   "source": [
    "<a id='background'></a>\n",
    "<hr style=\"width:100%;height:4px;border-width:0;color:gray;background-color:#003d59; opacity:1\"> "
   ]
  },
  {
   "cell_type": "markdown",
   "id": "88ec31fe",
   "metadata": {},
   "source": [
    "## Question 12\n",
    "\n",
    "Group the Netflix data by the primary country and find the mean number of cast listed."
   ]
  },
  {
   "cell_type": "code",
   "execution_count": null,
   "id": "561779fb",
   "metadata": {},
   "outputs": [],
   "source": [
    "# Space for Question 12\n"
   ]
  },
  {
   "cell_type": "markdown",
   "id": "674c585b",
   "metadata": {},
   "source": [
    "<a id='background'></a>\n",
    "<hr style=\"width:100%;height:4px;border-width:0;color:gray;background-color:#003d59; opacity:1\"> "
   ]
  },
  {
   "cell_type": "markdown",
   "id": "43b6f121",
   "metadata": {},
   "source": [
    "## Question 13\n",
    "\n",
    "Group the Netflix data by type and rating and obtain the overall counts of each **type** and the average **cast numbers** for each group."
   ]
  },
  {
   "cell_type": "code",
   "execution_count": null,
   "id": "8334fa07",
   "metadata": {},
   "outputs": [],
   "source": [
    "# Space for Question 13\n"
   ]
  },
  {
   "cell_type": "markdown",
   "id": "55c0d839",
   "metadata": {},
   "source": [
    "<a id='background'></a>\n",
    "<hr style=\"width:100%;height:4px;border-width:0;color:gray;background-color:#003d59; opacity:1\"> "
   ]
  },
  {
   "cell_type": "markdown",
   "id": "9667d2a4",
   "metadata": {},
   "source": [
    "## Question 14\n",
    "\n",
    "Join the imdb data to the Netflix data to add rating scores to the overall dataset. In your join you should include the column that specifies whether the value came from the left or right DataFrame. "
   ]
  },
  {
   "cell_type": "code",
   "execution_count": null,
   "id": "8abd0af9",
   "metadata": {},
   "outputs": [],
   "source": [
    "# Space for Question 14\n"
   ]
  },
  {
   "cell_type": "markdown",
   "id": "016cfb84",
   "metadata": {},
   "source": [
    "<a id='background'></a>\n",
    "<hr style=\"width:100%;height:4px;border-width:0;color:gray;background-color:#003d59; opacity:1\"> "
   ]
  },
  {
   "cell_type": "markdown",
   "id": "10f44a73",
   "metadata": {},
   "source": [
    "# Summary \n",
    "\n",
    "In this case study you have had the opportunity to apply some of the techniques you have learned to some new data. This is not exhaustive however; have a look at the data and experiment with other techniques you can use. \n",
    "\n",
    "A good start would be to continue cleaning the movies dataset, analysing the other columns' missing values and seeing what can be done with them, as there are some that are more complex to consider!\n",
    "\n",
    "For additional datasets we recommend exploring:\n",
    "\n",
    "* [Kaggle](https://www.kaggle.com/)\n",
    "* [Tidy Tuesday](https://github.com/rfordatascience/tidytuesday)\n",
    "* [Data.gov](https://data.gov.uk/)\n"
   ]
  },
  {
   "cell_type": "markdown",
   "id": "08c6037a",
   "metadata": {},
   "source": [
    "<a id='background'></a>\n",
    "<hr style=\"width:100%;height:4px;border-width:0;color:gray;background-color:#003d59; opacity:1\"> "
   ]
  },
  {
   "cell_type": "markdown",
   "id": "e17f3925",
   "metadata": {},
   "source": [
    "# What's Next?\n",
    "\n",
    "Congratulations! You have reached the end of the compulsory materials for Core Part 1 of Introduction to Python. You have consolidated the variety of skills shown throughout the course in a large structured exercise and you should feel very accomplished!\n",
    "\n",
    "You have two options on where to go next, you can either take a look at the Part 1 Reference Materials that build on some more advanced concepts at this level, or you can move on to Core Part 2 that introduces more programmatic concepts in Python that are key to developing your technical skills!\n",
    "\n",
    "Whatever you chose to do, thank-you so much for your dedication in completing these materials! Please do give your honest feedback in the post course survey as we are always looking to improve the quality of our training offering. "
   ]
  },
  {
   "cell_type": "code",
   "execution_count": null,
   "id": "e43eac75",
   "metadata": {},
   "outputs": [],
   "source": []
  }
 ],
 "metadata": {
  "kernelspec": {
   "display_name": "Python 3 (ipykernel)",
   "language": "python",
   "name": "python3"
  },
  "language_info": {
   "codemirror_mode": {
    "name": "ipython",
    "version": 3
   },
   "file_extension": ".py",
   "mimetype": "text/x-python",
   "name": "python",
   "nbconvert_exporter": "python",
   "pygments_lexer": "ipython3",
   "version": "3.9.7"
  }
 },
 "nbformat": 4,
 "nbformat_minor": 5
}
