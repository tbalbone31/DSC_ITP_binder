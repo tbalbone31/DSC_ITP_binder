{
 "cells": [
  {
   "cell_type": "markdown",
   "id": "da71ebbd",
   "metadata": {},
   "source": [
    "<hr style=\"width:100%;height:4px;border-width:0;color:gray;background-color:#003d59; opacity:0.25\"> \n",
    "\n",
    "![Analysis Function and DSC Logo](../images/AF_DSC_banner.png)\n",
    "<hr style=\"width:100%;height:4px;border-width:0;color:gray;background-color:#003d59; opacity:0.25\"> "
   ]
  },
  {
   "cell_type": "markdown",
   "id": "b3b307e8",
   "metadata": {},
   "source": [
    "# Introduction to Python\n",
    "\n",
    "## Chapter 9 -Introducing Core Part 2\n",
    "\n",
    "*Chapter Overview and Learning Objectives*:\n",
    "\n",
    "* [Core Part 2 Outline](#outline)\n",
    "  - Learning Outcomes\n",
    "  - Prerequiste Knowledge\n",
    "  - Format\n",
    "  - Duration\n",
    "\n",
    "* [Packages and Data](#packages)\n",
    "  - Packages\n",
    "  - Data\n",
    " \n",
    "* [Comparison and Logical Operators](#comparison)\n",
    "  - Comparison operators\n",
    "  - Logical operators\n",
    " \n",
    "<a id='packages'></a>\n"
   ]
  },
  {
   "cell_type": "markdown",
   "id": "b5c1a0bd",
   "metadata": {},
   "source": [
    "<a id='packages'></a>\n",
    "<hr style=\"width:100%;height:4px;border-width:0;color:gray;background-color:#003d59; opacity:1\">"
   ]
  },
  {
   "cell_type": "markdown",
   "id": "8fc346a7",
   "metadata": {},
   "source": [
    "# Core Part 2 Outline\n",
    "\n",
    "The content for Core Part 2 originated in the Introduction to Python course. A decision was taken in July 2021 to split the section on loops, control flow and functions away from the main course to allow more time to develop skills.\n",
    "\n",
    "However, during the 2022 curriculum review carried out by the Data Science Campus Faculty, following discussion with various stakeholders who use these courses, it was decided to incorporate this content back into Introduction to Python, as the separation led to many missing out on the key content covered in this course, which is deemed as **essential** to work in the Data Science teams in the public sector.\n",
    "\n",
    "To compromise with the issue of this enlargening Introduction to Python, the decision was made to split the Core material (compulsory) into two parts, to preserve the structure of the original two courses, with Reference material covering optional add-ons for those who wish to develop some advanced skills. \n",
    "\n",
    "* If you completed the Introduction to Python course before August 2021 you will have covered at least some of the content in this module previously. \n",
    "\n",
    "* From August 2021 to September 2022 this content was an individual course called Control Flow, Loops and Functions in Python so if you have done this course you will recognise alot of the content. However, this update adds some new sections and allows it flow from Core Part 1."
   ]
  },
  {
   "cell_type": "markdown",
   "id": "3ac00741",
   "metadata": {},
   "source": [
    "<a id='packages'></a>\n",
    "<hr style=\"width:100%;height:4px;border-width:0;color:gray;background-color:#003d59; opacity:1\">"
   ]
  },
  {
   "cell_type": "markdown",
   "id": "b64fe75c",
   "metadata": {},
   "source": [
    "## Learning Outcomes\n",
    "\n",
    "By the end of Core Part 2 you should be able to:\n",
    "\n",
    "* Use For loops\n",
    "* Use While loops\n",
    "* Use If Elif and Else Control Flow\n",
    "* Use list comprehensions\n",
    "* Write your own functions\n",
    "* Understand Scope in terms of Functions\n",
    "* Use and write Lambda Functions\n",
    "* Be aware of how Functions can be applied to DataFrames\n",
    "* The map function as an alternative to loops\n"
   ]
  },
  {
   "cell_type": "markdown",
   "id": "584d3965",
   "metadata": {},
   "source": [
    "## Prerequiste Knowledge\n",
    "\n",
    "This is the follow on to Core Part 1, which was previously the standalone Introduction to Python course. As such, that content is the pre-requisite for Core Part 2. Breaking this down, we assume familiarity with:\n",
    "\n",
    "* Logical Operators such as less than (<) , greater than (>), equivalent to (==) etc.\n",
    "* Knowledge of the Pandas package, such as reading in data; basic data manipulation.\n",
    "* General basic knowledge of Python code provided by Core Part 1 (you should not start with Core Part 2 if you haven't been introduced to the language). \n",
    "* Jupyter Notebooks (A stand alone Jupyter Notebooks Overview is also available on the Learning Hub).\n",
    "\n",
    "## Format\n",
    "\n",
    "This course was designed using Jupyter Notebooks. The HTML files are availible for accessibility purposes. The learner is expected to follow along with the code in an enviroment of their choice. Please note that some \"magic\" commands (Using a % or %% symbol) will not work in VSCode or other IDEs.\n",
    "\n",
    "## Duration\n",
    "\n",
    "Core Part 2 will take approximately 3 and a half hours to complete."
   ]
  },
  {
   "cell_type": "markdown",
   "id": "711d398b",
   "metadata": {},
   "source": [
    "<a id='packages'></a>\n",
    "<hr style=\"width:100%;height:4px;border-width:0;color:gray;background-color:#003d59; opacity:1\">"
   ]
  },
  {
   "cell_type": "markdown",
   "id": "1a7a3e8c",
   "metadata": {},
   "source": [
    "# Packages and Datasets\n",
    "\n",
    "## Packages\n",
    "\n",
    "In this course we will use `pandas`, and give it the nickname `pd`. It was written using Pandas version `1.0.5`, Python Version 3.8.3 and Anaconda 2020.07. Note that Python is generally versatile with backwards and forwards compatability.\n",
    "\n",
    "## Exercise\n",
    "\n",
    "Import the package `pandas` and give it the well known nickname `pd`."
   ]
  },
  {
   "cell_type": "code",
   "execution_count": 2,
   "id": "011a77b0",
   "metadata": {},
   "outputs": [],
   "source": [
    "# Space for Exercise\n"
   ]
  },
  {
   "cell_type": "markdown",
   "id": "ecae8f1d",
   "metadata": {},
   "source": [
    "## Datasets\n",
    "\n",
    "In this course we’ll be using the following datasets:\n",
    "\n",
    "* animals - animals.csv\n",
    "* titanic - titanic.xlsx\n",
    "\n",
    "## Exercise\n",
    "\n",
    "Load in the datasets mentioned above using the `pd.read_` family of functions."
   ]
  },
  {
   "cell_type": "code",
   "execution_count": null,
   "id": "3df23753",
   "metadata": {},
   "outputs": [],
   "source": [
    "# Space for Exercise\n"
   ]
  },
  {
   "cell_type": "markdown",
   "id": "8110e7bf",
   "metadata": {},
   "source": [
    "You can check your variables are loaded by using `%whos` in Jupyter. In other IDE's they should appear in your **variable explorer**.\n",
    "\n",
    "[return to menu](#menu)"
   ]
  },
  {
   "cell_type": "markdown",
   "id": "991cffb5",
   "metadata": {},
   "source": [
    "<a id='packages'></a>\n",
    "<hr style=\"width:100%;height:4px;border-width:0;color:gray;background-color:#003d59; opacity:1\">"
   ]
  },
  {
   "cell_type": "markdown",
   "id": "ba8fcda0",
   "metadata": {},
   "source": [
    "<a id='comparison'></a>\n",
    "\n",
    "# Comparison and Logical Operators\n",
    "\n",
    "When we use control flow or functions, we will often use comparison operators. We discussed this much earlier in the course during Chapter 4, but since they are so imperative to the use of the programmatic objects we will discuss in this half of the course, we will revise them here.\n",
    "\n",
    "## Comparison Operators\n",
    "\n",
    "As a reminder our comparison operators are:\n",
    "\n",
    "Operator | Description\n",
    "--------------|-----------------\n",
    "== | Equivalent to\n",
    "!= | Not equivalent to\n",
    "< | Less than\n",
    "<= | Less than or equal to\n",
    "> | Greater than\n",
    ">= | Greater than or equal to\n",
    "\n",
    "Our comparison operators return us a Boolean value = `True` or `False`. Let's see some examples.\n",
    "\n",
    "### Examples\n"
   ]
  },
  {
   "cell_type": "code",
   "execution_count": 3,
   "id": "18653a22",
   "metadata": {},
   "outputs": [
    {
     "name": "stdout",
     "output_type": "stream",
     "text": [
      "False\n",
      "True\n",
      "True\n",
      "True\n"
     ]
    }
   ],
   "source": [
    "print(4 == 2)\n",
    "print(\"Hannah\" != \"hannah\")\n",
    "print(True > False)\n",
    "print(1 > 0) # Same as the one above - think about the numbers behind Boolean values"
   ]
  },
  {
   "cell_type": "markdown",
   "id": "79c65396",
   "metadata": {},
   "source": [
    "This also applies to `pandas` Series where it checks each element individually."
   ]
  },
  {
   "cell_type": "code",
   "execution_count": null,
   "id": "368d226f",
   "metadata": {},
   "outputs": [],
   "source": [
    "(titanic[\"sex\"] == \"female\").head()"
   ]
  },
  {
   "cell_type": "markdown",
   "id": "ddc4ea7a",
   "metadata": {},
   "source": [
    "<a id='packages'></a>\n",
    "<hr style=\"width:100%;height:4px;border-width:0;color:gray;background-color:#003d59; opacity:1\">"
   ]
  },
  {
   "cell_type": "markdown",
   "id": "5b38bb20",
   "metadata": {},
   "source": [
    "## Logical Operators\n",
    "\n",
    "We also have our logical operators:\n",
    "\n",
    "|Operator | Description |\n",
    "|--------------|-------------- |\n",
    "| & | And |\n",
    "| &#124; | Or |\n",
    "| ! | Not |\n",
    "\n",
    "We can use these to join our conditional statements, which we covered in the Multi-Conditional Filtering section in Chapter 4. Here we include the truth table again just for completeness should you want to keep your tabs open restricted to Core Part 2.\n",
    "\n",
    "\n",
    "| Condition 1 | Condition 2  | & (AND) Equates to | &#124; (OR) Equates to |\n",
    "|:-----------:|:------------:|:------------------:|:------------------:|\n",
    "|     True    |     True     |        True        |        True        |\n",
    "|     True    |     False    |        False       |        True        |\n",
    "|    False    |     True     |        False       |        True        |\n",
    "|    False    |     False    |        False       |        False       |\n",
    "\n",
    "### Examples\n",
    "\n",
    "Here I've filtered the `titanic` dataframe to show female passengers with a recorded age under 18.\n"
   ]
  },
  {
   "cell_type": "code",
   "execution_count": null,
   "id": "1def902b",
   "metadata": {},
   "outputs": [],
   "source": [
    "titanic_f_kids = titanic[(titanic[\"sex\"] == \"female\") & (titanic[\"age\"] < 18)]\n",
    "\n",
    "titanic_f_kids.head()"
   ]
  },
  {
   "cell_type": "markdown",
   "id": "eeb95abf",
   "metadata": {},
   "source": [
    "For more examples and involved exercises on this topic, consult Chapter 4 - Working with DataFrames."
   ]
  },
  {
   "cell_type": "markdown",
   "id": "e4934975",
   "metadata": {},
   "source": [
    "# Chapter Summary\n",
    "\n",
    "Awesome job getting started with Core Part 2! Now that you have revised some of the operators that will be incredibly important for the chapters here, you can move forward!\n",
    "\n",
    "In Chapter 10, we will introduce some incredibly important programmatic concepts, including\n",
    "\n",
    "* For Loops\n",
    "* While Loops\n",
    "* Control Flow: if-elif-else chains"
   ]
  }
 ],
 "metadata": {
  "kernelspec": {
   "display_name": "Python 3 (ipykernel)",
   "language": "python",
   "name": "python3"
  },
  "language_info": {
   "codemirror_mode": {
    "name": "ipython",
    "version": 3
   },
   "file_extension": ".py",
   "mimetype": "text/x-python",
   "name": "python",
   "nbconvert_exporter": "python",
   "pygments_lexer": "ipython3",
   "version": "3.9.7"
  }
 },
 "nbformat": 4,
 "nbformat_minor": 5
}
