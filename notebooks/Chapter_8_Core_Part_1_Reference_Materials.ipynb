{
 "cells": [
  {
   "cell_type": "markdown",
   "metadata": {},
   "source": [
    "<hr style=\"width:100%;height:4px;border-width:0;color:gray;background-color:#003d59; opacity:0.25\"> \n",
    "\n",
    "![Analysis Function and DSC Logo](../images/AF_DSC_banner.png)\n",
    "<hr style=\"width:100%;height:4px;border-width:0;color:gray;background-color:#003d59; opacity:0.25\"> \n"
   ]
  },
  {
   "cell_type": "markdown",
   "metadata": {},
   "source": [
    "<a id='menu'></a>\n",
    "# Introduction to Python\n",
    "\n",
    "## Chapter 8 –  Core Part 1 Reference Materials\n",
    "\n",
    "This notebook contains supplementary material to the main course. This is material that we couldn’t quite squeeze into the course but might be useful or interesting for you.\n",
    "\n",
    "\n",
    "*Chapter Overview*\n",
    "\n",
    "* [Packages and Data](#packages)\n",
    " * Packages\n",
    " * Data\n",
    "\n",
    "* [Selecting rows with `loc` and `iloc`](#loc_iloc)\n",
    "\n",
    "* [Cross Tabs and Pivot Tables](#crosstabs_pivot)\n",
    " * Cross Tabs\n",
    " * Pivot Tables\n",
    " \n",
    "* [Numpy Select Function](#np_select)"
   ]
  },
  {
   "cell_type": "markdown",
   "metadata": {},
   "source": [
    "<a id='packages'></a>\n",
    "<hr style=\"width:100%;height:4px;border-width:0;color:gray;background-color:#003d59; opacity:1\"> "
   ]
  },
  {
   "cell_type": "markdown",
   "metadata": {},
   "source": [
    "# Packages and Data\n",
    "\n",
    "## Packages\n",
    "\n",
    "Good practice dictates that we should always import our packages at the top of our script. In this session we will use `pandas`, and give it the nickname `pd` and `numpy` with the nickname `np`. \n"
   ]
  },
  {
   "cell_type": "code",
   "execution_count": null,
   "metadata": {},
   "outputs": [],
   "source": [
    "# Import pandas and numpy into this cell\n"
   ]
  },
  {
   "cell_type": "markdown",
   "metadata": {},
   "source": [
    "The next step is to load in the data that you will be using:\n",
    "\n",
    "* animals - animals.csv\n",
    "* titanic - titanic.xlsx"
   ]
  },
  {
   "cell_type": "code",
   "execution_count": null,
   "metadata": {},
   "outputs": [],
   "source": [
    "# Read in the datasets we will use\n"
   ]
  },
  {
   "cell_type": "markdown",
   "metadata": {},
   "source": [
    "[return to menu](#menu)"
   ]
  },
  {
   "cell_type": "markdown",
   "metadata": {},
   "source": [
    "<a id='loc_iloc'></a>\n",
    "<hr style=\"width:100%;height:4px;border-width:0;color:gray;background-color:#003d59; opacity:1\"> "
   ]
  },
  {
   "cell_type": "markdown",
   "metadata": {},
   "source": [
    "## Selecting Rows with `loc` and `iloc`\n",
    "\n",
    "## What are these useful functions?\n",
    "\n",
    "In the section on updating values in Chapter 4, this course talks about how loc could be used to do the equivalent selecting we had done with indexing. Here we will expand on this function and show more examples of its use, as well as its brother iloc. \n",
    "\n",
    "* `.loc[]` can be used to access groups of rows and columns either by using labels (their name) or a Boolean array as follows:\n",
    "\n",
    "`.loc[row_label, column_label]`\n",
    "\n",
    "* `.iloc[]` can be used to access groups of rows and columns by using their integer position, rather than having to know the names as follows:\n",
    "\n",
    "`.iloc[row:row, col:col]`\n",
    "\n",
    "We can also use integer positions inside `.loc()` but there is a subtle way this can go wrong and is why one is used for labels, the other for integer positions. It applies in the particular case that we have indexes that **don't** start from 0, and as such referencing by label may not always return the value that you want, whereas numerically, this will always find the first row and so on.\n",
    "\n",
    "In both the `animals` and `titanic` dataset our row labels are a sequential index starting at 0, so it doesn't matter which of the functions we use, however, since this course aims to follow good practice, we will be using `.iloc[]` for the integer positions. \n",
    "\n",
    "Recall from Chapter 2 that we can use a colon to denote a slice; e.g. 0:5 will return rows 0 to 5. An empty slice (just a semi-colon) tells Python that we want **all** rows/columns.Another subtle difference between the functions comes into play here:\n",
    "\n",
    "* In `.loc[]`, the slice we give is **inclusive**, therefore both end points are included. \n",
    "\n",
    "* In `.iloc[]`, the slice we give is **exclusive** at the end, so the last value is excluded, e.g. 0:5 will return 0-4. "
   ]
  },
  {
   "cell_type": "markdown",
   "metadata": {},
   "source": [
    "## Selecting rows and columns with loc and iloc\n",
    "\n",
    "Let's see some examples using these functions.\n",
    "\n",
    "### Example\n",
    "\n",
    "Here this behaviour mimics that of `animals.head()`"
   ]
  },
  {
   "cell_type": "code",
   "execution_count": null,
   "metadata": {
    "scrolled": true
   },
   "outputs": [],
   "source": [
    "animals.loc[0:5, :] # Rows 0 to 5, all columns"
   ]
  },
  {
   "cell_type": "markdown",
   "metadata": {},
   "source": [
    "### Exercise\n",
    "\n",
    "Replicate the above result using `loc[]` instead of `iloc[]` to appreciate the differences between them."
   ]
  },
  {
   "cell_type": "code",
   "execution_count": null,
   "metadata": {},
   "outputs": [],
   "source": [
    "# Space for Exercise\n"
   ]
  },
  {
   "cell_type": "markdown",
   "metadata": {},
   "source": [
    "Columns can be selected with `.loc[]` by passing either an individual value or a list to the columns label. This can be done as a separate variable and then referenced in the loc statement, or all in one line for the most efficient (albeit less readable) code.\n",
    "\n",
    "### Example"
   ]
  },
  {
   "cell_type": "code",
   "execution_count": null,
   "metadata": {
    "scrolled": true
   },
   "outputs": [],
   "source": [
    "my_columns = [\"IncidentNumber\", \"FinalDescription\" ,  \"London\"]\n",
    "animals.loc[0:4, my_columns] # Rows 0 to 4, select columns"
   ]
  },
  {
   "cell_type": "markdown",
   "metadata": {},
   "source": [
    "When using `.iloc[]`, we can also reference columns by numerical position (either positive or negative, yes negative indexing is still in play!).\n",
    "\n",
    "### Example"
   ]
  },
  {
   "cell_type": "code",
   "execution_count": null,
   "metadata": {
    "scrolled": false
   },
   "outputs": [],
   "source": [
    "animals.iloc[0:4, [0, 9 , -1 ]] # First, Eighth and Last column"
   ]
  },
  {
   "cell_type": "markdown",
   "metadata": {},
   "source": [
    "What if we want to return all rows for specific columns? Or all columns for specific rows?\n",
    "\n",
    "### Example"
   ]
  },
  {
   "cell_type": "markdown",
   "metadata": {},
   "source": [
    "If the columns index is left blank all columns are returned."
   ]
  },
  {
   "cell_type": "code",
   "execution_count": null,
   "metadata": {},
   "outputs": [],
   "source": [
    "animals.loc[0:4]"
   ]
  },
  {
   "cell_type": "markdown",
   "metadata": {},
   "source": [
    "If you wish to return all rows of a specific column (or set of columns) you must show this by using using a colon for the rows."
   ]
  },
  {
   "cell_type": "code",
   "execution_count": null,
   "metadata": {},
   "outputs": [],
   "source": [
    "animals.loc[:, \"DateTimeOfCall\"]"
   ]
  },
  {
   "cell_type": "markdown",
   "metadata": {},
   "source": [
    "So far we have showed multiple values; but both `.loc[]` and `.iloc[]` can be used to retrieve individual values as well. This might not be particularly useful in either of these training datasets; but would be useful for say extracting a singular value from a time series data set."
   ]
  },
  {
   "cell_type": "code",
   "execution_count": null,
   "metadata": {},
   "outputs": [],
   "source": [
    "animals.loc[123, \"FinalDescription\"]"
   ]
  },
  {
   "cell_type": "markdown",
   "metadata": {},
   "source": [
    "## Filtering with loc and iloc\n",
    "\n",
    "As seen in Chapter 4, `.loc[]` can also be used as a filter, which we used this to update values; but it can also be used to just return them as well. To do this we pass a filtering condition to the row index. Again this can be done in place (as below) or defined separately. \n",
    "\n",
    "### Example"
   ]
  },
  {
   "cell_type": "code",
   "execution_count": null,
   "metadata": {},
   "outputs": [],
   "source": [
    "animals.loc[animals[\"AnimalGroupParent\"] ==  \"Rabbit\"]"
   ]
  },
  {
   "cell_type": "markdown",
   "metadata": {},
   "source": [
    "Above we returned all columns but this can be controlled as well. "
   ]
  },
  {
   "cell_type": "code",
   "execution_count": null,
   "metadata": {
    "scrolled": true
   },
   "outputs": [],
   "source": [
    "animals.loc[animals[\"AnimalGroupParent\"] ==  \"Rabbit\", # Select rows that match the criteria\n",
    "            [\"IncidentNumber\", \"SpecialServiceType\" ] ] # Select columns"
   ]
  },
  {
   "cell_type": "markdown",
   "metadata": {},
   "source": [
    "### Exercise\n",
    "\n",
    "Locate the rows where the `AnimalGroupParent` was 'Squirrel' or 'Ferret', returning the columns `IncidentNumber` and `IncidentNominalCost(£)`. \n",
    "\n",
    "Remember that or is denoted with | in Python!"
   ]
  },
  {
   "cell_type": "code",
   "execution_count": null,
   "metadata": {},
   "outputs": [],
   "source": [
    "# Space for Exercise\n"
   ]
  },
  {
   "cell_type": "markdown",
   "metadata": {},
   "source": [
    "[return to menu](#menu)"
   ]
  },
  {
   "cell_type": "markdown",
   "metadata": {},
   "source": [
    "<a id='crosstabs_pivot'></a>\n",
    "<hr style=\"width:100%;height:4px;border-width:0;color:gray;background-color:#003d59; opacity:1\"> "
   ]
  },
  {
   "cell_type": "markdown",
   "metadata": {},
   "source": [
    "# Cross Tabs and Pivot Tables\n",
    "\n",
    "In this section we will look at some functions that offer alternate ways of performing aggregation, similar to `.groupby()`. The first of which is a cross-tabulation table.\n",
    "\n",
    "## Cross Tabulation Tables\n",
    "\n",
    "A cross-tabulation table allows you to generate frequencies for combinations of groups of data. They are often referred to as 'contingency tables' and 'two-way tables' and, although there may be some subtle distinctions, these all refer to the setting of one categorical variable against another, creating a matrix, and then counting, or otherwise aggregating by cell values.\n",
    "\n",
    "### Example\n",
    "\n",
    "To create cross-tabulations, you can use the `pd.crosstab()` function with the required parameters `index` and `columns`, where the index values are the row categories and the columns are the column categories."
   ]
  },
  {
   "cell_type": "code",
   "execution_count": null,
   "metadata": {},
   "outputs": [],
   "source": [
    "# Crosstab the new variable 'London' by 'AnimalClass'\n",
    "\n",
    "pd.crosstab(animals['London'],animals['AnimalClass'])"
   ]
  },
  {
   "cell_type": "markdown",
   "metadata": {},
   "source": [
    "This produces cell counts for the cross-tabulation of the two categories, so there were 457 records that were both 'Inner London' and 'Bird'.\n",
    "\n",
    "We can also augment the cross-tab with some other parameters:\n",
    "\n",
    "*\tmargins, to add row and column totals when set to `True`.\n",
    "*\tnormalize, to create row or column proportions, or overall proportions, rather than frequencies. Keywords are 'index', 'columns' or 'all'.\n",
    "\n"
   ]
  },
  {
   "cell_type": "markdown",
   "metadata": {},
   "source": [
    "### Examples"
   ]
  },
  {
   "cell_type": "code",
   "execution_count": null,
   "metadata": {},
   "outputs": [],
   "source": [
    "# Check out margins\n",
    "\n",
    "pd.crosstab(animals['London'],\n",
    "            animals['AnimalClass'], \n",
    "            margins=True)"
   ]
  },
  {
   "cell_type": "markdown",
   "metadata": {},
   "source": [
    ".Compute row proportions, with normalize as 'index'"
   ]
  },
  {
   "cell_type": "code",
   "execution_count": null,
   "metadata": {},
   "outputs": [],
   "source": [
    "# Example\n",
    "\n",
    "pd.crosstab(animals['London'],\n",
    "            animals['AnimalClass'], \n",
    "            normalize = 'index', \n",
    "            margins=True)"
   ]
  },
  {
   "cell_type": "markdown",
   "metadata": {},
   "source": [
    "Compute overall proportions with margins as 'all'."
   ]
  },
  {
   "cell_type": "code",
   "execution_count": null,
   "metadata": {},
   "outputs": [],
   "source": [
    "# Example\n",
    "\n",
    "pd.crosstab(animals['London'],\n",
    "            animals['AnimalClass'], \n",
    "            normalize = 'all', \n",
    "            margins=True)"
   ]
  },
  {
   "cell_type": "markdown",
   "metadata": {},
   "source": [
    "Finally, by using the 'values' parameter, we can use a column to produce a similar output to the .groupby() on 'AnimalClass' and 'Borough', but in a different data structure. For this to work we also need to specify the parameter 'aggfunc', where we specify (as a string) the summary statistic we want to compute. "
   ]
  },
  {
   "cell_type": "code",
   "execution_count": null,
   "metadata": {},
   "outputs": [],
   "source": [
    "pd.crosstab(animals['Borough'],\n",
    "            animals['AnimalClass'],\n",
    "            values = animals['IncidentNominalCost(£)'],\n",
    "            aggfunc='sum').head(6)"
   ]
  },
  {
   "cell_type": "markdown",
   "metadata": {},
   "source": [
    "### Exercise\n",
    "\n",
    "Create a cross tabulation table with the following characteristics:\n",
    "\n",
    "* The row category is 'SpecialServiceTypeCategory'\n",
    "* The column category is 'AnimalClass'\n",
    "* The values computed are for 'HourlyNominalCost(£)'\n",
    "* The aggregation function of choice is the mean"
   ]
  },
  {
   "cell_type": "code",
   "execution_count": null,
   "metadata": {},
   "outputs": [],
   "source": [
    "# Space for Exercise\n"
   ]
  },
  {
   "cell_type": "markdown",
   "metadata": {},
   "source": [
    "[return to menu](#menu)"
   ]
  },
  {
   "cell_type": "markdown",
   "metadata": {},
   "source": [
    "<hr style=\"width:70%;height:4px;border-width:0;color:gray;background-color:#003d59; opacity:0.75\"> "
   ]
  },
  {
   "cell_type": "markdown",
   "metadata": {},
   "source": [
    "## Pivot Tables\n",
    "\n",
    "Pandas also provides a .pivot_table() function, which acts a bit like the .groupby() and .crosstab() function combined, but is set out in a way that may be more intuitive to people used to using pivot tables in spreadsheets, as opposed to crosstabs or aggregations in statistical software.\n",
    "\n",
    "### Example\n",
    "\n",
    "Here we reproduce the two-group aggregation behaviour of groupby and crosstab."
   ]
  },
  {
   "cell_type": "code",
   "execution_count": null,
   "metadata": {},
   "outputs": [],
   "source": [
    "pd.pivot_table(data = animals,\n",
    "               values = 'IncidentNominalCost(£)', \n",
    "               index='Borough',\n",
    "               columns='AnimalClass',\n",
    "               aggfunc='sum',\n",
    "               fill_value=0).head()"
   ]
  },
  {
   "cell_type": "markdown",
   "metadata": {},
   "source": [
    "In addition, pivot tables can also behave almost identically to .groupby() if you want an aggregation by a single group (which crosstab cannot do):"
   ]
  },
  {
   "cell_type": "code",
   "execution_count": null,
   "metadata": {},
   "outputs": [],
   "source": [
    "pd.pivot_table(data=animals,values='IncidentNominalCost(£)',\n",
    "               index='AnimalClass',\n",
    "               aggfunc='sum')"
   ]
  },
  {
   "cell_type": "markdown",
   "metadata": {},
   "source": [
    "In this sense, your approach to aggregating data can be led by whichever method you feel more comfortable applying as there is clearly overlap between the functions. In terms of clarity, directed use of .crosstab() or .groupby() may be more instructive to reader than .pivot_table() as pivot table necessarily requires a little more engagement to understand exactly what process data are undergoing."
   ]
  },
  {
   "cell_type": "markdown",
   "metadata": {},
   "source": [
    "[return to menu](#menu)"
   ]
  },
  {
   "cell_type": "markdown",
   "metadata": {},
   "source": [
    "<a id='np_select'></a>\n",
    "<hr style=\"width:100%;height:4px;border-width:0;color:gray;background-color:#003d59; opacity:1\"> "
   ]
  },
  {
   "cell_type": "markdown",
   "metadata": {},
   "source": [
    "# Numpy Select Function\n",
    "\n",
    "Whilst a chapter introducing Numpy's exclusive datatype, the array will be added to this course at a later date, we feel that it is a good time to introduce one of the packages' incredibly useful functions, which provides an alternative to some of the pandas methodology. This function is the `np.select()` function and it can be used to apply conditions to a DataFrame. \n",
    "\n",
    "## Example - Breaking it Down\n",
    "\n",
    "I want to add in a new column to the titanic dataset with the country people embarked in. For Southampton (S) this would be England, Cherbourg (C) that would be France and for Queenstown (Q) that would be Ireland. There’s also 2 missing values in this column that I want to put a default value “Unknown” in.\n",
    "\n",
    "While this can all be done in one line; here the steps have been split out to make it easier to comprehend.\n",
    " \n",
    "First we need to create some conditions. These are created as a list, and are the same as filtering conditions we looked at in Chapter 4."
   ]
  },
  {
   "cell_type": "code",
   "execution_count": null,
   "metadata": {},
   "outputs": [],
   "source": [
    "conditions = [\n",
    "    (titanic[\"embarked\"] == \"S\"),\n",
    "    (titanic[\"embarked\"] == \"C\"),\n",
    "    (titanic[\"embarked\"] == \"Q\"),\n",
    "]"
   ]
  },
  {
   "cell_type": "markdown",
   "metadata": {},
   "source": [
    "We then create the values that will be used in our new column (what the conditions will be assigned to) these are in the same order as our conditions we created above."
   ]
  },
  {
   "cell_type": "code",
   "execution_count": null,
   "metadata": {},
   "outputs": [],
   "source": [
    "values = [\"England\", \"France\", \"Ireland\"]"
   ]
  },
  {
   "cell_type": "markdown",
   "metadata": {},
   "source": [
    "We can now use these values in our `np.select()` statement. First we create a new column, here we will call it `embarked_country`; again if we wanted to we could overwrite an existing column. The function takes three arguments:\n",
    "\n",
    "* `condlist = ` which is the list of our conditions\n",
    "* `choicelist =` which is the list of values we want to use when conditions are met (evaluate to True)\n",
    "* `default = ` which is the value that will be used if none of the conditions are met.\n",
    "\n",
    "Note that in the below where I am samplying using `.sample()`, I have set something called a `random_state =` which can be any numeric value. This sets what's called a **seed** of the randomiser and makes it so that we get the same result each time we run this cell. The initial run will be randomised, but it is then **fixed** from that point on. This is particularly useful when we want to make our results reproducible. \n"
   ]
  },
  {
   "cell_type": "code",
   "execution_count": null,
   "metadata": {
    "scrolled": false
   },
   "outputs": [],
   "source": [
    "titanic[\"embarked_country\"] = np.select(condlist = conditions, choicelist= values, default= \"Unknown\")\n",
    "\n",
    "titanic.sample(10, random_state = 42)"
   ]
  },
  {
   "cell_type": "markdown",
   "metadata": {},
   "source": [
    "If we use a filter we can see the \"Unknown\" values show where embarked was `NaN`"
   ]
  },
  {
   "cell_type": "code",
   "execution_count": null,
   "metadata": {},
   "outputs": [],
   "source": [
    "titanic[titanic[\"embarked_country\"] == \"Unknown\"]"
   ]
  },
  {
   "cell_type": "markdown",
   "metadata": {},
   "source": [
    "## Example 2 - The use of Default\n",
    "\n",
    "You see here that `default = ` is very useful, as it can be set to a column; if none of the values in our `condlist = ` match then it uses the value from an existing cell.\n",
    "\n",
    "Again this is a very artificial scenario, but I want to label anyone travelling with more than 5 family members on board (sibsp + parch + themselves) as part of a “Big” family. Anyone travelling by themselves as a “None” family on board. For all other family sizes I want to just display the size of the family by referencing the values in the columns.\n",
    "\n",
    "I’ve used `.loc[]` (see above) to select some specific rows so the effect can be seen."
   ]
  },
  {
   "cell_type": "code",
   "execution_count": null,
   "metadata": {},
   "outputs": [],
   "source": [
    "family_size = [\n",
    "    ( (titanic[\"parch\"] + titanic[\"sibsp\"] + 1 ) >= 5 ),\n",
    "    ( (titanic[\"parch\"] + titanic[\"sibsp\"] + 1 ) == 1 ) ]\n",
    "\n",
    "family_size_string = [\"Big\", \"None\"]\n",
    "\n",
    "titanic[\"family_on_board\"] = np.select(condlist = family_size,\n",
    "                                       choicelist= family_size_string,\n",
    "                                       default= (titanic[\"parch\"] + titanic[\"sibsp\"] + 1 ))\n",
    "\n",
    "# .loc used here to show one row with each of the values\n",
    "titanic.loc[ [111,1237,140, 3]]"
   ]
  },
  {
   "cell_type": "markdown",
   "metadata": {},
   "source": [
    "### Exercise \n",
    "\n",
    "Use the `np.select()` function to create a new column 'pclass_string' which assigns the values `first`, `second`, and `third` to `pclass` conditions of `=1`, `=2` and `=3`. Set the default value to `unknown` and display the results using `.sample()` with a random state of your choice to observe the effect."
   ]
  },
  {
   "cell_type": "code",
   "execution_count": null,
   "metadata": {},
   "outputs": [],
   "source": [
    "# Space for Exercise\n"
   ]
  },
  {
   "cell_type": "markdown",
   "metadata": {},
   "source": [
    "[return to menu](#menu)"
   ]
  },
  {
   "cell_type": "markdown",
   "metadata": {},
   "source": [
    "<a id='end'></a>\n",
    "<hr style=\"width:100%;height:4px;border-width:0;color:gray;background-color:#003d59; opacity:1\"> "
   ]
  },
  {
   "cell_type": "markdown",
   "metadata": {},
   "source": [
    "## End of Chapter"
   ]
  },
  {
   "cell_type": "markdown",
   "metadata": {},
   "source": [
    "Congratulations! You have reached the end of the reference materials for Core Part 1 of Introduction to Python. You should be so proud of yourself tackling the advanced content, which puts you in a great stead for continuing your development as a Python Pro!\n",
    "\n",
    "Any suggestions for content to add to this material would be very much appreciated! Remember that content on Control Flow, Loops, Functions and more is relegated to Core Part 2, so any suggestions for Core Part 1 should not require those as a pre-requisite!\n",
    "\n",
    "Thank-you so much for your dedication in completing this material! Now you can move on to Core Part 2, where more programmatic concepts in Python will be introduced. \n"
   ]
  },
  {
   "cell_type": "markdown",
   "metadata": {},
   "source": [
    "[return to menu](#menu)"
   ]
  }
 ],
 "metadata": {
  "kernelspec": {
   "display_name": "Python 3 (ipykernel)",
   "language": "python",
   "name": "python3"
  },
  "language_info": {
   "codemirror_mode": {
    "name": "ipython",
    "version": 3
   },
   "file_extension": ".py",
   "mimetype": "text/x-python",
   "name": "python",
   "nbconvert_exporter": "python",
   "pygments_lexer": "ipython3",
   "version": "3.9.7"
  }
 },
 "nbformat": 4,
 "nbformat_minor": 2
}
